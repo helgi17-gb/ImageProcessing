{
  "cells": [
    {
      "cell_type": "markdown",
      "metadata": {
        "id": "view-in-github",
        "colab_type": "text"
      },
      "source": [
        "<a href=\"https://colab.research.google.com/github/helgi17-gb/ImageProcessing/blob/master/%D0%A3%D1%84%D0%B0_contest.ipynb\" target=\"_parent\"><img src=\"https://colab.research.google.com/assets/colab-badge.svg\" alt=\"Open In Colab\"/></a>"
      ]
    },
    {
      "cell_type": "code",
      "execution_count": 1,
      "metadata": {
        "id": "Gzuv2run9Yxa"
      },
      "outputs": [],
      "source": [
        "import pandas as pd \n",
        "import numpy as np\n",
        "import glob\n",
        "from tqdm import tqdm\n",
        "import cv2\n",
        "from sklearn.model_selection import train_test_split\n",
        "\n",
        "import torch\n",
        "import torch.nn as nn\n",
        "import torch.optim as optim\n",
        "from torch.utils.data import Dataset\n",
        "from torchvision import datasets, models, transforms\n",
        "from torchvision.models import resnet18\n",
        "\n",
        "from PIL import Image\n",
        "import matplotlib.pyplot as plt\n",
        "from IPython.display import clear_output\n",
        "\n",
        "from sklearn.metrics import roc_auc_score, roc_curve, auc , accuracy_score"
      ]
    },
    {
      "cell_type": "code",
      "source": [
        "!wget https://lodmedia.hb.bizmrg.com/case_files/758085/train_dataset_train.zip"
      ],
      "metadata": {
        "colab": {
          "base_uri": "https://localhost:8080/"
        },
        "id": "S693ra_Lbb4o",
        "outputId": "de7bded3-26f8-40a3-e5a1-d960b707c2d5"
      },
      "execution_count": 2,
      "outputs": [
        {
          "output_type": "stream",
          "name": "stdout",
          "text": [
            "--2022-07-03 20:50:31--  https://lodmedia.hb.bizmrg.com/case_files/758085/train_dataset_train.zip\n",
            "Resolving lodmedia.hb.bizmrg.com (lodmedia.hb.bizmrg.com)... 217.69.142.100\n",
            "Connecting to lodmedia.hb.bizmrg.com (lodmedia.hb.bizmrg.com)|217.69.142.100|:443... connected.\n",
            "HTTP request sent, awaiting response... 200 OK\n",
            "Length: 101641284 (97M) [application/zip]\n",
            "Saving to: ‘train_dataset_train.zip’\n",
            "\n",
            "train_dataset_train 100%[===================>]  96.93M  21.2MB/s    in 4.6s    \n",
            "\n",
            "2022-07-03 20:50:36 (21.2 MB/s) - ‘train_dataset_train.zip’ saved [101641284/101641284]\n",
            "\n"
          ]
        }
      ]
    },
    {
      "cell_type": "code",
      "source": [
        "!wget https://lodmedia.hb.bizmrg.com/case_files/758085/test_dataset_test.zip"
      ],
      "metadata": {
        "colab": {
          "base_uri": "https://localhost:8080/"
        },
        "id": "gdnjde_Pdi-k",
        "outputId": "d740501a-60dd-46f5-b387-a9362f9b19b6"
      },
      "execution_count": 3,
      "outputs": [
        {
          "output_type": "stream",
          "name": "stdout",
          "text": [
            "--2022-07-03 20:50:52--  https://lodmedia.hb.bizmrg.com/case_files/758085/test_dataset_test.zip\n",
            "Resolving lodmedia.hb.bizmrg.com (lodmedia.hb.bizmrg.com)... 217.69.142.100\n",
            "Connecting to lodmedia.hb.bizmrg.com (lodmedia.hb.bizmrg.com)|217.69.142.100|:443... connected.\n",
            "HTTP request sent, awaiting response... 200 OK\n",
            "Length: 34409282 (33M) [application/zip]\n",
            "Saving to: ‘test_dataset_test.zip’\n",
            "\n",
            "test_dataset_test.z 100%[===================>]  32.81M   763KB/s    in 45s     \n",
            "\n",
            "2022-07-03 20:51:38 (742 KB/s) - ‘test_dataset_test.zip’ saved [34409282/34409282]\n",
            "\n"
          ]
        }
      ]
    },
    {
      "cell_type": "code",
      "source": [
        "!mkdir ufa"
      ],
      "metadata": {
        "id": "emFCGDbAh5pr"
      },
      "execution_count": 4,
      "outputs": []
    },
    {
      "cell_type": "code",
      "source": [
        "!unzip train_dataset_train.zip -d ufa/"
      ],
      "metadata": {
        "id": "Tyx_DJJYbhmo",
        "colab": {
          "base_uri": "https://localhost:8080/"
        },
        "outputId": "2b8c3656-31a7-4fe6-87e9-2042e167ef43"
      },
      "execution_count": 5,
      "outputs": [
        {
          "output_type": "stream",
          "name": "stdout",
          "text": [
            "Archive:  train_dataset_train.zip\n",
            "  inflating: ufa/train.csv           \n",
            "  inflating: ufa/Уфа_baseline.ipynb  \n",
            "   creating: ufa/train/\n",
            "  inflating: ufa/train/220301070305_0e13309ae71ffc37ba629d19f46e0784.jpg  \n",
            "  inflating: ufa/train/220301070430_df1a737a5abe3707b424fbe9d1d92300.jpg  \n",
            "  inflating: ufa/train/220301070439_91576ea7fbb6567ff743e271662f9d06.jpg  \n",
            "  inflating: ufa/train/220301070525_8e9cf12c82b056104cfd8868f5958c3e.jpg  \n",
            "  inflating: ufa/train/220301070535_78bd475d54865dc7b1c356f3436def6e.jpg  \n",
            "  inflating: ufa/train/220301070614_4c1a339dd5056cd9747f3b4693f27b1b.jpg  \n",
            "  inflating: ufa/train/220301070625_1be30d27fcfc119ed8dee6037a9ab385.jpg  \n",
            "  inflating: ufa/train/220301070852_6431af3f1d3517498811dfa67f8a30be.jpg  \n",
            "  inflating: ufa/train/220301070914_9f40eac64f72c8d6ee0e7f4fa37dc4ba.jpg  \n",
            "  inflating: ufa/train/220301071234_2e7ed5acd0a8e8682b28f6618e7694c9.jpg  \n",
            "  inflating: ufa/train/220301071302_180763d363e88725cc11143fb6923c1c.jpg  \n",
            "  inflating: ufa/train/220301071500_fc5d48ef20ecb259c53d05b7f7888c62.jpg  \n",
            "  inflating: ufa/train/220301071650_7596075bf9eceda9ecab933d3d55a6dc.jpg  \n",
            "  inflating: ufa/train/220301072145_dd2c634ed264a650d6c31e0f781db56f.jpg  \n",
            "  inflating: ufa/train/220301072554_abcb830598585dfcdf17eec5b3514ab8.jpg  \n",
            "  inflating: ufa/train/220301072637_cf8e28c1edf379eb195ae78e914fb7fb.jpg  \n",
            "  inflating: ufa/train/220301072950_4ab3ae8c45749d88563463258f69c138.jpg  \n",
            "  inflating: ufa/train/220301072951_71efe2bf411ee0f5f8ea4cd1c838070e.jpg  \n",
            "  inflating: ufa/train/220301073159_36707f826e6e9129baa9fa771d0e992d.jpg  \n",
            "  inflating: ufa/train/220301073337_335dc629b22aaa294d4ede116387ef76.jpg  \n",
            "  inflating: ufa/train/220301073425_c621e96b9a0b3833700ace37a1b028e1.jpg  \n",
            "  inflating: ufa/train/220301073533_32d408a290f0aa2c7e5254e0d8306604.jpg  \n",
            "  inflating: ufa/train/220301074117_460c89feca92e0a5610cb601291ac568.jpg  \n",
            "  inflating: ufa/train/220301074517_dcd126405ef8b1da57128e9a92f9f5f9.jpg  \n",
            "  inflating: ufa/train/220301074528_175afb5218916e2bd183c69f20051f16.jpg  \n",
            "  inflating: ufa/train/220301075200_2ec6ca6e0498e6f8a2aa391026ea5b43.jpg  \n",
            "  inflating: ufa/train/220301075407_88a459f37ff82b96325f9ebfaab8b786.jpg  \n",
            "  inflating: ufa/train/220301075635_dba59da9dedd7fd5b5ba1524b4a6645d.jpg  \n",
            "  inflating: ufa/train/220301075719_63c240617bdf418c1e216bec6e8d665e.jpg  \n",
            "  inflating: ufa/train/220301075728_3cf608c5ac39dad3934e16420fddf235.jpg  \n",
            "  inflating: ufa/train/220301080121_75c740f58a2c4895dc4f55467b30f89e.jpg  \n",
            "  inflating: ufa/train/220301080121_8518cf014a6b58187694bef49cf44db3.jpg  \n",
            "  inflating: ufa/train/220301080142_d20b957a2f1cce040587261ecbbecef6.jpg  \n",
            "  inflating: ufa/train/220301080157_7a4a31c7dd0c1deffcd1208313d70e2c.jpg  \n",
            "  inflating: ufa/train/220301080719_23da424105bd7cf90c2dd9ba414d3782.jpg  \n",
            "  inflating: ufa/train/220301080832_91e3df6bc15efc683101962cb8e78863.jpg  \n",
            "  inflating: ufa/train/220301083851_8102ae693c6cca1094e42502356326c3.jpg  \n",
            "  inflating: ufa/train/220301083949_a0ee093ec8a9888850bb50c4c0cb4070.jpg  \n",
            "  inflating: ufa/train/220301085028_5a2a5a296be2ec9b1dfc93845f9cb524.jpg  \n",
            "  inflating: ufa/train/220301085834_9a2e2e1d6cced4db645020f5623a8e96.jpg  \n",
            "  inflating: ufa/train/220301090918_7e51bc3af9c034f074df5f38261880cf.jpg  \n",
            "  inflating: ufa/train/220301091353_27cca737642bc683700aac1c0d1257fb.jpg  \n",
            "  inflating: ufa/train/220301091412_f9dca9463781dc71a2b22e113fdd5756.jpg  \n",
            "  inflating: ufa/train/220301091651_dbdbc38c5f73b885283bc847c01ccfb3.jpg  \n",
            "  inflating: ufa/train/220301091714_6a066f59c206a24a740589ab1dda00a9.jpg  \n",
            "  inflating: ufa/train/220301092426_78c2ecbb30fa2feb93362ac7f748597a.jpg  \n",
            "  inflating: ufa/train/220301092806_bd581c07279d41f092101ca789206a58.jpg  \n",
            "  inflating: ufa/train/220301093324_4c37813e84e36e20296cf3b2fc49943f.jpg  \n",
            "  inflating: ufa/train/220301095016_ce36ac6acadfdc5dc61a31edce417318.jpg  \n",
            "  inflating: ufa/train/220301095431_57a5dbcf19140c2a05540bd7d5441a5d.jpg  \n",
            "  inflating: ufa/train/220301100357_42f47987394f182d4f160758ce1bcdd6.jpg  \n",
            "  inflating: ufa/train/220301100443_2ea92ac127b0d336132662572e5d7b04.jpg  \n",
            "  inflating: ufa/train/220301100443_b88feb2e686fe305472077c5828eb2e9.jpg  \n",
            "  inflating: ufa/train/220301100621_9152be9eb025513d26716b8a5fea764d.jpg  \n",
            "  inflating: ufa/train/220301100741_7853fc5e57e364ecd855f8d2ab799d56.jpg  \n",
            "  inflating: ufa/train/220301100835_457c4380f35256fd8d2cb68bbf3b324f.jpg  \n",
            "  inflating: ufa/train/220301100836_55663109743a71f9864520496eeb7dfa.jpg  \n",
            "  inflating: ufa/train/220301100902_158cb93c23940f7f9c5a17fb3ac1cb7a.jpg  \n",
            "  inflating: ufa/train/220301100903_aada7d88d02a5c403d917273ec89beae.jpg  \n",
            "  inflating: ufa/train/220301101233_7a7795b15804a03250c05ea65579a9be.jpg  \n",
            "  inflating: ufa/train/220301101304_b6de13573c69c85eaef13c6b2046265d.jpg  \n",
            "  inflating: ufa/train/220301101304_c031ec7ca051323e8a954eae2c9215fd.jpg  \n",
            "  inflating: ufa/train/220301101827_3144d39da7229a784c210655b7bebc8a.jpg  \n",
            "  inflating: ufa/train/220301101827_c275281dda29e88685109177a7c0264b.jpg  \n",
            "  inflating: ufa/train/220301102007_fc56cd0869becdcf30b816266398c32a.jpg  \n",
            "  inflating: ufa/train/220301102232_7dc31ab9e4b2226d5204c54549b8fc23.jpg  \n",
            "  inflating: ufa/train/220301102352_bbf399377844fc009b5f92a145fbebc6.jpg  \n",
            "  inflating: ufa/train/220301102426_67516c86b2b1d9ef1b49ecda5eaf99b3.jpg  \n",
            "  inflating: ufa/train/220301102658_b19bb6925dedcc09b3579fa486d2f3b9.jpg  \n",
            "  inflating: ufa/train/220301102710_b81ab58af6f68c176afa567cc3cafea3.jpg  \n",
            "  inflating: ufa/train/220301102818_d9d7c18e716f1d311131944ce652d705.jpg  \n",
            "  inflating: ufa/train/220301103019_28aad0888b67a9e6c4ebb2e6bc99ce51.jpg  \n",
            "  inflating: ufa/train/220301103036_fd6b8a9c1fa143014477d0b89f7dc1fb.jpg  \n",
            "  inflating: ufa/train/220301103147_2ae9189e8c4ff4a73022476f9960033f.jpg  \n",
            "  inflating: ufa/train/220301103222_dcef063d114e2b610b669a4b2ed40964.jpg  \n",
            "  inflating: ufa/train/220301103238_1123ad7f7cb149c21cb0bd415bfab69a.jpg  \n",
            "  inflating: ufa/train/220301103313_a846a8aa06fa32262bd4b5960866099d.jpg  \n",
            "  inflating: ufa/train/220301103455_5c89248e8942c3666fcce4d4724abb12.jpg  \n",
            "  inflating: ufa/train/220301103603_bb1f00d676b36db22909f0234061497a.jpg  \n",
            "  inflating: ufa/train/220301111107_b9fe49b758de6c62149ddd6ffa3d47e5.jpg  \n",
            "  inflating: ufa/train/220301111545_6f8cc7f8230256006de954c8c8266328.jpg  \n",
            "  inflating: ufa/train/220301111925_c9deb5664dd793d45e24a32c2f9ed271.jpg  \n",
            "  inflating: ufa/train/220301112317_0904ea2261102892299ea6b8d7b6ed42.jpg  \n",
            "  inflating: ufa/train/220301112326_8c996183e0119e095b2b8e6a5ac1be5a.jpg  \n",
            "  inflating: ufa/train/220301113122_3139fdff9f20301b5892b19fdaa256e5.jpg  \n",
            "  inflating: ufa/train/220301113225_f17ee79e69f16fdecae6a56a11c5be43.jpg  \n",
            "  inflating: ufa/train/220301113341_5e0d4395c4ea0ca4f0f11b9408008fd9.jpg  \n",
            "  inflating: ufa/train/220301113827_b9b386d18f53c6efc51e22c8eb628da3.jpg  \n",
            "  inflating: ufa/train/220301113840_e142b547b3dfe73de06eb59c7ec1bfcd.jpg  \n",
            "  inflating: ufa/train/220301114011_5697a22088291d291818b25b52cae966.jpg  \n",
            "  inflating: ufa/train/220301114316_8b0381c1c537e9288243013b26a4b079.jpg  \n",
            "  inflating: ufa/train/220301114410_7cab4edf631d112b9ad82bb4f3f95557.jpg  \n",
            "  inflating: ufa/train/220301114829_3d2d8e7089a4b1024d2ee733dd5bc2c4.jpg  \n",
            "  inflating: ufa/train/220301115722_a242748f145e7c60c86e7626f5989315.jpg  \n",
            "  inflating: ufa/train/220301121206_cbcb3205709fc5c8ed7259d3b404ef61.jpg  \n",
            "  inflating: ufa/train/220301121419_342fbbe9912e6a34fdd614b056100a5f.jpg  \n",
            "  inflating: ufa/train/220301123646_56e2844ea32dc657c742a803a8b3035e.jpg  \n",
            "  inflating: ufa/train/220301123736_957368961b8d782e82953dcc901e5f74.jpg  \n",
            "  inflating: ufa/train/220301123737_990522befa79e9c7b3485a17ab4b36ba.jpg  \n",
            "  inflating: ufa/train/220301123743_a94b0d6cd79c2b743bb65a8a91b3bae1.jpg  \n",
            "  inflating: ufa/train/220301123744_60e1884bc58a9770d460104ae62222e8.jpg  \n",
            "  inflating: ufa/train/220301123745_17b5de65005346707144a5c30b84d8d9.jpg  \n",
            "  inflating: ufa/train/220301123745_8189d5d0bcb06fe5b2181570d4682280.jpg  \n",
            "  inflating: ufa/train/220301123746_b93268bbf2eb5b7b5957b2a9fb13bb74.jpg  \n",
            "  inflating: ufa/train/220301123748_f405486fadf54dad3b70b0deac2a21f6.jpg  \n",
            "  inflating: ufa/train/220301123756_1ec564a82d02b1c9b5bcb34bd8259a3f.jpg  \n",
            "  inflating: ufa/train/220301123804_c6419e64aef122c0dcb1a3b5a270e142.jpg  \n",
            "  inflating: ufa/train/220301123805_367e1cf0a14a04abd88b5d8218142d3a.jpg  \n",
            "  inflating: ufa/train/220301123805_7aa0f64238f298a248e37f7e9cf8418b.jpg  \n",
            "  inflating: ufa/train/220301123807_b46be9eb3fdaabc8148695e72db48cc8.jpg  \n",
            "  inflating: ufa/train/220301123810_fd6abddac4ab2558429bd89abae928fd.jpg  \n",
            "  inflating: ufa/train/220301123812_305621c26adbc65e1dd3ba0f9a694629.jpg  \n",
            "  inflating: ufa/train/220301123816_072fb16d26dab2ae7645a272a63190b5.jpg  \n",
            "  inflating: ufa/train/220301123822_7b038c7f6dbd6d19d5ef54c6ce42734c.jpg  \n",
            "  inflating: ufa/train/220301123824_4459188e10d2611427666644abebf8b9.jpg  \n",
            "  inflating: ufa/train/220301123850_dbc1de067c9a400a492ca1cf677f1692.jpg  \n",
            "  inflating: ufa/train/220301123912_e1c912660f0dc5ef905e56cea5fb6eee.jpg  \n",
            "  inflating: ufa/train/220301123921_45af644fb15bd4708050043ae8f3975b.jpg  \n",
            "  inflating: ufa/train/220301123926_8e5707ff5fed53658eb7a4d6952e2cc3.jpg  \n",
            "  inflating: ufa/train/220301123950_119b45568979211d3d7c0f4e3c2f3a06.jpg  \n",
            "  inflating: ufa/train/220301124013_f94f9a95b5221d8be498c1ed3e8fb949.jpg  \n",
            "  inflating: ufa/train/220301124014_b4e8a97b00babdb497a3edece8aa462d.jpg  \n",
            "  inflating: ufa/train/220301124015_b6158c61a8adc0666022adaf4fff3580.jpg  \n",
            "  inflating: ufa/train/220301124018_8a0a1b8a195feb8da8ed1a02324ea882.jpg  \n",
            "  inflating: ufa/train/220301124019_b6899a82ecd89292548cc11e712f255a.jpg  \n",
            "  inflating: ufa/train/220301124020_d3a2090732cf5eaecbfc255afc9bf54b.jpg  \n",
            "  inflating: ufa/train/220301124033_85b4b57230467054a8dff7e48cbe6ba6.jpg  \n",
            "  inflating: ufa/train/220301124039_5402d3a2062fda5482c94a35c140462c.jpg  \n",
            "  inflating: ufa/train/220301124041_a77af5bc2de7c694a256450cb01832de.jpg  \n",
            "  inflating: ufa/train/220301124047_771a9bc044f44e1ca74b6bc76c72ccd9.jpg  \n",
            "  inflating: ufa/train/220301124100_d3815192b7a85e54f935936bbe09496f.jpg  \n",
            "  inflating: ufa/train/220301124101_c919e95934b3df93a6149764a498b11f.jpg  \n",
            "  inflating: ufa/train/220301124110_69dcd5eb441c4df666dfedde7ac47fc6.jpg  \n",
            "  inflating: ufa/train/220301124113_a102c632672df1b5d1e0b7a0fe7360d2.jpg  \n",
            "  inflating: ufa/train/220301124127_d28e5d63f63b1306b75db49eecbcd3be.jpg  \n",
            "  inflating: ufa/train/220301124129_3edd50f9408395f8249c11426ce13f79.jpg  \n",
            "  inflating: ufa/train/220301124130_908368e2b0a4888e1b964aecd93c017e.jpg  \n",
            "  inflating: ufa/train/220301124134_d861397f467d412171b4c10a2ff4ce99.jpg  \n",
            "  inflating: ufa/train/220301124139_132fa924b12f5ad90314d82b0c31cd9e.jpg  \n",
            "  inflating: ufa/train/220301124148_0094dca1aacd5d3e907781d360da090b.jpg  \n",
            "  inflating: ufa/train/220301124151_27b4035d8a7c5325cdf76152898d705c.jpg  \n",
            "  inflating: ufa/train/220301124152_f08dace3219715c4652d3ac8cf0fa659.jpg  \n",
            "  inflating: ufa/train/220301124154_01c9f6f67f4d3f6c15fcf7d8efeebd88.jpg  \n",
            "  inflating: ufa/train/220301124158_31fb80f01d4533c2202fd99ed7dab188.jpg  \n",
            "  inflating: ufa/train/220301124201_cc977ce8de2658f9eb978a135343b58d.jpg  \n",
            "  inflating: ufa/train/220301124526_ba6ffcfd54b8a2e2d7120082abf89be8.jpg  \n",
            "  inflating: ufa/train/220301125743_78ce11d9bb824394671dd2fa8e2559c1.jpg  \n",
            "  inflating: ufa/train/220301130907_8f18c6d5426f9ac39496dd7830e3ad03.jpg  \n",
            "  inflating: ufa/train/220301131510_b2b71233750b482bbc65b4026808d4cf.jpg  \n",
            "  inflating: ufa/train/220301134754_106c9c12bdeb7b18d15e31c447df381e.jpg  \n",
            "  inflating: ufa/train/220301143325_f032041d5efbe5e23f4214abb9772bcb.jpg  \n",
            "  inflating: ufa/train/220301143940_60515228b38d951afefedc736d6e2529.jpg  \n",
            "  inflating: ufa/train/220301145055_441252698c9ec440a1cffb53653cd90c.jpg  \n",
            "  inflating: ufa/train/220301150603_c16cfd04d0e3eed75e084d3691baef6e.jpg  \n",
            "  inflating: ufa/train/220301150606_a360a2f28eacd5648732c9a28c1e4c0a.jpg  \n",
            "  inflating: ufa/train/220301152600_cf909029f294f8aa507c4c277bcbba48.jpg  \n",
            "  inflating: ufa/train/220301163723_7926bd07890869b716537a3ee3952a4e.jpg  \n",
            "  inflating: ufa/train/220301164729_5fb566b5b7054040248e9023973134bd.jpg  \n",
            "  inflating: ufa/train/220301165328_4774c4240701f75c2445f549f3b4977e.jpg  \n",
            "  inflating: ufa/train/220302010740_975777b3f6ad92a8b7636bb87a4eca46.jpg  \n",
            "  inflating: ufa/train/220302013218_0dc7f7864ff931e2f0e2673f89cfb47c.jpg  \n",
            "  inflating: ufa/train/220302013902_0834fd52f1836758f90d662007593daf.jpg  \n",
            "  inflating: ufa/train/220302020709_ef606fc40122782c608aa4b0dd0cb95b.jpg  \n",
            "  inflating: ufa/train/220302022806_4741846d3c2efc72f166a31c8987dfae.jpg  \n",
            "  inflating: ufa/train/220302022853_468a042dfa53afd5798097d87abcfa57.jpg  \n",
            "  inflating: ufa/train/220302023121_fac4a7e63862e9cfb396731574b839d3.jpg  \n",
            "  inflating: ufa/train/220302023404_9896e855e8ee99a7827275728b455683.jpg  \n",
            "  inflating: ufa/train/220302024156_b216f0ce4b500dae799b83f72a432877.jpg  \n",
            "  inflating: ufa/train/220302025151_b91bbb971a06495030a1de2af58304dc.jpg  \n",
            "  inflating: ufa/train/220302031448_5e415dbe5644f2661ee4106538efde1d.jpg  \n",
            "  inflating: ufa/train/220302031542_7fbb27f042ed64b27ea21fdce3b9aef8.jpg  \n",
            "  inflating: ufa/train/220302031627_7a9c195bb866d35d54894cf4f84dcb5d.jpg  \n",
            "  inflating: ufa/train/220302031830_dc99dabe088c8bf4df30ef0368df44ca.jpg  \n",
            "  inflating: ufa/train/220302031853_72ec17c7c830b8c3039fedebdf0808c4.jpg  \n",
            "  inflating: ufa/train/220302032455_228410aca35ecad46255800f58d82e6e.jpg  \n",
            "  inflating: ufa/train/220302034044_c43d5bfc7a891f7f57819b7093b967bb.jpg  \n",
            "  inflating: ufa/train/220302034204_141247f7173a1fe2c3bdba15f4f496fd.jpg  \n",
            "  inflating: ufa/train/220302040239_ea06c140c53e6f39b53b0a7eec3031d2.jpg  \n",
            "  inflating: ufa/train/220302041014_614e14402724af1a953df888cba05fa2.jpg  \n",
            "  inflating: ufa/train/220302041201_c866eb80b38cc2655f441c9d600a027c.jpg  \n",
            "  inflating: ufa/train/220302041445_722f0310df43a9c18ed0f6d66cd8640a.jpg  \n",
            "  inflating: ufa/train/220302042736_35fe2711a25bd08687bac429b5bd1b34.jpg  \n",
            "  inflating: ufa/train/220302042841_7e0dd6ce81eec516f259dc7cba34b3e7.jpg  \n",
            "  inflating: ufa/train/220302043016_621676675691158761d81003cd0b350a.jpg  \n",
            "  inflating: ufa/train/220302044658_3ed19388a564cc742a3a0c167a21ae74.jpg  \n",
            "  inflating: ufa/train/220302044930_ef97881d9885a79d4c3686d348858ba6.jpg  \n",
            "  inflating: ufa/train/220302045207_6b03630ebd4023f5d78e00f3d3592fb1.jpg  \n",
            "  inflating: ufa/train/220302045208_41b4347af7f0a5c00119b1178027deec.jpg  \n",
            "  inflating: ufa/train/220302045606_1c2a95bbb0c34b7579795dfc9998f8b6.jpg  \n",
            "  inflating: ufa/train/220302050921_0735b1f5712a1478e3e9f6b880ec188b.jpg  \n",
            "  inflating: ufa/train/220302054911_22534e29cb9b7807c7281e5eb92859ed.jpg  \n",
            "  inflating: ufa/train/220302063237_e0ad7dd1cab64079b9892000e1806a48.jpg  \n",
            "  inflating: ufa/train/220302071338_950c5fb8c8477fe6c04cebca82b8c736.jpg  \n",
            "  inflating: ufa/train/220302073701_061db9d97be8defcd8ece2fe73917837.jpg  \n",
            "  inflating: ufa/train/220302073821_46f6fc2c0218088bb9d156817f89a8de.jpg  \n",
            "  inflating: ufa/train/220302073836_c5e842bce07bf3b67aca5a58798c90a3.jpg  \n",
            "  inflating: ufa/train/220302074347_77d3d68df8f5b1b0ec1d9e89901da0a2.jpg  \n",
            "  inflating: ufa/train/220302074548_49664270dc8688c80e587536339825d0.jpg  \n",
            "  inflating: ufa/train/220302082510_beb9ffbe4061c8e85994709ef32dec3d.jpg  \n",
            "  inflating: ufa/train/220302084112_c9c6ee6d5e18f2d566213d872cde45c5.jpg  \n",
            "  inflating: ufa/train/220302084755_995aca033842406bdbe269cb2412481e.jpg  \n",
            "  inflating: ufa/train/220302091211_8aa82d7333d3692474e39cbd656de179.jpg  \n",
            "  inflating: ufa/train/220302091248_efcf880667f0ee8df27af95806f4adf8.jpg  \n",
            "  inflating: ufa/train/220302094433_d017bd9c923c29affda6ed14e38abd25.jpg  \n",
            "  inflating: ufa/train/220302112313_89ebcb299a5a304b7b4a754eb39f2d79.jpg  \n",
            "  inflating: ufa/train/220302112529_6247d7023772bf4c359fe118da95189e.jpg  \n",
            "  inflating: ufa/train/220302163654_7912adc5d67ca8497685c3a6565d82ca.jpg  \n",
            "  inflating: ufa/train/220303025245_abc7f6dcb7225096e7ef89a16b7cb54a.jpg  \n",
            "  inflating: ufa/train/220303025439_1dccb531b593fd997e99503e8c85d1df.jpg  \n",
            "  inflating: ufa/train/220303030716_f9672cc6579535e6e8abf45838101168.jpg  \n",
            "  inflating: ufa/train/220303030945_9c87cea6d7fa3714ae76f0b9ae8db0cf.jpg  \n",
            "  inflating: ufa/train/220303032230_239bb091d1c62aea9e08005409e34f22.jpg  \n",
            "  inflating: ufa/train/220303032559_56e4d5fb107aa3b5c03f1132b4e75f7c.jpg  \n",
            "  inflating: ufa/train/220303032714_d7bf6997f2e4d316b0721819251a59ee.jpg  \n",
            "  inflating: ufa/train/220303033427_306910ecd4ef3089d3b453fee86dc7d3.jpg  \n",
            "  inflating: ufa/train/220303034109_ede52a200a1b68564a980b39a4e47d0b.jpg  \n",
            "  inflating: ufa/train/220303034248_ec92cc72af056f05cd332b85df1f63c1.jpg  \n",
            "  inflating: ufa/train/220303040236_ae55c3025f83abe4f97cc7b4f15b786f.jpg  \n",
            "  inflating: ufa/train/220303040640_592cfd70edfeea07543018c23db66e29.jpg  \n",
            "  inflating: ufa/train/220303041122_e5173702146679818a3e3b290d60b11c.jpg  \n",
            "  inflating: ufa/train/220303041736_72cce2094bdb7373ced90aa9c322a4cf.jpg  \n",
            "  inflating: ufa/train/220303045146_b27f599e5efb9d30b6c9bdcd0a8fae41.jpg  \n",
            "  inflating: ufa/train/220303045325_a68c513a61bcd951528de62cfb85938b.jpg  \n",
            "  inflating: ufa/train/220303045515_cf54784bd1e29b77085a4a53a1d476e1.jpg  \n",
            "  inflating: ufa/train/220303045713_76a3387f3f121d1162b97e1d187d6f07.jpg  \n",
            "  inflating: ufa/train/220303045851_6b1d383dbc6e35c96040a67c241316b2.jpg  \n",
            "  inflating: ufa/train/220303054740_9daab175576b21466a151bc4b9a0536f.jpg  \n",
            "  inflating: ufa/train/220303063027_7c5eed7e6b027beff7d4accc945f62b9.jpg  \n",
            "  inflating: ufa/train/220303064730_cdd62f64d600591a4dc055703a76c3f9.jpg  \n",
            "  inflating: ufa/train/220303083251_9d40ea68b764c82e62fedf62d0a24884.jpg  \n",
            "  inflating: ufa/train/220303090424_a1724eefa610eaeb3fbedd0a0d6c0ae0.jpg  \n",
            "  inflating: ufa/train/220303094255_e7b5e5e9800da89a9e1ae89f484960eb.jpg  \n",
            "  inflating: ufa/train/220303095852_78078197600f47959f18cd5251d8a644.jpg  \n",
            "  inflating: ufa/train/220303100248_43538bd76cef189b146930c939c79643.jpg  \n",
            "  inflating: ufa/train/220303101936_18cc0bc06c179a107c8715675b4a052d.jpg  \n",
            "  inflating: ufa/train/220303113233_24ede0023ea90416178fa027a8c77edd.jpg  \n",
            "  inflating: ufa/train/220304014444_93d324658e78782c37f3bce0c65e03b2.jpg  \n",
            "  inflating: ufa/train/220304031122_f4bc294df4f178c4e60b16b5f323c88c.jpg  \n",
            "  inflating: ufa/train/220304034602_98a7e8eb54aaf72bc1d10af8a1032697.jpg  \n",
            "  inflating: ufa/train/220304042345_768488e4c7bf1e5e8414fbe0c2831bc4.jpg  \n",
            "  inflating: ufa/train/220304052500_9a3022dfe6dfa74d4a6537792e436c53.jpg  \n",
            "  inflating: ufa/train/220304060156_51b2fe94598d626677f65085635568fa.jpg  \n",
            "  inflating: ufa/train/220304062434_2c32bbe2535c58a11d2d4c3b51742bda.jpg  \n",
            "  inflating: ufa/train/220304063326_d00d7a35c1490bf3ce4daeb58f8eaf7e.jpg  \n",
            "  inflating: ufa/train/220304063620_a31dd1065738d1ee920b3a4469035b25.jpg  \n",
            "  inflating: ufa/train/220304064115_47a59b7d255c7a37134e2c222d9aa1b7.jpg  \n",
            "  inflating: ufa/train/220305051809_33e65963c271cdbf941792f1bbd921e1.jpg  \n",
            "  inflating: ufa/train/220305051829_70bdbfc65ba99ca4c5a58975ae660ccb.jpg  \n",
            "  inflating: ufa/train/220305092719_e725fbdb911003165408e72f43a09ccd.jpg  \n",
            "  inflating: ufa/train/220305100150_8987ce79e4d82d61f341f9d0a5af4a47.jpg  \n",
            "  inflating: ufa/train/220305120503_dfc2fb19dfc09c4258da08637565da99.jpg  \n",
            "  inflating: ufa/train/220305121502_b1a51115762118b54a8d93db3adbfe73.jpg  \n",
            "  inflating: ufa/train/220305122229_30a905be3963f7aeeb1c3ee1a48229ee.jpg  \n",
            "  inflating: ufa/train/220306024734_5b17738dc9d89b6f58185bd4f9788b0f.jpg  \n",
            "  inflating: ufa/train/220306042951_0ce6a31a079438681bf05be84c7242cb.jpg  \n",
            "  inflating: ufa/train/220306050601_f7b639f11532d71e4aa83daa5338944f.jpg  \n",
            "  inflating: ufa/train/220306053547_f66355b21b2058f41f726f24b6072298.jpg  \n",
            "  inflating: ufa/train/220306060813_060c72d7ca75cc7c8e631f98c3ae6575.jpg  \n",
            "  inflating: ufa/train/220306063056_28f4148f4525050e92a5eec4c6b8c233.jpg  \n",
            "  inflating: ufa/train/220306064951_978c78867c48ef63f7166fcd248ef890.jpg  \n",
            "  inflating: ufa/train/220306070534_077e34245af0cca2f8697e1a53f72983.jpg  \n",
            "  inflating: ufa/train/220306071047_178fd94792716de9ba300502c2f51b14.jpg  \n",
            "  inflating: ufa/train/220306073024_e19fd6a2c1dab88da7923a0a3689d38d.jpg  \n",
            "  inflating: ufa/train/220306073131_ebb7640ab5613b71910788b50166c5d3.jpg  \n",
            "  inflating: ufa/train/220306084645_f91c0e537dac19855125e9d43a1907fa.jpg  \n",
            "  inflating: ufa/train/220306234148_9d849148b68792fe46a1e25e13ab2cb2.jpg  \n",
            "  inflating: ufa/train/220306234838_a0a7ef148e9ea3d65bea1581181b0101.jpg  \n",
            "  inflating: ufa/train/220306235831_1212ae4e218998e686376dd0181a8973.jpg  \n",
            "  inflating: ufa/train/220307002559_b5ba1c0837d836538f6b784826403491.jpg  \n",
            "  inflating: ufa/train/220307002624_54471f149017446c7580c40f9c4e4847.jpg  \n",
            "  inflating: ufa/train/220307004700_250ff3f9bf70f46bbb395353427a86e5.jpg  \n",
            "  inflating: ufa/train/220307005026_ec15101b848b9e8eb703e4e7cdad70c7.jpg  \n",
            "  inflating: ufa/train/220307005043_fc3c1da52c6771a5f85bcb0e3475fbf7.jpg  \n",
            "  inflating: ufa/train/220307005657_d3d5fb4bad55949b0776b1d6d545ed5f.jpg  \n",
            "  inflating: ufa/train/220307010023_a0f92d6662679142c6edbe31e373862b.jpg  \n",
            "  inflating: ufa/train/220307010339_058c596a07a08781a706d54fd4856ed6.jpg  \n",
            "  inflating: ufa/train/220307011013_2cf5d2c7334a82feac79dd3560fee8d5.jpg  \n",
            "  inflating: ufa/train/220307011050_5e20cf51feb01506981f8c37bd3da5b6.jpg  \n",
            "  inflating: ufa/train/220307011051_1c9b57d611d2a8a73e8d329cc4f9f18e.jpg  \n",
            "  inflating: ufa/train/220307011134_be281b9a80507db668d5a6a8f324cef0.jpg  \n",
            "  inflating: ufa/train/220307011818_78c0320679344c3e7c5a73a01ffdfd79.jpg  \n",
            "  inflating: ufa/train/220307012052_d545283074d2716372ddf3826172819b.jpg  \n",
            "  inflating: ufa/train/220307012457_e9177f311a8d5821ea99bc2368f0b50f.jpg  \n",
            "  inflating: ufa/train/220307012615_70742f9c5e2273849e42cc983fee8a5d.jpg  \n",
            "  inflating: ufa/train/220307012704_cde9dc88267d07f45fe04267d3ffae8d.jpg  \n",
            "  inflating: ufa/train/220307012717_4d221db014939a79f76539816d578863.jpg  \n",
            "  inflating: ufa/train/220307012730_7b973f8f2a81eac5c13370e1592cb58f.jpg  \n",
            "  inflating: ufa/train/220307012835_983e193301d76a2d1498a5f36beba908.jpg  \n",
            "  inflating: ufa/train/220307012903_c2e25c71975244587fb02517aec28abb.jpg  \n",
            "  inflating: ufa/train/220307013123_9d281d2e2e2c64a2077a372d69a37da0.jpg  \n",
            "  inflating: ufa/train/220307013457_e82ef3f21f4f5ae8c3e58f7b1f68c379.jpg  \n",
            "  inflating: ufa/train/220307013523_de874e46a1e3c812921ae4d4bc04a511.jpg  \n",
            "  inflating: ufa/train/220307013601_6643532d77f0f624e1a2db7d462a34a2.jpg  \n",
            "  inflating: ufa/train/220307013626_e2d6292f407db8a1aa6f425f854e3f24.jpg  \n",
            "  inflating: ufa/train/220307013844_c7c525ac887a898f4aa7acd155a5e4d4.jpg  \n",
            "  inflating: ufa/train/220307013946_400cdaf7917e3a109bd4bff12a0322e4.jpg  \n",
            "  inflating: ufa/train/220307014210_f4a2f4bb546c9070895daf93a6f7fe17.jpg  \n",
            "  inflating: ufa/train/220307014229_451c5e96d4ab7bc1387035fd1ae53a9a.jpg  \n",
            "  inflating: ufa/train/220307014239_90da35b651db897beba607413bef92e2.jpg  \n",
            "  inflating: ufa/train/220307014649_f543577309bb750bb3dca4b02ecdd38f.jpg  \n",
            "  inflating: ufa/train/220307014836_5ee7bb8efe07ed736bf4941165faeb9e.jpg  \n",
            "  inflating: ufa/train/220307015045_654fa67018eec5f0dd86230575604ad6.jpg  \n",
            "  inflating: ufa/train/220307015200_18016176b4f35609a6a11d35b7f5cf00.jpg  \n",
            "  inflating: ufa/train/220307015201_42a58865e57fd9fd3db5baa302ac22a9.jpg  \n",
            "  inflating: ufa/train/220307015251_041cd1f88804a855477b648ba9c3528a.jpg  \n",
            "  inflating: ufa/train/220307015335_3b8100affd858742ab327ee7f4fcda65.jpg  \n",
            "  inflating: ufa/train/220307015337_4ea1878b4cc31cbe3365b19ffb753d13.jpg  \n",
            "  inflating: ufa/train/220307015352_40b4c345237451f6427dea2c7932dd77.jpg  \n",
            "  inflating: ufa/train/220307015436_7bfa49679ec067838e4035679dce331f.jpg  \n",
            "  inflating: ufa/train/220307015440_9923136461e15f690ba590748a96c810.jpg  \n",
            "  inflating: ufa/train/220307015539_52701007db1855ed46ec24cb523e2ca1.jpg  \n",
            "  inflating: ufa/train/220307015540_db8255268c987e6441db947656b88dd9.jpg  \n",
            "  inflating: ufa/train/220307015600_22767d926ef4b95ffe7e98924f83d10d.jpg  \n",
            "  inflating: ufa/train/220307015602_05aea5c42c36d7b4e19fa6ace62c748d.jpg  \n",
            "  inflating: ufa/train/220307015603_78a724494cfe5cc1fe490efc2a6e18d3.jpg  \n",
            "  inflating: ufa/train/220307015617_4156cd769f8558214bd09d7c50833093.jpg  \n",
            "  inflating: ufa/train/220307015618_80925eb956960f70806fee6b2713f321.jpg  \n",
            "  inflating: ufa/train/220307015644_4615fa014bc1bbf4963ebe39820eae81.jpg  \n",
            "  inflating: ufa/train/220307015726_185c13d7b9f767a72d3c63803fc6f401.jpg  \n",
            "  inflating: ufa/train/220307015753_e27b8edc64d1de00f45ccac2c38225a6.jpg  \n",
            "  inflating: ufa/train/220307015808_271805927fbbad7336e7712f98dea7c6.jpg  \n",
            "  inflating: ufa/train/220307015836_7ea0fee4c462e57b6228fa85b63cda06.jpg  \n",
            "  inflating: ufa/train/220307015913_04c60813ee9e71544581a4f326444feb.jpg  \n",
            "  inflating: ufa/train/220307020218_2cbc7ce3dc62cc99c1460abfdaead03b.jpg  \n",
            "  inflating: ufa/train/220307020331_8c06c10523130327c6126b62f73a591c.jpg  \n",
            "  inflating: ufa/train/220307020344_62afd5ab57ce34c70adc190e1fa86be3.jpg  \n",
            "  inflating: ufa/train/220307020400_6db54088f39f8a0f953ba360fffcf3b8.jpg  \n",
            "  inflating: ufa/train/220307020408_c655c759534c2468d5069648f041b705.jpg  \n",
            "  inflating: ufa/train/220307020417_5382c406b9a213867be6b267fb745b8b.jpg  \n",
            "  inflating: ufa/train/220307020511_b0b303fe413994fa50b5608f83d6fe1b.jpg  \n",
            "  inflating: ufa/train/220307020513_2b9f6c3b504dac9423351b2e09998954.jpg  \n",
            "  inflating: ufa/train/220307020514_658f564e49e9e8dd7dda87a4d6b2951e.jpg  \n",
            "  inflating: ufa/train/220307020602_236b121e333ab271824cbbfabc3e9253.jpg  \n",
            "  inflating: ufa/train/220307020847_99ecb800c67bc354fd30f29a6038ea83.jpg  \n",
            "  inflating: ufa/train/220307020903_e6cfdf3e17eb3ba7e4934ea644aba4f2.jpg  \n",
            "  inflating: ufa/train/220307020927_bf39231de1485ab90c2c9fcb4fb065ec.jpg  \n",
            "  inflating: ufa/train/220307020954_cb5dfc90fbd11fa7a37e86d524d3766c.jpg  \n",
            "  inflating: ufa/train/220307021011_a30e4b9d0620057831517b148d452404.jpg  \n",
            "  inflating: ufa/train/220307021012_1ba5e28c9b6cd1318f25f7ba61de3385.jpg  \n",
            "  inflating: ufa/train/220307021052_400e28ee3ba6832b9ec43dcc279a3947.jpg  \n",
            "  inflating: ufa/train/220307021116_1aa053719182046b6f56e7121b711d4a.jpg  \n",
            "  inflating: ufa/train/220307021134_030199bfd91b3366d3cbc12fe975c517.jpg  \n",
            "  inflating: ufa/train/220307021142_7dded16a8f5f67edfe22eda804cf9ce1.jpg  \n",
            "  inflating: ufa/train/220307021143_bef97ef99854fbf3e6b77241719b154b.jpg  \n",
            "  inflating: ufa/train/220307021153_7377b7a46d03d4a1ccc04ea66ac77150.jpg  \n",
            "  inflating: ufa/train/220307021213_37e5362613ae334637cad10570c672bb.jpg  \n",
            "  inflating: ufa/train/220307021214_2c2030f30b47c7082107b14047981b22.jpg  \n",
            "  inflating: ufa/train/220307021227_167b5a4f8ed5d542c9946c986b849329.jpg  \n",
            "  inflating: ufa/train/220307021227_ee2bb86736bc80c6a7cbbb97edd7e39d.jpg  \n",
            "  inflating: ufa/train/220307021230_42dc6ce100032dffdb92760afdc0397a.jpg  \n",
            "  inflating: ufa/train/220307021231_614d814fa601085fe4e952dafbb08ae6.jpg  \n",
            "  inflating: ufa/train/220307021239_0e5959aa5597651240de7dfe12788449.jpg  \n",
            "  inflating: ufa/train/220307021242_af922f62222d51694d13ff60ab7b9f48.jpg  \n",
            "  inflating: ufa/train/220307021243_234d44fc9637965cb40a6f3b3950a8db.jpg  \n",
            "  inflating: ufa/train/220307021243_e42b1356ef7f42f204ec41e1b5a918d0.jpg  \n",
            "  inflating: ufa/train/220307021247_a1f0b8fd301c35fab0c165fc2c62482f.jpg  \n",
            "  inflating: ufa/train/220307021318_4b7a877f17150215a99bbeab9ae11832.jpg  \n",
            "  inflating: ufa/train/220307021329_9054932426c521deb4c5fcd350cf76ab.jpg  \n",
            "  inflating: ufa/train/220307021400_6762d46d6e4b4b19645a3d55d29128a6.jpg  \n",
            "  inflating: ufa/train/220307021411_79d767ce528d22b1a5c883473c9a078f.jpg  \n",
            "  inflating: ufa/train/220307021453_ef09cef95b3f46fc5c00ef04ebd0e97a.jpg  \n",
            "  inflating: ufa/train/220307021502_f85ae194972734b2278a4cd7670aa6b7.jpg  \n",
            "  inflating: ufa/train/220307021521_569bf647b6ebaad975538aed46646f89.jpg  \n",
            "  inflating: ufa/train/220307021522_0c2377c20fed4536d0c0abb2f5412827.jpg  \n",
            "  inflating: ufa/train/220307021735_5fcab4ac9a69b7e9afacc07e93de6777.jpg  \n",
            "  inflating: ufa/train/220307021756_8353d76d90ba49c43dcd6e2332fed879.jpg  \n",
            "  inflating: ufa/train/220307021858_848dc5b03f2c807fd0c9662c79bee242.jpg  \n",
            "  inflating: ufa/train/220307022019_4dd6ae5e157220736d0d5dadd32e0a21.jpg  \n",
            "  inflating: ufa/train/220307022034_34bc09c27c2c502944c5ad78e34c01bb.jpg  \n",
            "  inflating: ufa/train/220307022425_9667d088979f0b377d8a2cebf551997a.jpg  \n",
            "  inflating: ufa/train/220307022425_adbbc82f2113157b655744a21be8849b.jpg  \n",
            "  inflating: ufa/train/220307022520_eb408d19d1652b44df6a2d6b587f2511.jpg  \n",
            "  inflating: ufa/train/220307022703_ffc8c88d3b47b3addc5ea5f6b72dbea2.jpg  \n",
            "  inflating: ufa/train/220307022705_8fca9cdb163d407cdb8491a7e4decd91.jpg  \n",
            "  inflating: ufa/train/220307022707_1822f23d07be12b501756b190d415d29.jpg  \n",
            "  inflating: ufa/train/220307022721_c67544b92d7d42e8b70b4bddf355416a.jpg  \n",
            "  inflating: ufa/train/220307022803_0394e4e418a2d3ec1c09ff7f622cd227.jpg  \n",
            "  inflating: ufa/train/220307023010_edc83e6803b5f97b78bb70a4ca3f00e7.jpg  \n",
            "  inflating: ufa/train/220307023015_d7805fde0aeda728f0136ec7482cc43f.jpg  \n",
            "  inflating: ufa/train/220307023034_9d7ebe271649a6ebbc3494c026126869.jpg  \n",
            "  inflating: ufa/train/220307023059_2d7e346818b0a70de709a07e1dd8a6d0.jpg  \n",
            "  inflating: ufa/train/220307023100_a0792b41b59deeaa4825291e11210275.jpg  \n",
            "  inflating: ufa/train/220307023255_998d453b3382de234da4e1239b8e36e8.jpg  \n",
            "  inflating: ufa/train/220307023310_f1b93563f98520f887d83ce036820431.jpg  \n",
            "  inflating: ufa/train/220307023333_174d9ee28f251f502bd745a3a2acaf06.jpg  \n",
            "  inflating: ufa/train/220307023443_9d9db6e5ae45f66adc911ca994ff1265.jpg  \n",
            "  inflating: ufa/train/220307023446_a0f647ffee15d1cbeb68642cddc2963a.jpg  \n",
            "  inflating: ufa/train/220307023657_f77fc0a6a0b94f32d57c204964e656d1.jpg  \n",
            "  inflating: ufa/train/220307023716_8585b66a23c1f73093805605e3f0364d.jpg  \n",
            "  inflating: ufa/train/220307023940_2fa3fe231a7e495ad1fe840ce5eb8fc8.jpg  \n",
            "  inflating: ufa/train/220307023940_f1c6e2ecdfb8557166546183c11c5eaa.jpg  \n",
            "  inflating: ufa/train/220307023943_8bffc92c4f2c2f7a8b9d3400446a48c5.jpg  \n",
            "  inflating: ufa/train/220307024146_b8a7a4d768c4e710b5b5f874b6099dbc.jpg  \n",
            "  inflating: ufa/train/220307024716_902e232dfe9c5ac55643703abcbf1d11.jpg  \n",
            "  inflating: ufa/train/220307024828_7b3e78fd1789a8c474db8346747a0d0d.jpg  \n",
            "  inflating: ufa/train/220307024848_87eb6b56b8105de4f05ffb9138d24255.jpg  \n",
            "  inflating: ufa/train/220307025103_8cfed6f7fcfdf786329b73bfda68da64.jpg  \n",
            "  inflating: ufa/train/220307025354_7647061922af514fe4512985ccfd953c.jpg  \n",
            "  inflating: ufa/train/220307025438_bcb8831f5a1aba7e89830d66a8cfc83a.jpg  \n",
            "  inflating: ufa/train/220307025439_fdcf8babf0f0a876052ce64556e16141.jpg  \n",
            "  inflating: ufa/train/220307025502_4320fefa21f20b515fe01cfcf7b221e2.jpg  \n",
            "  inflating: ufa/train/220307025849_d206c894f44ff0c6f3e2266ac499e9e6.jpg  \n",
            "  inflating: ufa/train/220307025909_eb746bde6b62f4ee6ea133bb087cda5c.jpg  \n",
            "  inflating: ufa/train/220307025917_371c1bbe93ff4b3d5c141a75aaa66f38.jpg  \n",
            "  inflating: ufa/train/220307030155_5e9e3b2baab4bad53e5f2146dc6bfc0b.jpg  \n",
            "  inflating: ufa/train/220307030743_1486aa9c60e82be1cd7c4859774d372a.jpg  \n",
            "  inflating: ufa/train/220307030755_3e370899eb40eda5cf58d679d9bd7755.jpg  \n",
            "  inflating: ufa/train/220307030844_0a1678109d85fb0e4296ee6c376642a4.jpg  \n",
            "  inflating: ufa/train/220307030904_b253c43b3f77dcb1cdff52c914f91f4e.jpg  \n",
            "  inflating: ufa/train/220307030916_5696db71e999746b68186f1b45eb4829.jpg  \n",
            "  inflating: ufa/train/220307030919_f345deda73d6ccb2985b00ff538161df.jpg  \n",
            "  inflating: ufa/train/220307030925_4de175fc3faf4a21a6dee729173a885e.jpg  \n",
            "  inflating: ufa/train/220307030925_8cd419dd6ce8c72f66e2fd62d0d9eacf.jpg  \n",
            "  inflating: ufa/train/220307030931_4baa51f5a816e728f78329ba24b5bf3a.jpg  \n",
            "  inflating: ufa/train/220307031136_0cab32b967c54b479cb4dde211c9df63.jpg  \n",
            "  inflating: ufa/train/220307031221_abf0aa57724f0df7f88ed2a47bb5d023.jpg  \n",
            "  inflating: ufa/train/220307031304_161c9931221e8830ba968fd82903d618.jpg  \n",
            "  inflating: ufa/train/220307031305_4c5b2ebfaa7828ad18ec61e3f0dbdc52.jpg  \n",
            "  inflating: ufa/train/220307031714_8b6fd1752119042688d13b5135e7657b.jpg  \n",
            "  inflating: ufa/train/220307031925_fd4198c4bc205c57792b7bbfd7714eb1.jpg  \n",
            "  inflating: ufa/train/220307032129_4f3be436a82ecc379bb0efc9a7415dcb.jpg  \n",
            "  inflating: ufa/train/220307032132_33ab24ee8449f97bf273c522ae66751b.jpg  \n",
            "  inflating: ufa/train/220307032319_e493819dbe903501c4c3d6ac7b6256e0.jpg  \n",
            "  inflating: ufa/train/220307032341_a7a907084240cbfe7d36be899197aaec.jpg  \n",
            "  inflating: ufa/train/220307032410_93a2bca4d50e5500d9be0bf851fe0ae0.jpg  \n",
            "  inflating: ufa/train/220307032433_3e4a73bc6393a5753ca1e0746cb05101.jpg  \n",
            "  inflating: ufa/train/220307032511_6a57838d2f6a4ca390d90950eaf34cd7.jpg  \n",
            "  inflating: ufa/train/220307032641_a5501f34fedafb0886b7ed86cbaad7c7.jpg  \n",
            "  inflating: ufa/train/220307032746_890c5b1315fe2e4d422513ed961e3e7b.jpg  \n",
            "  inflating: ufa/train/220307032818_3f653a0f3cffdce435b1d475d72169c4.jpg  \n",
            "  inflating: ufa/train/220307032830_2de4d7870fd36e3fda822e0ec392c2c2.jpg  \n",
            "  inflating: ufa/train/220307032831_3dad9de0c9e16da49557d4c55e4b2210.jpg  \n",
            "  inflating: ufa/train/220307032854_97f640cb7deec087ab044745922f25eb.jpg  \n",
            "  inflating: ufa/train/220307033021_1eecfa35271164463e8aab21fd0bae66.jpg  \n",
            "  inflating: ufa/train/220307033111_f1452af451f4dd7b3f6ad97cf78fcd30.jpg  \n",
            "  inflating: ufa/train/220307033149_fe0657219820e8c503b73a854d0f5a35.jpg  \n",
            "  inflating: ufa/train/220307033245_0fe168f860633be7c8c538bb695d73dc.jpg  \n",
            "  inflating: ufa/train/220307033245_886351ae2be653bba24af9aa8e92765f.jpg  \n",
            "  inflating: ufa/train/220307033246_8f76da470a84798f7832669c86dbec0b.jpg  \n",
            "  inflating: ufa/train/220307033247_13ff07caaf2a14b07cc0ffab5b02dc47.jpg  \n",
            "  inflating: ufa/train/220307033323_00a172d26fe64536ba7a3ca7bbae7bad.jpg  \n",
            "  inflating: ufa/train/220307033326_3c8b9c5a7c4989f5a5c3d9e9f8e31225.jpg  \n",
            "  inflating: ufa/train/220307033429_babdce0a45090d04ae6f166940181656.jpg  \n",
            "  inflating: ufa/train/220307033430_7421c0967efb54f552a509f83a096cd1.jpg  \n",
            "  inflating: ufa/train/220307033522_7fb3250b54ddbec7186eb25a8f33b95d.jpg  \n",
            "  inflating: ufa/train/220307033537_a31bb9c13eaacb593a8c22f895c3164b.jpg  \n",
            "  inflating: ufa/train/220307033746_e9f1fe463766d6953e749e003d378953.jpg  \n",
            "  inflating: ufa/train/220307033832_b3fdd853edaef3532f6662d80d9ad69e.jpg  \n",
            "  inflating: ufa/train/220307034048_f7ab7ed53b6a34511eb9d633ebeef8e2.jpg  \n",
            "  inflating: ufa/train/220307034057_4b2c03a1c1707da201337250db498268.jpg  \n",
            "  inflating: ufa/train/220307034111_c350264d238588bc49c8caad8dd7f0f7.jpg  \n",
            "  inflating: ufa/train/220307034122_19b7cdf9d08f56a62613c496ab1aaeb7.jpg  \n",
            "  inflating: ufa/train/220307034123_c953d2c85d88d7b3386d750b8627d335.jpg  \n",
            "  inflating: ufa/train/220307034126_2dc56f43e50002235064b65fa567b172.jpg  \n",
            "  inflating: ufa/train/220307034130_4a60f420af65f5979fcfaea0f31dcc71.jpg  \n",
            "  inflating: ufa/train/220307034219_5784703097442e6cf89a8329857a2668.jpg  \n",
            "  inflating: ufa/train/220307034224_b56cded4811a6f2295436473a18bfe12.jpg  \n",
            "  inflating: ufa/train/220307034226_3627c283bd3f23b63026d62ad4d21739.jpg  \n",
            "  inflating: ufa/train/220307034242_e9caa84c2c0b8b7173cafecbbb019e98.jpg  \n",
            "  inflating: ufa/train/220307034303_c29f4a7f35843b9d11d3f9922758aee1.jpg  \n",
            "  inflating: ufa/train/220307034423_ff47941e732a8f9b8e461747abea9720.jpg  \n",
            "  inflating: ufa/train/220307034437_5873d796065a32d972226abf671fdd35.jpg  \n",
            "  inflating: ufa/train/220307034508_82abb6cc59a067abd165f1d9660631d6.jpg  \n",
            "  inflating: ufa/train/220307034710_ccb493dd6e0f4c6e38a1e3ab31ec1e4f.jpg  \n",
            "  inflating: ufa/train/220307075948_fbef5097c47602ecf392be82e7a3729d.jpg  \n",
            "  inflating: ufa/train/220307080034_ab3bd577b42eb6362c351f7331a421db.jpg  \n",
            "  inflating: ufa/train/220307080157_cf891af6935c8797ce7bf70b843339e2.jpg  \n",
            "  inflating: ufa/train/220307080423_269570eb71323dc1e20b7f30863951b7.jpg  \n",
            "  inflating: ufa/train/220307080626_ba908b467e5f9431cb3a4b8d1b23c24b.jpg  \n",
            "  inflating: ufa/train/220307080739_73f7ce1670724d407a092078bbfe1da1.jpg  \n",
            "  inflating: ufa/train/220307080853_db633c7e47674dd3b697915aaaca60b3.jpg  \n",
            "  inflating: ufa/train/220307081154_bd12999a0d91c2cac9b7f57056760a34.jpg  \n",
            "  inflating: ufa/train/220307081545_319ef7734707eba7d6bb87998cbb4be7.jpg  \n",
            "  inflating: ufa/train/220307081600_be68778c5e210c33feccb045bf0e889c.jpg  \n",
            "  inflating: ufa/train/220307082216_0334b4f0693f5de2fff068503919cb86.jpg  \n",
            "  inflating: ufa/train/220307082227_0042c81cac5dc917687d26d3de8acfd2.jpg  \n",
            "  inflating: ufa/train/220307082710_3d23ae61292f9c441a3feb30cd1efca8.jpg  \n",
            "  inflating: ufa/train/220307082845_67911164fbb767b1e476f6eef9bdb0c3.jpg  \n",
            "  inflating: ufa/train/220307082900_a85a40480ce477057d25844c82e0f112.jpg  \n",
            "  inflating: ufa/train/220307083203_51744400c798ccbdd38e6fbca7a4976c.jpg  \n",
            "  inflating: ufa/train/220307083515_9339ce5cf4f01829995f0a52afbff1ca.jpg  \n",
            "  inflating: ufa/train/220307083529_d55c35d022a65f151721d7fd008ed540.jpg  \n",
            "  inflating: ufa/train/220307083737_27a6cd847b85a6fb54e78a437d6f9bf1.jpg  \n",
            "  inflating: ufa/train/220307083910_97ebac290491fcce36237e6441ec8fde.jpg  \n",
            "  inflating: ufa/train/220307084053_a042a922c981c62f8922b6c2e8b05943.jpg  \n",
            "  inflating: ufa/train/220307085541_f06b3a14781754934e72f2637bc7a85d.jpg  \n",
            "  inflating: ufa/train/220307085810_d1fadc9772ff8dbe3b1904f752ea17aa.jpg  \n",
            "  inflating: ufa/train/220307085905_484451476d4469abca1ae1b5c4cddffc.jpg  \n",
            "  inflating: ufa/train/220307085935_b3dd32f62645d9567b0b2dd35e2235d4.jpg  \n",
            "  inflating: ufa/train/220307090016_36f683b32ab99eef13415f82e6bb6743.jpg  \n",
            "  inflating: ufa/train/220307090137_06b24305e9852f3373fa26e0231ea90a.jpg  \n",
            "  inflating: ufa/train/220307090152_d9a5f34af7d53b2548f1cc029a5edf49.jpg  \n",
            "  inflating: ufa/train/220307090202_ff6c0924729228abd05b0100716b76c9.jpg  \n",
            "  inflating: ufa/train/220307090229_7e2e079d7352c4f64aa0c4ed0309ab5e.jpg  \n",
            "  inflating: ufa/train/220307090239_f5e0f6d52285e08c0eb6c991c54abf11.jpg  \n",
            "  inflating: ufa/train/220307090248_c0b2eaf82c3da865fd9a88acfcd8c121.jpg  \n",
            "  inflating: ufa/train/220307090527_9d1251afcc1024f55fcf087280e99ee6.jpg  \n",
            "  inflating: ufa/train/220307123435_ee13e0f16c73bb6e2ce76a72814f3428.jpg  \n",
            "  inflating: ufa/train/220307123436_a755745087e8d1f6efb7dde875b3f1be.jpg  \n",
            "  inflating: ufa/train/220307124157_724a703fcf5be59f1690f9a04a91126c.jpg  \n",
            "  inflating: ufa/train/220307125455_09d11e96934c3c345ddd5377f9933bed.jpg  \n",
            "  inflating: ufa/train/220307130847_dd59836101021bc5ad73c9536e11ad01.jpg  \n",
            "  inflating: ufa/train/220307131124_5c96a2de7e27599abd737c40ebdcae4d.jpg  \n",
            "  inflating: ufa/train/220307131313_62f62ecf0c46fdc6fa8be01621b2b8d0.jpg  \n",
            "  inflating: ufa/train/220307131638_75948c7e2df52346373ff823f36e701a.jpg  \n",
            "  inflating: ufa/train/220307131807_03e462932666c008819ac20a3c5ffe16.jpg  \n",
            "  inflating: ufa/train/220307131945_1d2defc24fe3920808beaa3aae29900c.jpg  \n",
            "  inflating: ufa/train/220307131953_bc3983b7fe2f0088cd22b2502398b912.jpg  \n",
            "  inflating: ufa/train/220307132224_52645281baa22ba7c267cccd4adc58e5.jpg  \n",
            "  inflating: ufa/train/220307133039_c465431e75884d9f97230cc1be196887.jpg  \n",
            "  inflating: ufa/train/220307133136_f746743cee6411dbdc409f353263a304.jpg  \n",
            "  inflating: ufa/train/220307133358_361e38abeea87117e53d438dcc1a8216.jpg  \n",
            "  inflating: ufa/train/220307133531_8fde47bcc70293c8063006cb37c47e92.jpg  \n",
            "  inflating: ufa/train/220307133732_05fd8809aa1f9f28ecde1c0b5d4a2d37.jpg  \n",
            "  inflating: ufa/train/220307134933_70c96100711eb749587852cad1c2df8f.jpg  \n",
            "  inflating: ufa/train/220307135416_276e578f15a59662a23ce7c5aa62d278.jpg  \n",
            "  inflating: ufa/train/220307135442_a5d9744471086f861e5ff6bcb38725f5.jpg  \n",
            "  inflating: ufa/train/220307140543_a7ba5608a37ece2fe8adcabf23a2a57f.jpg  \n",
            "  inflating: ufa/train/220307141017_14f6e3960159560f6de07f4b1ffe0486.jpg  \n",
            "  inflating: ufa/train/220307142451_490f9470cfa368874880ab2194775a34.jpg  \n",
            "  inflating: ufa/train/220307143947_9a9f7dd0f524fa0c4716b6abff5fb9cf.jpg  \n",
            "  inflating: ufa/train/220307144056_40e5f7e9e9bb7a01654c571366adb956.jpg  \n",
            "  inflating: ufa/train/220307145539_cd1db22243e8e9ec0d53631ba87dc42e.jpg  \n",
            "  inflating: ufa/train/220307145552_e1513d207f5dca4c7a76a7cd259067a9.jpg  \n",
            "  inflating: ufa/train/220307155623_d73f3c0782f9adc91fb15504219d2741.jpg  \n",
            "  inflating: ufa/train/220308011714_2cf9cddbe7e5b207ec5d82e077ec8d54.jpg  \n",
            "  inflating: ufa/train/220308020041_8227c886fcb9d4ecc1a223a96e7b4583.jpg  \n",
            "  inflating: ufa/train/220308020302_26d92d92acf91ebfc1a2b89f2e5d3bf6.jpg  \n",
            "  inflating: ufa/train/220308020508_dd19ed979744804c8b1ae7939d44c82b.jpg  \n",
            "  inflating: ufa/train/220308020729_b48d8cc83e850ec5d4a053cbb9616af0.jpg  \n",
            "  inflating: ufa/train/220308020735_cea2a44d3ec96fa3d36bae829d63b11e.jpg  \n",
            "  inflating: ufa/train/220308020741_fde686d082b96abae907d9b65de90632.jpg  \n",
            "  inflating: ufa/train/220308020750_05d4f485efad771de30f3e727694722a.jpg  \n",
            "  inflating: ufa/train/220308021323_8f628b1ac932a20148479c8b5d4afcfc.jpg  \n",
            "  inflating: ufa/train/220308021355_26772e1283e6bd6674f85eb8edf4a898.jpg  \n",
            "  inflating: ufa/train/220308021416_7ef65e35b9d0cefc339d18d691cc5ce1.jpg  \n",
            "  inflating: ufa/train/220308040809_af522362e3f8f5045ea973eb316582f6.jpg  \n",
            "  inflating: ufa/train/220308041328_173b7b604af3e28273dd389ab5700897.jpg  \n",
            "  inflating: ufa/train/220308041336_5057b172ec6151257e8d535514492cc2.jpg  \n",
            "  inflating: ufa/train/220308041534_284145095c45226caee410cb9021afb8.jpg  \n",
            "  inflating: ufa/train/220308041725_c52d2fedfe7f57151ee91d0556291dd4.jpg  \n",
            "  inflating: ufa/train/220308041741_bb1f2e9304022201f71ddd5021d5c259.jpg  \n",
            "  inflating: ufa/train/220308042057_26ac937a0ab39fe675b79eeb736d6282.jpg  \n",
            "  inflating: ufa/sample_solution.csv  \n",
            "  inflating: ufa/Условие_задачи_Чемпионат_Республика_Башкортостан.pdf  \n"
          ]
        }
      ]
    },
    {
      "cell_type": "code",
      "source": [
        "!mkdir ufa/test"
      ],
      "metadata": {
        "id": "xq_gtYUYiRa7"
      },
      "execution_count": 6,
      "outputs": []
    },
    {
      "cell_type": "code",
      "source": [
        "!unzip test_dataset_test.zip -d ufa/test/"
      ],
      "metadata": {
        "id": "LV-Q31d5doPM",
        "colab": {
          "base_uri": "https://localhost:8080/"
        },
        "outputId": "b188310e-f4b2-413b-b126-5449765fc8d7"
      },
      "execution_count": 7,
      "outputs": [
        {
          "output_type": "stream",
          "name": "stdout",
          "text": [
            "Archive:  test_dataset_test.zip\n",
            "  inflating: ufa/test/3632659670_30122517390_7940463214_5.jpg  \n",
            "  inflating: ufa/test/5462217165_30427088370_59864713467_5.jpg  \n",
            "  inflating: ufa/test/5876578244_631703851_72334554003_4.jpg  \n",
            "  inflating: ufa/test/6231154328_42126152388_7531475869_7.jpg  \n",
            "  inflating: ufa/test/7316157724_59214342485_43319353865_6.jpg  \n",
            "  inflating: ufa/test/7689511839_47811058882_39977310154_5.jpg  \n",
            "  inflating: ufa/test/8387933680_5192337188_33405370907_1.jpg  \n",
            "  inflating: ufa/test/9259096884_2251720133_44072689872_8.jpg  \n",
            "  inflating: ufa/test/9939918097_95262672304_5380914686_5.jpg  \n",
            "  inflating: ufa/test/10942248620_77738287904_92317579456_8.jpg  \n",
            "  inflating: ufa/test/11476252728_90946703888_83373466997_4.jpg  \n",
            "  inflating: ufa/test/11758169966_65799840524_72283028069_1.jpg  \n",
            "  inflating: ufa/test/12054928568_20130374464_8647095983_8.jpg  \n",
            "  inflating: ufa/test/12219465515_74065178154_47483019939_5.jpg  \n",
            "  inflating: ufa/test/13693932815_79942882458_6879120134_3.jpg  \n",
            "  inflating: ufa/test/16798749835_98183227174_58337002268_8.jpg  \n",
            "  inflating: ufa/test/17820331238_48919943775_53688855463_7.jpg  \n",
            "  inflating: ufa/test/18159590555_77534034419_90382179646_7.jpg  \n",
            "  inflating: ufa/test/18248094437_73209316997_86739225042_2.jpg  \n",
            "  inflating: ufa/test/18471084102_49015678618_59817544228_5.jpg  \n",
            "  inflating: ufa/test/19173102867_61813954986_47769935183_6.jpg  \n",
            "  inflating: ufa/test/20375412252_17377854913_45007391395_1.jpg  \n",
            "  inflating: ufa/test/20532412812_81464568237_87100096877_6.jpg  \n",
            "  inflating: ufa/test/21111904251_15871829096_63702666750_8.jpg  \n",
            "  inflating: ufa/test/21297326908_89122201995_33244375229_5.jpg  \n",
            "  inflating: ufa/test/21475276303_74886302477_1135549154_3.jpg  \n",
            "  inflating: ufa/test/21693675374_80270169049_22514113955_4.jpg  \n",
            "  inflating: ufa/test/21763461528_61952961247_90581373714_7.jpg  \n",
            "  inflating: ufa/test/21806079375_99999513912_65397105773_7.jpg  \n",
            "  inflating: ufa/test/22145047546_18900964896_21693707025_7.jpg  \n",
            "  inflating: ufa/test/22345649342_19302842621_8391517722_4.jpg  \n",
            "  inflating: ufa/test/23090072628_45502701498_26097209825_1.jpg  \n",
            "  inflating: ufa/test/23100616650_76354053691_65752284813_3.jpg  \n",
            "  inflating: ufa/test/23406810128_92400012225_91189932005_2.jpg  \n",
            "  inflating: ufa/test/23451804462_88136288742_12417584102_7.jpg  \n",
            "  inflating: ufa/test/23476457220_17470085206_27235437455_2.jpg  \n",
            "  inflating: ufa/test/23555689847_77850790029_55032324891_0.jpg  \n",
            "  inflating: ufa/test/24332920495_73663335985_93491861509_0.jpg  \n",
            "  inflating: ufa/test/24468373810_7109276343_30176749500_8.jpg  \n",
            "  inflating: ufa/test/24925450209_33219892808_11431124651_3.jpg  \n",
            "  inflating: ufa/test/25162564084_62010649301_97174777291_7.jpg  \n",
            "  inflating: ufa/test/25216655581_56682846571_96075127958_0.jpg  \n",
            "  inflating: ufa/test/25434157475_29297576790_66231791819_8.jpg  \n",
            "  inflating: ufa/test/25768948299_25030436881_35125747693_6.jpg  \n",
            "  inflating: ufa/test/25899126294_54992221024_70705194127_8.jpg  \n",
            "  inflating: ufa/test/26094808137_71327562922_94574936984_7.jpg  \n",
            "  inflating: ufa/test/26230096975_1198032682_52245678077_3.jpg  \n",
            "  inflating: ufa/test/26264642843_91465147462_62719248443_5.jpg  \n",
            "  inflating: ufa/test/26394099310_78300095985_9976287741_7.jpg  \n",
            "  inflating: ufa/test/26441489426_18165640948_34393405825_4.jpg  \n",
            "  inflating: ufa/test/27305461463_51320585989_51701927936_5.jpg  \n",
            "  inflating: ufa/test/28091271911_92878150393_72610099300_0.jpg  \n",
            "  inflating: ufa/test/28516144444_71274608177_54683197832_5.jpg  \n",
            "  inflating: ufa/test/28543476406_60646821337_52580291052_8.jpg  \n",
            "  inflating: ufa/test/28946380942_22629718009_31856297848_5.jpg  \n",
            "  inflating: ufa/test/30239526678_50288342332_75677109540_5.jpg  \n",
            "  inflating: ufa/test/30492092711_93571909491_6705391221_3.jpg  \n",
            "  inflating: ufa/test/30625626244_75060863952_7773238360_7.jpg  \n",
            "  inflating: ufa/test/30737866059_6755196915_56565322630_0.jpg  \n",
            "  inflating: ufa/test/30957987015_40413504284_96448521179_1.jpg  \n",
            "  inflating: ufa/test/32095880276_72258831316_37222865013_4.jpg  \n",
            "  inflating: ufa/test/33100120890_76608498372_20873063564_8.jpg  \n",
            "  inflating: ufa/test/33437125596_39258982967_26350783647_4.jpg  \n",
            "  inflating: ufa/test/34020749806_42065966214_42113475048_2.jpg  \n",
            "  inflating: ufa/test/34316459153_42675795853_45238491337_4.jpg  \n",
            "  inflating: ufa/test/34492130592_77082153217_60939925639_6.jpg  \n",
            "  inflating: ufa/test/34962086382_41152425300_6582858306_2.jpg  \n",
            "  inflating: ufa/test/36178386529_57089327656_31656483153_6.jpg  \n",
            "  inflating: ufa/test/37139743310_60691904652_76502129171_2.jpg  \n",
            "  inflating: ufa/test/37253935967_78174699852_55041083995_0.jpg  \n",
            "  inflating: ufa/test/37732252922_9265441355_19052721018_3.jpg  \n",
            "  inflating: ufa/test/38059288495_20603261932_98453581641_6.jpg  \n",
            "  inflating: ufa/test/38926799062_98658093729_74130328817_2.jpg  \n",
            "  inflating: ufa/test/39875609337_70856687487_64538955318_4.jpg  \n",
            "  inflating: ufa/test/40221219317_64263417381_80041940601_1.jpg  \n",
            "  inflating: ufa/test/40250821856_66016223041_64318104536_5.jpg  \n",
            "  inflating: ufa/test/40567458052_99667140804_20508599954_6.jpeg  \n",
            "  inflating: ufa/test/40672286550_25493864967_78040153323_6.jpg  \n",
            "  inflating: ufa/test/40808151434_6506112138_50561574393_3.jpg  \n",
            "  inflating: ufa/test/41161352017_67812603029_96973884696_2.jpg  \n",
            "  inflating: ufa/test/41209276268_54448178080_65856898982_7.jpg  \n",
            "  inflating: ufa/test/41242801089_91911317622_62459766615_7.jpg  \n",
            "  inflating: ufa/test/42727522964_80250693285_90707744139_0.jpg  \n",
            "  inflating: ufa/test/43414129754_56967820775_81865472059_0.jpg  \n",
            "  inflating: ufa/test/43417367051_82686601297_844235364_3.jpg  \n",
            "  inflating: ufa/test/44703804427_80532092967_92831933798_4.jpg  \n",
            "  inflating: ufa/test/45158508074_67452276217_27238076348_3.jpg  \n",
            "  inflating: ufa/test/45595574659_73975632746_73585789753_8.jpg  \n",
            "  inflating: ufa/test/46437031165_33478406204_66674582381_8.jpg  \n",
            "  inflating: ufa/test/49409902354_44269956550_70520796024_2.jpg  \n",
            "  inflating: ufa/test/49742175390_41013561135_36437562029_0.jpg  \n",
            "  inflating: ufa/test/49788631696_17075858724_58558169672_6.jpg  \n",
            "  inflating: ufa/test/50214192549_95080792842_61548699058_0.jpg  \n",
            "  inflating: ufa/test/50252372729_38361099992_54369416993_3.jpg  \n",
            "  inflating: ufa/test/52308480107_53549595966_56770176653_6.jpg  \n",
            "  inflating: ufa/test/53350408810_65297831318_81370918823_0.jpg  \n",
            "  inflating: ufa/test/53769398476_24657825276_20812383348_8.jpg  \n",
            "  inflating: ufa/test/54220523079_79779057148_6098099579_0.jpg  \n",
            "  inflating: ufa/test/54397889126_31008769340_44779473534_7.jpg  \n",
            "  inflating: ufa/test/54702673499_82864990246_37033455641_6.jpg  \n",
            "  inflating: ufa/test/55255632498_28490378125_61766733934_3.jpg  \n",
            "  inflating: ufa/test/55783240335_76258432858_39377679542_4.jpg  \n",
            "  inflating: ufa/test/56359588528_61013071596_88752549200_2.jpg  \n",
            "  inflating: ufa/test/56530562662_69754487625_50001895406_5.jpg  \n",
            "  inflating: ufa/test/57000052812_89593822963_84814232160_4.jpg  \n",
            "  inflating: ufa/test/57492173091_20539775008_47950937567_1.jpg  \n",
            "  inflating: ufa/test/57792611953_99833488834_5310719949_5.jpg  \n",
            "  inflating: ufa/test/57945735442_33154086978_91213810993_2.jpg  \n",
            "  inflating: ufa/test/58017440819_67868566878_68165131383_0.jpg  \n",
            "  inflating: ufa/test/58233104500_64165970436_30478099995_4.jpg  \n",
            "  inflating: ufa/test/58263336846_68299918516_14168185830_3.jpg  \n",
            "  inflating: ufa/test/58831061198_26229832425_82406545360_8.jpg  \n",
            "  inflating: ufa/test/59166243075_42869491280_83552063424_7.jpg  \n",
            "  inflating: ufa/test/59591076513_90736706192_43452972432_4.jpg  \n",
            "  inflating: ufa/test/59844773885_54590960753_57572848920_6.jpg  \n",
            "  inflating: ufa/test/60879177998_15763718934_82574532042_2.jpg  \n",
            "  inflating: ufa/test/61254271203_76427875673_12269967389_3.jpg  \n",
            "  inflating: ufa/test/62091039787_17960887139_55325054977_3.jpg  \n",
            "  inflating: ufa/test/63145878907_80717332492_78969852376_3.jpg  \n",
            "  inflating: ufa/test/63907678738_56893919786_63552653137_7.jpg  \n",
            "  inflating: ufa/test/64042271350_69408990627_72729049605_2.jpg  \n",
            "  inflating: ufa/test/64894300020_68026068150_25320874500_1.jpg  \n",
            "  inflating: ufa/test/65356595826_46356834781_17361862399_7.jpg  \n",
            "  inflating: ufa/test/65510266029_20767501970_688436658_1.jpg  \n",
            "  inflating: ufa/test/65753305640_65699187471_56509204936_0.jpg  \n",
            "  inflating: ufa/test/66543242661_66407627038_9922523383_4.jpg  \n",
            "  inflating: ufa/test/67008586173_98661637032_97208665528_2.jpg  \n",
            "  inflating: ufa/test/69412208456_48682029993_48453292525_2.jpg  \n",
            "  inflating: ufa/test/69544999352_13117481383_13072842806_0.jpg  \n",
            "  inflating: ufa/test/69641418362_27028913412_20450173167_6.jpg  \n",
            "  inflating: ufa/test/70492442702_21083599816_22777758696_0.jpg  \n",
            "  inflating: ufa/test/70992205390_55266953283_81339529974_0.jpg  \n",
            "  inflating: ufa/test/71078969010_77818538536_38702507924_0.jpg  \n",
            "  inflating: ufa/test/71085408773_9182424708_53759783832_0.jpg  \n",
            "  inflating: ufa/test/71272426640_68986388124_52199237957_6.jpg  \n",
            "  inflating: ufa/test/71377579769_34909358388_91771907303_8.jpg  \n",
            "  inflating: ufa/test/71800128543_45068247471_327949500_1.jpg  \n",
            "  inflating: ufa/test/72025796673_65007299467_19383196911_6.jpg  \n",
            "  inflating: ufa/test/72156720582_59872520102_51849559830_3.jpg  \n",
            "  inflating: ufa/test/72213326313_85431757350_31010583015_8.jpg  \n",
            "  inflating: ufa/test/72247588360_17217555187_90487891213_1.jpg  \n",
            "  inflating: ufa/test/72679421341_47010767227_2457612460_8.jpg  \n",
            "  inflating: ufa/test/73801481814_25582396594_72202384862_4.jpg  \n",
            "  inflating: ufa/test/74010468842_67302081879_15259339927_7.jpg  \n",
            "  inflating: ufa/test/75811011994_12825427475_18047173344_1.jpg  \n",
            "  inflating: ufa/test/76321946198_77978968386_62446912855_5.jpg  \n",
            "  inflating: ufa/test/76728244975_24914806090_67025490165_1.jpg  \n",
            "  inflating: ufa/test/76778506032_87539028907_31034495441_8.jpg  \n",
            "  inflating: ufa/test/77235316707_32826486437_34857540050_5.jpg  \n",
            "  inflating: ufa/test/79314412129_42838563750_93434772024_4.jpg  \n",
            "  inflating: ufa/test/79906741755_45893555432_48831726792_5.jpg  \n",
            "  inflating: ufa/test/79935627926_31176845023_69401413024_3.jpg  \n",
            "  inflating: ufa/test/79967272308_12793719337_18212217995_5.jpg  \n",
            "  inflating: ufa/test/80128313599_98196458454_79029076007_8.jpg  \n",
            "  inflating: ufa/test/80171655960_54644187390_79272086359_6.jpg  \n",
            "  inflating: ufa/test/80178223806_33951416336_62092717471_8.jpg  \n",
            "  inflating: ufa/test/80222364356_80858137110_44480454281_8.jpg  \n",
            "  inflating: ufa/test/80343417294_49172262317_4597616849_3.jpg  \n",
            "  inflating: ufa/test/80614530073_43384721551_29456202310_2.jpg  \n",
            "  inflating: ufa/test/80764029034_51729610188_93743412284_8.jpg  \n",
            "  inflating: ufa/test/81136076520_35846778793_42009528290_4.jpg  \n",
            "  inflating: ufa/test/81349011157_75132833628_67633112083_1.jpg  \n",
            "  inflating: ufa/test/81378286654_56680399648_2798306417_3.jpg  \n",
            "  inflating: ufa/test/81622649112_77490402138_38982991617_1.jpg  \n",
            "  inflating: ufa/test/81686642200_14867111454_93757719710_2.jpg  \n",
            "  inflating: ufa/test/82009689905_27534483589_88046670198_4.jpg  \n",
            "  inflating: ufa/test/82039697885_82007482498_77760747071_3.jpg  \n",
            "  inflating: ufa/test/82666345396_46654806289_18773279613_0.jpg  \n",
            "  inflating: ufa/test/83068784364_43001791284_78275864101_5.jpg  \n",
            "  inflating: ufa/test/83104004875_69212462890_50185909525_7.jpg  \n",
            "  inflating: ufa/test/83635960026_72518041957_86451824950_1.jpg  \n",
            "  inflating: ufa/test/84584512159_66259269650_23776034110_7.jpg  \n",
            "  inflating: ufa/test/84599924676_62567045733_50620982953_6.jpg  \n",
            "  inflating: ufa/test/84678124138_93002695993_68055338283_2.jpg  \n",
            "  inflating: ufa/test/84681559315_14395232037_10084552469_3.jpg  \n",
            "  inflating: ufa/test/84899424284_62915277763_71428023998_2.jpg  \n",
            "  inflating: ufa/test/85050314064_36234668741_75484226454_6.jpg  \n",
            "  inflating: ufa/test/85641139220_9541730434_79689754882_6.jpg  \n",
            "  inflating: ufa/test/85775337874_11995576365_1196278849_2.jpg  \n",
            "  inflating: ufa/test/85920401231_37678428218_6170424317_7.jpg  \n",
            "  inflating: ufa/test/86587431345_19415917435_15848908132_5.jpg  \n",
            "  inflating: ufa/test/86727219399_87502526775_13745292446_5.jpg  \n",
            "  inflating: ufa/test/87020588432_63380736926_22967135014_6.jpg  \n",
            "  inflating: ufa/test/88622036862_97031617939_61939911392_1.jpg  \n",
            "  inflating: ufa/test/89858746862_88112029067_39126477367_3.jpg  \n",
            "  inflating: ufa/test/90090774255_93425877232_96906270999_1.jpg  \n",
            "  inflating: ufa/test/90330162500_72321190089_6199598413_7.jpg  \n",
            "  inflating: ufa/test/91599497978_24959057669_56708833722_1.jpg  \n",
            "  inflating: ufa/test/91644977779_94235277390_71869014863_4.jpg  \n",
            "  inflating: ufa/test/91808068000_92293326341_2876543987_8.jpg  \n",
            "  inflating: ufa/test/92018915873_65657234462_19117367649_7.jpg  \n",
            "  inflating: ufa/test/92025186647_49423511366_45537106756_8.jpg  \n",
            "  inflating: ufa/test/92817171967_8706904073_1937940515_4.jpg  \n",
            "  inflating: ufa/test/93794757271_68289030603_19125007053_7.jpg  \n",
            "  inflating: ufa/test/94115163897_12012986067_64878870506_7.jpg  \n",
            "  inflating: ufa/test/94203564021_72430084939_11161274645_8.jpg  \n",
            "  inflating: ufa/test/94269895577_67261239447_72224478360_8.jpg  \n",
            "  inflating: ufa/test/94790217016_17108156014_60668676818_2.jpg  \n",
            "  inflating: ufa/test/95223162443_72346213076_51769464794_5.jpg  \n",
            "  inflating: ufa/test/95670696932_96044183395_89215754252_2.jpg  \n",
            "  inflating: ufa/test/95795598417_78517737417_53096264599_3.jpg  \n",
            "  inflating: ufa/test/95822097586_83690059453_17194743038_7.jpg  \n",
            "  inflating: ufa/test/96100633121_25640155399_75689680806_3.jpg  \n",
            "  inflating: ufa/test/96406317572_94560938014_71212939050_5.jpg  \n",
            "  inflating: ufa/test/96933339466_82606316556_56664399670_0.jpg  \n",
            "  inflating: ufa/test/97032025142_84437181241_56026861042_6.jpg  \n",
            "  inflating: ufa/test/97498216387_79824228102_20906828866_7.jpg  \n",
            "  inflating: ufa/test/97612397032_15073292301_23361330906_4.jpg  \n",
            "  inflating: ufa/test/97752645427_80439908839_41048740208_4.jpg  \n",
            "  inflating: ufa/test/98147007705_19432238264_20205812871_1.jpg  \n",
            "  inflating: ufa/test/98510645935_77300946780_16775070221_3.jpg  \n",
            "  inflating: ufa/test/98607441727_9843827896_44944173880_7.jpg  \n",
            "  inflating: ufa/test/99062176745_67045811056_76209801296_5.jpg  \n",
            "  inflating: ufa/test/99515191879_45587489942_60618239911_3.jpg  \n",
            "  inflating: ufa/test/99817980846_27356099293_840981407_7.jpg  \n",
            "  inflating: ufa/test/425643561_93356007690_92923490769_4.jpg  \n",
            "  inflating: ufa/test/764033801_56220032829_29188757281_6.jpg  \n",
            "  inflating: ufa/test/783144890_6115399626_44291175108_8.jpg  \n",
            "  inflating: ufa/test/1309706375_26859337355_10248277358_6.jpg  \n",
            "  inflating: ufa/test/1335578768_23826803886_26839814632_8.jpg  \n",
            "  inflating: ufa/test/1648698065_17417275877_18649547256_2.jpg  \n",
            "  inflating: ufa/test/1880398815_32934251999_80069793704_5.jpg  \n",
            "  inflating: ufa/test/2298268045_23935653634_49156575692_8.jpg  \n",
            "  inflating: ufa/test/2981096774_68877915067_68099964979_2.jpg  \n",
            "  inflating: ufa/test/3583169913_95568120109_19560619216_8.jpg  \n"
          ]
        }
      ]
    },
    {
      "cell_type": "code",
      "source": [
        "!mkdir /content/ufa/aug"
      ],
      "metadata": {
        "id": "UBIBfs6w0P-f"
      },
      "execution_count": 8,
      "outputs": []
    },
    {
      "cell_type": "markdown",
      "metadata": {
        "id": "l5MpBxb2MjsO"
      },
      "source": [
        "## Датасет\n",
        "\n",
        "Прежде чем разбираться с моделями, нам надо в первую очередь разобраться с тем, как грузить датасет. Давайте напишем класс в торче для этого."
      ]
    },
    {
      "cell_type": "code",
      "execution_count": 9,
      "metadata": {
        "id": "h72XzlyfMZek"
      },
      "outputs": [],
      "source": [
        "class ImageDataset(Dataset):\n",
        "    def __init__(self, data_df, transform=None):\n",
        "\n",
        "        self.data_df = data_df\n",
        "        self.transform = transform\n",
        "\n",
        "    def __getitem__(self, idx):\n",
        "        # достаем имя изображения и ее лейбл\n",
        "        image_name, label = self.data_df.iloc[idx]['ID_img'], self.data_df.iloc[idx]['class']\n",
        "\n",
        "        # читаем картинку. read the image\n",
        "        image = cv2.imread(f\"/content/ufa/train/{image_name}\")\n",
        "        image = cv2.cvtColor(image, cv2.COLOR_BGR2RGB)\n",
        "        image = Image.fromarray(image)\n",
        "        #print(\"image\",image)\n",
        "        # преобразуем, если нужно. transform it, if necessary\n",
        "        if self.transform:\n",
        "            image = self.transform(image)\n",
        "        \n",
        "        return image, torch.tensor(label).long()\n",
        "    \n",
        "    def __len__(self):\n",
        "        return len(self.data_df)"
      ]
    },
    {
      "cell_type": "code",
      "source": [
        "class AugBlurImageDataset(Dataset):\n",
        "    def __init__(self, data_df, transform=None):\n",
        "\n",
        "        self.data_df = data_df\n",
        "        self.transform = transform\n",
        "\n",
        "    def __getitem__(self, idx):\n",
        "        # достаем имя изображения и ее лейбл\n",
        "        image_name, label = self.data_df.iloc[idx]['ID_img'], self.data_df.iloc[idx]['class']\n",
        "\n",
        "        # читаем картинку. read the image\n",
        "        name, ext = image_name.split('.')\n",
        "        image = cv2.imread(f\"/content/ufa/aug/{name}_blur.{ext}\")\n",
        "        image = cv2.cvtColor(image, cv2.COLOR_BGR2RGB)\n",
        "        image = Image.fromarray(image)\n",
        "        #print(\"image\",image)\n",
        "        # преобразуем, если нужно. transform it, if necessary\n",
        "        if self.transform:\n",
        "            image = self.transform(image)\n",
        "        \n",
        "        return image, torch.tensor(label).long()\n",
        "    \n",
        "    def __len__(self):\n",
        "        return len(self.data_df)"
      ],
      "metadata": {
        "id": "WEWet6kK-3Q7"
      },
      "execution_count": 10,
      "outputs": []
    },
    {
      "cell_type": "code",
      "source": [
        "class AugDarkImageDataset(Dataset):\n",
        "    def __init__(self, data_df, transform=None):\n",
        "\n",
        "        self.data_df = data_df\n",
        "        self.transform = transform\n",
        "\n",
        "    def __getitem__(self, idx):\n",
        "        # достаем имя изображения и ее лейбл\n",
        "        image_name, label = self.data_df.iloc[idx]['ID_img'], self.data_df.iloc[idx]['class']\n",
        "\n",
        "        # читаем картинку. read the image\n",
        "        #print(\"dark name\", image_name)\n",
        "        name, ext = image_name.split('.')\n",
        "        image = cv2.imread(f\"/content/ufa/aug/{name}_dark.{ext}\")\n",
        "        image = cv2.cvtColor(image, cv2.COLOR_BGR2RGB)\n",
        "        image = Image.fromarray(image)\n",
        "        #print(\"image\",image)\n",
        "        # преобразуем, если нужно. transform it, if necessary\n",
        "        if self.transform:\n",
        "            image = self.transform(image)\n",
        "        \n",
        "        return image, torch.tensor(label).long()\n",
        "    \n",
        "    def __len__(self):\n",
        "        return len(self.data_df)"
      ],
      "metadata": {
        "id": "m3iXoYfVxHjJ"
      },
      "execution_count": 11,
      "outputs": []
    },
    {
      "cell_type": "code",
      "execution_count": 12,
      "metadata": {
        "id": "7URcg7KlMqbV"
      },
      "outputs": [],
      "source": [
        "# задаем преобразование изображения.\n",
        "\n",
        "train_transform = transforms.Compose([\n",
        "    transforms.RandomResizedCrop(256, scale=(0.4, 1.0)),\n",
        "    transforms.RandomRotation(degrees=5),\n",
        "    transforms.ColorJitter(),\n",
        "    transforms.RandomHorizontalFlip(),\n",
        "    transforms.CenterCrop(224),\n",
        "    #transforms.Grayscale(num_output_channels=3),\n",
        "    transforms.ToTensor(),\n",
        "    transforms.Normalize(mean=[0.485, 0.456, 0.406],\n",
        "                          std=[0.229, 0.224, 0.225]),\n",
        "])\n",
        "\n",
        "valid_transform = transforms.Compose([\n",
        "    transforms.Resize(256),\n",
        "    transforms.CenterCrop(224),\n",
        "    #transforms.Grayscale(num_output_channels=3),\n",
        "    #transforms.RandomResizedCrop(224),\n",
        "    transforms.ToTensor(),\n",
        "    transforms.Normalize(mean=[0.485, 0.456, 0.406],\n",
        "                          std=[0.229, 0.224, 0.225]),\n",
        "])\n",
        "\n",
        "blur_transform = transforms.Compose([\n",
        "    transforms.GaussianBlur(9),\n",
        "    transforms.CenterCrop(224),\n",
        "    #transforms.Grayscale(num_output_channels=3),\n",
        "    transforms.ToTensor(),\n",
        "    transforms.Normalize(mean=[0.485, 0.456, 0.406],\n",
        "                          std=[0.229, 0.224, 0.225]),\n",
        "])\n"
      ]
    },
    {
      "cell_type": "code",
      "execution_count": 13,
      "metadata": {
        "id": "5vqgjSAyMwT4"
      },
      "outputs": [],
      "source": [
        "# читаем датасет\n",
        "data_df = pd.read_csv(\"/content/ufa/train.csv\")"
      ]
    },
    {
      "cell_type": "code",
      "source": [
        "# Выбираем качественные изображения с мусорками (изображения с номером класса 1) для обогащеения набора данных\n",
        "c1_df = data_df.loc[data_df['class']==1]"
      ],
      "metadata": {
        "id": "_FPAL7uX2JXF"
      },
      "execution_count": 14,
      "outputs": []
    },
    {
      "cell_type": "code",
      "source": [
        "import numpy"
      ],
      "metadata": {
        "id": "jSz9Sm3Z6tQM"
      },
      "execution_count": 15,
      "outputs": []
    },
    {
      "cell_type": "code",
      "source": [
        "# Обогащать будем класс некачественных изображений, поэтому полученному набору присваиваем класс 2\n",
        "c1_df['class']=2.0\n",
        "dark_df = c1_df.copy()"
      ],
      "metadata": {
        "id": "zX05VnDDJqT2",
        "colab": {
          "base_uri": "https://localhost:8080/"
        },
        "outputId": "1fda1fa1-f1ca-41e7-9573-7ab89688e616"
      },
      "execution_count": 16,
      "outputs": [
        {
          "output_type": "stream",
          "name": "stderr",
          "text": [
            "/usr/local/lib/python3.7/dist-packages/ipykernel_launcher.py:2: SettingWithCopyWarning: \n",
            "A value is trying to be set on a copy of a slice from a DataFrame.\n",
            "Try using .loc[row_indexer,col_indexer] = value instead\n",
            "\n",
            "See the caveats in the documentation: https://pandas.pydata.org/pandas-docs/stable/user_guide/indexing.html#returning-a-view-versus-a-copy\n",
            "  \n"
          ]
        }
      ]
    },
    {
      "cell_type": "code",
      "source": [
        "# Сделаем для каждого качественного изображения операцию размытия и положим в отдельный каталог с указанием _blur в имени файла\n",
        "for idx, row in c1_df.iterrows():\n",
        "  print(row['ID_img'])\n",
        "  image = cv2.imread(f\"/content/ufa/train/{row['ID_img']}\")\n",
        "  image_blur = cv2.blur(image, (30,30))\n",
        "  name, ext = row['ID_img'].split('.')\n",
        "  cv2.imwrite(f\"/content/ufa/aug/{name}_blur.{ext}\", image_blur)\n",
        "  row['class'] = 2.0"
      ],
      "metadata": {
        "id": "HY3VB8dY0Z0K",
        "colab": {
          "base_uri": "https://localhost:8080/"
        },
        "outputId": "3e5e79db-4444-45fb-c90c-575b7d1b45e3"
      },
      "execution_count": 17,
      "outputs": [
        {
          "output_type": "stream",
          "name": "stdout",
          "text": [
            "220301070305_0e13309ae71ffc37ba629d19f46e0784.jpg\n",
            "220301070430_df1a737a5abe3707b424fbe9d1d92300.jpg\n",
            "220301070439_91576ea7fbb6567ff743e271662f9d06.jpg\n",
            "220301070525_8e9cf12c82b056104cfd8868f5958c3e.jpg\n",
            "220301070535_78bd475d54865dc7b1c356f3436def6e.jpg\n",
            "220301070614_4c1a339dd5056cd9747f3b4693f27b1b.jpg\n",
            "220301070625_1be30d27fcfc119ed8dee6037a9ab385.jpg\n",
            "220301070852_6431af3f1d3517498811dfa67f8a30be.jpg\n",
            "220301070914_9f40eac64f72c8d6ee0e7f4fa37dc4ba.jpg\n",
            "220301071234_2e7ed5acd0a8e8682b28f6618e7694c9.jpg\n",
            "220301071302_180763d363e88725cc11143fb6923c1c.jpg\n",
            "220301071500_fc5d48ef20ecb259c53d05b7f7888c62.jpg\n",
            "220301071650_7596075bf9eceda9ecab933d3d55a6dc.jpg\n",
            "220301072145_dd2c634ed264a650d6c31e0f781db56f.jpg\n",
            "220301072554_abcb830598585dfcdf17eec5b3514ab8.jpg\n",
            "220301072637_cf8e28c1edf379eb195ae78e914fb7fb.jpg\n",
            "220301072950_4ab3ae8c45749d88563463258f69c138.jpg\n",
            "220301072951_71efe2bf411ee0f5f8ea4cd1c838070e.jpg\n",
            "220301073159_36707f826e6e9129baa9fa771d0e992d.jpg\n",
            "220301073337_335dc629b22aaa294d4ede116387ef76.jpg\n",
            "220301073425_c621e96b9a0b3833700ace37a1b028e1.jpg\n",
            "220301073533_32d408a290f0aa2c7e5254e0d8306604.jpg\n",
            "220301074117_460c89feca92e0a5610cb601291ac568.jpg\n",
            "220301074517_dcd126405ef8b1da57128e9a92f9f5f9.jpg\n",
            "220301074528_175afb5218916e2bd183c69f20051f16.jpg\n",
            "220301075200_2ec6ca6e0498e6f8a2aa391026ea5b43.jpg\n",
            "220301075407_88a459f37ff82b96325f9ebfaab8b786.jpg\n",
            "220301075635_dba59da9dedd7fd5b5ba1524b4a6645d.jpg\n",
            "220301075719_63c240617bdf418c1e216bec6e8d665e.jpg\n",
            "220301075728_3cf608c5ac39dad3934e16420fddf235.jpg\n",
            "220301080121_75c740f58a2c4895dc4f55467b30f89e.jpg\n",
            "220301080121_8518cf014a6b58187694bef49cf44db3.jpg\n",
            "220301080142_d20b957a2f1cce040587261ecbbecef6.jpg\n",
            "220301080157_7a4a31c7dd0c1deffcd1208313d70e2c.jpg\n",
            "220301080719_23da424105bd7cf90c2dd9ba414d3782.jpg\n",
            "220301080832_91e3df6bc15efc683101962cb8e78863.jpg\n",
            "220301083851_8102ae693c6cca1094e42502356326c3.jpg\n",
            "220301083949_a0ee093ec8a9888850bb50c4c0cb4070.jpg\n",
            "220301085028_5a2a5a296be2ec9b1dfc93845f9cb524.jpg\n",
            "220301085834_9a2e2e1d6cced4db645020f5623a8e96.jpg\n",
            "220301090918_7e51bc3af9c034f074df5f38261880cf.jpg\n",
            "220301091353_27cca737642bc683700aac1c0d1257fb.jpg\n",
            "220301091412_f9dca9463781dc71a2b22e113fdd5756.jpg\n",
            "220301091651_dbdbc38c5f73b885283bc847c01ccfb3.jpg\n",
            "220301091714_6a066f59c206a24a740589ab1dda00a9.jpg\n",
            "220301092426_78c2ecbb30fa2feb93362ac7f748597a.jpg\n",
            "220301092806_bd581c07279d41f092101ca789206a58.jpg\n",
            "220301093324_4c37813e84e36e20296cf3b2fc49943f.jpg\n",
            "220301095016_ce36ac6acadfdc5dc61a31edce417318.jpg\n",
            "220301095431_57a5dbcf19140c2a05540bd7d5441a5d.jpg\n",
            "220301100357_42f47987394f182d4f160758ce1bcdd6.jpg\n",
            "220301100443_2ea92ac127b0d336132662572e5d7b04.jpg\n",
            "220301100443_b88feb2e686fe305472077c5828eb2e9.jpg\n",
            "220301100621_9152be9eb025513d26716b8a5fea764d.jpg\n",
            "220301100741_7853fc5e57e364ecd855f8d2ab799d56.jpg\n",
            "220301100835_457c4380f35256fd8d2cb68bbf3b324f.jpg\n",
            "220301100836_55663109743a71f9864520496eeb7dfa.jpg\n",
            "220301100902_158cb93c23940f7f9c5a17fb3ac1cb7a.jpg\n",
            "220301100903_aada7d88d02a5c403d917273ec89beae.jpg\n",
            "220301101233_7a7795b15804a03250c05ea65579a9be.jpg\n",
            "220301101304_b6de13573c69c85eaef13c6b2046265d.jpg\n",
            "220301101304_c031ec7ca051323e8a954eae2c9215fd.jpg\n",
            "220301101827_3144d39da7229a784c210655b7bebc8a.jpg\n",
            "220301101827_c275281dda29e88685109177a7c0264b.jpg\n",
            "220301102007_fc56cd0869becdcf30b816266398c32a.jpg\n",
            "220301102232_7dc31ab9e4b2226d5204c54549b8fc23.jpg\n",
            "220301102352_bbf399377844fc009b5f92a145fbebc6.jpg\n",
            "220301102426_67516c86b2b1d9ef1b49ecda5eaf99b3.jpg\n",
            "220301102658_b19bb6925dedcc09b3579fa486d2f3b9.jpg\n",
            "220301102710_b81ab58af6f68c176afa567cc3cafea3.jpg\n",
            "220301102818_d9d7c18e716f1d311131944ce652d705.jpg\n",
            "220301103019_28aad0888b67a9e6c4ebb2e6bc99ce51.jpg\n",
            "220301103036_fd6b8a9c1fa143014477d0b89f7dc1fb.jpg\n",
            "220301103147_2ae9189e8c4ff4a73022476f9960033f.jpg\n",
            "220301103222_dcef063d114e2b610b669a4b2ed40964.jpg\n",
            "220301103238_1123ad7f7cb149c21cb0bd415bfab69a.jpg\n",
            "220301103313_a846a8aa06fa32262bd4b5960866099d.jpg\n",
            "220301103455_5c89248e8942c3666fcce4d4724abb12.jpg\n",
            "220301103603_bb1f00d676b36db22909f0234061497a.jpg\n",
            "220301111107_b9fe49b758de6c62149ddd6ffa3d47e5.jpg\n",
            "220301111545_6f8cc7f8230256006de954c8c8266328.jpg\n",
            "220301111925_c9deb5664dd793d45e24a32c2f9ed271.jpg\n",
            "220301112317_0904ea2261102892299ea6b8d7b6ed42.jpg\n",
            "220301112326_8c996183e0119e095b2b8e6a5ac1be5a.jpg\n",
            "220301113122_3139fdff9f20301b5892b19fdaa256e5.jpg\n",
            "220301113225_f17ee79e69f16fdecae6a56a11c5be43.jpg\n",
            "220301113341_5e0d4395c4ea0ca4f0f11b9408008fd9.jpg\n",
            "220301113827_b9b386d18f53c6efc51e22c8eb628da3.jpg\n",
            "220301113840_e142b547b3dfe73de06eb59c7ec1bfcd.jpg\n",
            "220301114011_5697a22088291d291818b25b52cae966.jpg\n",
            "220301114316_8b0381c1c537e9288243013b26a4b079.jpg\n",
            "220301114410_7cab4edf631d112b9ad82bb4f3f95557.jpg\n",
            "220301114829_3d2d8e7089a4b1024d2ee733dd5bc2c4.jpg\n",
            "220301115722_a242748f145e7c60c86e7626f5989315.jpg\n",
            "220301121206_cbcb3205709fc5c8ed7259d3b404ef61.jpg\n",
            "220301121419_342fbbe9912e6a34fdd614b056100a5f.jpg\n",
            "220301123646_56e2844ea32dc657c742a803a8b3035e.jpg\n",
            "220301123736_957368961b8d782e82953dcc901e5f74.jpg\n",
            "220301123737_990522befa79e9c7b3485a17ab4b36ba.jpg\n",
            "220301123743_a94b0d6cd79c2b743bb65a8a91b3bae1.jpg\n",
            "220301123744_60e1884bc58a9770d460104ae62222e8.jpg\n",
            "220301123745_17b5de65005346707144a5c30b84d8d9.jpg\n",
            "220301123745_8189d5d0bcb06fe5b2181570d4682280.jpg\n",
            "220301123746_b93268bbf2eb5b7b5957b2a9fb13bb74.jpg\n",
            "220301123748_f405486fadf54dad3b70b0deac2a21f6.jpg\n",
            "220301123756_1ec564a82d02b1c9b5bcb34bd8259a3f.jpg\n",
            "220301123804_c6419e64aef122c0dcb1a3b5a270e142.jpg\n",
            "220301123805_367e1cf0a14a04abd88b5d8218142d3a.jpg\n",
            "220301123805_7aa0f64238f298a248e37f7e9cf8418b.jpg\n",
            "220301123807_b46be9eb3fdaabc8148695e72db48cc8.jpg\n",
            "220301123810_fd6abddac4ab2558429bd89abae928fd.jpg\n",
            "220301123812_305621c26adbc65e1dd3ba0f9a694629.jpg\n",
            "220301123816_072fb16d26dab2ae7645a272a63190b5.jpg\n",
            "220301123822_7b038c7f6dbd6d19d5ef54c6ce42734c.jpg\n",
            "220301123824_4459188e10d2611427666644abebf8b9.jpg\n",
            "220301123850_dbc1de067c9a400a492ca1cf677f1692.jpg\n",
            "220301123912_e1c912660f0dc5ef905e56cea5fb6eee.jpg\n",
            "220301123921_45af644fb15bd4708050043ae8f3975b.jpg\n",
            "220301123926_8e5707ff5fed53658eb7a4d6952e2cc3.jpg\n",
            "220301123950_119b45568979211d3d7c0f4e3c2f3a06.jpg\n",
            "220301124013_f94f9a95b5221d8be498c1ed3e8fb949.jpg\n",
            "220301124014_b4e8a97b00babdb497a3edece8aa462d.jpg\n",
            "220301124015_b6158c61a8adc0666022adaf4fff3580.jpg\n",
            "220301124018_8a0a1b8a195feb8da8ed1a02324ea882.jpg\n",
            "220301124019_b6899a82ecd89292548cc11e712f255a.jpg\n",
            "220301124020_d3a2090732cf5eaecbfc255afc9bf54b.jpg\n",
            "220301124033_85b4b57230467054a8dff7e48cbe6ba6.jpg\n",
            "220301124039_5402d3a2062fda5482c94a35c140462c.jpg\n",
            "220301124041_a77af5bc2de7c694a256450cb01832de.jpg\n",
            "220301124047_771a9bc044f44e1ca74b6bc76c72ccd9.jpg\n",
            "220301124129_3edd50f9408395f8249c11426ce13f79.jpg\n",
            "220301124130_908368e2b0a4888e1b964aecd93c017e.jpg\n",
            "220301124139_132fa924b12f5ad90314d82b0c31cd9e.jpg\n",
            "220301124148_0094dca1aacd5d3e907781d360da090b.jpg\n",
            "220301124151_27b4035d8a7c5325cdf76152898d705c.jpg\n",
            "220301124152_f08dace3219715c4652d3ac8cf0fa659.jpg\n",
            "220301124154_01c9f6f67f4d3f6c15fcf7d8efeebd88.jpg\n",
            "220301124158_31fb80f01d4533c2202fd99ed7dab188.jpg\n",
            "220301124201_cc977ce8de2658f9eb978a135343b58d.jpg\n",
            "220301124526_ba6ffcfd54b8a2e2d7120082abf89be8.jpg\n",
            "220301130907_8f18c6d5426f9ac39496dd7830e3ad03.jpg\n",
            "220301131510_b2b71233750b482bbc65b4026808d4cf.jpg\n",
            "220301134754_106c9c12bdeb7b18d15e31c447df381e.jpg\n",
            "220301143325_f032041d5efbe5e23f4214abb9772bcb.jpg\n",
            "220301143940_60515228b38d951afefedc736d6e2529.jpg\n",
            "220301145055_441252698c9ec440a1cffb53653cd90c.jpg\n",
            "220301150603_c16cfd04d0e3eed75e084d3691baef6e.jpg\n",
            "220301150606_a360a2f28eacd5648732c9a28c1e4c0a.jpg\n",
            "220301152600_cf909029f294f8aa507c4c277bcbba48.jpg\n",
            "220301163723_7926bd07890869b716537a3ee3952a4e.jpg\n",
            "220301164729_5fb566b5b7054040248e9023973134bd.jpg\n",
            "220301165328_4774c4240701f75c2445f549f3b4977e.jpg\n",
            "220302010740_975777b3f6ad92a8b7636bb87a4eca46.jpg\n",
            "220302013218_0dc7f7864ff931e2f0e2673f89cfb47c.jpg\n",
            "220302013902_0834fd52f1836758f90d662007593daf.jpg\n",
            "220302020709_ef606fc40122782c608aa4b0dd0cb95b.jpg\n",
            "220302022806_4741846d3c2efc72f166a31c8987dfae.jpg\n",
            "220302022853_468a042dfa53afd5798097d87abcfa57.jpg\n",
            "220302023121_fac4a7e63862e9cfb396731574b839d3.jpg\n",
            "220302023404_9896e855e8ee99a7827275728b455683.jpg\n",
            "220302024156_b216f0ce4b500dae799b83f72a432877.jpg\n",
            "220302025151_b91bbb971a06495030a1de2af58304dc.jpg\n",
            "220302031448_5e415dbe5644f2661ee4106538efde1d.jpg\n",
            "220302031542_7fbb27f042ed64b27ea21fdce3b9aef8.jpg\n",
            "220302031627_7a9c195bb866d35d54894cf4f84dcb5d.jpg\n",
            "220302031830_dc99dabe088c8bf4df30ef0368df44ca.jpg\n",
            "220302031853_72ec17c7c830b8c3039fedebdf0808c4.jpg\n",
            "220302032455_228410aca35ecad46255800f58d82e6e.jpg\n",
            "220302034044_c43d5bfc7a891f7f57819b7093b967bb.jpg\n",
            "220302034204_141247f7173a1fe2c3bdba15f4f496fd.jpg\n",
            "220302040239_ea06c140c53e6f39b53b0a7eec3031d2.jpg\n",
            "220302041014_614e14402724af1a953df888cba05fa2.jpg\n",
            "220302041201_c866eb80b38cc2655f441c9d600a027c.jpg\n",
            "220302041445_722f0310df43a9c18ed0f6d66cd8640a.jpg\n",
            "220302042736_35fe2711a25bd08687bac429b5bd1b34.jpg\n",
            "220302042841_7e0dd6ce81eec516f259dc7cba34b3e7.jpg\n",
            "220302043016_621676675691158761d81003cd0b350a.jpg\n",
            "220302044658_3ed19388a564cc742a3a0c167a21ae74.jpg\n",
            "220302044930_ef97881d9885a79d4c3686d348858ba6.jpg\n",
            "220302045606_1c2a95bbb0c34b7579795dfc9998f8b6.jpg\n",
            "220302050921_0735b1f5712a1478e3e9f6b880ec188b.jpg\n",
            "220302054911_22534e29cb9b7807c7281e5eb92859ed.jpg\n",
            "220302063237_e0ad7dd1cab64079b9892000e1806a48.jpg\n",
            "220302071338_950c5fb8c8477fe6c04cebca82b8c736.jpg\n",
            "220302073821_46f6fc2c0218088bb9d156817f89a8de.jpg\n",
            "220302074347_77d3d68df8f5b1b0ec1d9e89901da0a2.jpg\n",
            "220302074548_49664270dc8688c80e587536339825d0.jpg\n",
            "220302082510_beb9ffbe4061c8e85994709ef32dec3d.jpg\n",
            "220302084112_c9c6ee6d5e18f2d566213d872cde45c5.jpg\n",
            "220302084755_995aca033842406bdbe269cb2412481e.jpg\n",
            "220302091211_8aa82d7333d3692474e39cbd656de179.jpg\n",
            "220302091248_efcf880667f0ee8df27af95806f4adf8.jpg\n",
            "220302094433_d017bd9c923c29affda6ed14e38abd25.jpg\n",
            "220302112313_89ebcb299a5a304b7b4a754eb39f2d79.jpg\n",
            "220302112529_6247d7023772bf4c359fe118da95189e.jpg\n",
            "220302163654_7912adc5d67ca8497685c3a6565d82ca.jpg\n",
            "220303025245_abc7f6dcb7225096e7ef89a16b7cb54a.jpg\n",
            "220303025439_1dccb531b593fd997e99503e8c85d1df.jpg\n",
            "220303030716_f9672cc6579535e6e8abf45838101168.jpg\n",
            "220303030945_9c87cea6d7fa3714ae76f0b9ae8db0cf.jpg\n",
            "220303032230_239bb091d1c62aea9e08005409e34f22.jpg\n",
            "220303032714_d7bf6997f2e4d316b0721819251a59ee.jpg\n",
            "220303033427_306910ecd4ef3089d3b453fee86dc7d3.jpg\n",
            "220303034109_ede52a200a1b68564a980b39a4e47d0b.jpg\n",
            "220303040236_ae55c3025f83abe4f97cc7b4f15b786f.jpg\n",
            "220303040640_592cfd70edfeea07543018c23db66e29.jpg\n",
            "220303041122_e5173702146679818a3e3b290d60b11c.jpg\n",
            "220303041736_72cce2094bdb7373ced90aa9c322a4cf.jpg\n",
            "220303045515_cf54784bd1e29b77085a4a53a1d476e1.jpg\n",
            "220303045713_76a3387f3f121d1162b97e1d187d6f07.jpg\n",
            "220303045851_6b1d383dbc6e35c96040a67c241316b2.jpg\n",
            "220303054740_9daab175576b21466a151bc4b9a0536f.jpg\n",
            "220303063027_7c5eed7e6b027beff7d4accc945f62b9.jpg\n",
            "220303064730_cdd62f64d600591a4dc055703a76c3f9.jpg\n",
            "220303083251_9d40ea68b764c82e62fedf62d0a24884.jpg\n",
            "220303090424_a1724eefa610eaeb3fbedd0a0d6c0ae0.jpg\n",
            "220303094255_e7b5e5e9800da89a9e1ae89f484960eb.jpg\n",
            "220303095852_78078197600f47959f18cd5251d8a644.jpg\n",
            "220303101936_18cc0bc06c179a107c8715675b4a052d.jpg\n",
            "220303113233_24ede0023ea90416178fa027a8c77edd.jpg\n",
            "220304031122_f4bc294df4f178c4e60b16b5f323c88c.jpg\n",
            "220304034602_98a7e8eb54aaf72bc1d10af8a1032697.jpg\n",
            "220304042345_768488e4c7bf1e5e8414fbe0c2831bc4.jpg\n",
            "220304052500_9a3022dfe6dfa74d4a6537792e436c53.jpg\n",
            "220304060156_51b2fe94598d626677f65085635568fa.jpg\n",
            "220304062434_2c32bbe2535c58a11d2d4c3b51742bda.jpg\n",
            "220304063326_d00d7a35c1490bf3ce4daeb58f8eaf7e.jpg\n",
            "220304063620_a31dd1065738d1ee920b3a4469035b25.jpg\n",
            "220304064115_47a59b7d255c7a37134e2c222d9aa1b7.jpg\n",
            "220305051809_33e65963c271cdbf941792f1bbd921e1.jpg\n",
            "220305051829_70bdbfc65ba99ca4c5a58975ae660ccb.jpg\n",
            "220305092719_e725fbdb911003165408e72f43a09ccd.jpg\n",
            "220305100150_8987ce79e4d82d61f341f9d0a5af4a47.jpg\n",
            "220305120503_dfc2fb19dfc09c4258da08637565da99.jpg\n",
            "220305121502_b1a51115762118b54a8d93db3adbfe73.jpg\n",
            "220305122229_30a905be3963f7aeeb1c3ee1a48229ee.jpg\n",
            "220306024734_5b17738dc9d89b6f58185bd4f9788b0f.jpg\n",
            "220306042951_0ce6a31a079438681bf05be84c7242cb.jpg\n",
            "220306050601_f7b639f11532d71e4aa83daa5338944f.jpg\n",
            "220306053547_f66355b21b2058f41f726f24b6072298.jpg\n",
            "220306060813_060c72d7ca75cc7c8e631f98c3ae6575.jpg\n",
            "220306064951_978c78867c48ef63f7166fcd248ef890.jpg\n",
            "220306070534_077e34245af0cca2f8697e1a53f72983.jpg\n",
            "220306073024_e19fd6a2c1dab88da7923a0a3689d38d.jpg\n",
            "220306073131_ebb7640ab5613b71910788b50166c5d3.jpg\n",
            "220306234148_9d849148b68792fe46a1e25e13ab2cb2.jpg\n",
            "220306234838_a0a7ef148e9ea3d65bea1581181b0101.jpg\n",
            "220307002624_54471f149017446c7580c40f9c4e4847.jpg\n",
            "220307004700_250ff3f9bf70f46bbb395353427a86e5.jpg\n",
            "220307005026_ec15101b848b9e8eb703e4e7cdad70c7.jpg\n",
            "220307005043_fc3c1da52c6771a5f85bcb0e3475fbf7.jpg\n",
            "220307011013_2cf5d2c7334a82feac79dd3560fee8d5.jpg\n",
            "220307011134_be281b9a80507db668d5a6a8f324cef0.jpg\n",
            "220307011818_78c0320679344c3e7c5a73a01ffdfd79.jpg\n",
            "220307012615_70742f9c5e2273849e42cc983fee8a5d.jpg\n",
            "220307013844_c7c525ac887a898f4aa7acd155a5e4d4.jpg\n",
            "220307014836_5ee7bb8efe07ed736bf4941165faeb9e.jpg\n",
            "220307015600_22767d926ef4b95ffe7e98924f83d10d.jpg\n",
            "220307015618_80925eb956960f70806fee6b2713f321.jpg\n",
            "220307015913_04c60813ee9e71544581a4f326444feb.jpg\n",
            "220307020927_bf39231de1485ab90c2c9fcb4fb065ec.jpg\n",
            "220307021242_af922f62222d51694d13ff60ab7b9f48.jpg\n",
            "220307021243_234d44fc9637965cb40a6f3b3950a8db.jpg\n",
            "220307021243_e42b1356ef7f42f204ec41e1b5a918d0.jpg\n",
            "220307021858_848dc5b03f2c807fd0c9662c79bee242.jpg\n",
            "220307022721_c67544b92d7d42e8b70b4bddf355416a.jpg\n",
            "220307022803_0394e4e418a2d3ec1c09ff7f622cd227.jpg\n",
            "220307023010_edc83e6803b5f97b78bb70a4ca3f00e7.jpg\n",
            "220307023333_174d9ee28f251f502bd745a3a2acaf06.jpg\n",
            "220307023446_a0f647ffee15d1cbeb68642cddc2963a.jpg\n",
            "220307024848_87eb6b56b8105de4f05ffb9138d24255.jpg\n",
            "220307025502_4320fefa21f20b515fe01cfcf7b221e2.jpg\n",
            "220307030919_f345deda73d6ccb2985b00ff538161df.jpg\n",
            "220307031136_0cab32b967c54b479cb4dde211c9df63.jpg\n",
            "220307031304_161c9931221e8830ba968fd82903d618.jpg\n",
            "220307032132_33ab24ee8449f97bf273c522ae66751b.jpg\n",
            "220307032410_93a2bca4d50e5500d9be0bf851fe0ae0.jpg\n",
            "220307032511_6a57838d2f6a4ca390d90950eaf34cd7.jpg\n",
            "220307032854_97f640cb7deec087ab044745922f25eb.jpg\n",
            "220307033326_3c8b9c5a7c4989f5a5c3d9e9f8e31225.jpg\n",
            "220307034123_c953d2c85d88d7b3386d750b8627d335.jpg\n",
            "220307034508_82abb6cc59a067abd165f1d9660631d6.jpg\n",
            "220307075948_fbef5097c47602ecf392be82e7a3729d.jpg\n",
            "220307080034_ab3bd577b42eb6362c351f7331a421db.jpg\n",
            "220307080853_db633c7e47674dd3b697915aaaca60b3.jpg\n",
            "220307081154_bd12999a0d91c2cac9b7f57056760a34.jpg\n",
            "220307083529_d55c35d022a65f151721d7fd008ed540.jpg\n",
            "220307085810_d1fadc9772ff8dbe3b1904f752ea17aa.jpg\n",
            "220307085905_484451476d4469abca1ae1b5c4cddffc.jpg\n",
            "220307131945_1d2defc24fe3920808beaa3aae29900c.jpg\n",
            "220307132224_52645281baa22ba7c267cccd4adc58e5.jpg\n",
            "220307144056_40e5f7e9e9bb7a01654c571366adb956.jpg\n"
          ]
        }
      ]
    },
    {
      "cell_type": "code",
      "source": [
        "# Сделаем для каждого качественного изображения операцию затемнения и положим в отдельный каталог с указанием _dark в имени файла\n",
        "for idx, row in dark_df.iterrows():\n",
        "  print(row['ID_img'])\n",
        "  image = cv2.imread(f\"/content/ufa/train/{row['ID_img']}\")\n",
        "  image = cv2.blur(image, (20,20))\n",
        "  hsv = cv2.cvtColor(image, cv2.COLOR_BGR2HSV)\n",
        "  value = 128 #whatever value you want to add\n",
        "  #cv2.add(hsv[:,:,2], value, hsv[:,:,2])\n",
        "  h, s, v = cv2.split(hsv)\n",
        "  v[v <= value] = 0\n",
        "  v[v > value] -= value\n",
        "\n",
        "  final_hsv = cv2.merge((h, s, v))\n",
        "  image = cv2.cvtColor(final_hsv, cv2.COLOR_HSV2BGR)\n",
        "  name, ext = row['ID_img'].split('.')\n",
        "  cv2.imwrite(f\"/content/ufa/aug/{name}_dark.{ext}\", image)"
      ],
      "metadata": {
        "id": "C6NvV2RpxYff",
        "colab": {
          "base_uri": "https://localhost:8080/"
        },
        "outputId": "d087f021-d668-4460-a773-9513fd5095a1"
      },
      "execution_count": 18,
      "outputs": [
        {
          "output_type": "stream",
          "name": "stdout",
          "text": [
            "220301070305_0e13309ae71ffc37ba629d19f46e0784.jpg\n",
            "220301070430_df1a737a5abe3707b424fbe9d1d92300.jpg\n",
            "220301070439_91576ea7fbb6567ff743e271662f9d06.jpg\n",
            "220301070525_8e9cf12c82b056104cfd8868f5958c3e.jpg\n",
            "220301070535_78bd475d54865dc7b1c356f3436def6e.jpg\n",
            "220301070614_4c1a339dd5056cd9747f3b4693f27b1b.jpg\n",
            "220301070625_1be30d27fcfc119ed8dee6037a9ab385.jpg\n",
            "220301070852_6431af3f1d3517498811dfa67f8a30be.jpg\n",
            "220301070914_9f40eac64f72c8d6ee0e7f4fa37dc4ba.jpg\n",
            "220301071234_2e7ed5acd0a8e8682b28f6618e7694c9.jpg\n",
            "220301071302_180763d363e88725cc11143fb6923c1c.jpg\n",
            "220301071500_fc5d48ef20ecb259c53d05b7f7888c62.jpg\n",
            "220301071650_7596075bf9eceda9ecab933d3d55a6dc.jpg\n",
            "220301072145_dd2c634ed264a650d6c31e0f781db56f.jpg\n",
            "220301072554_abcb830598585dfcdf17eec5b3514ab8.jpg\n",
            "220301072637_cf8e28c1edf379eb195ae78e914fb7fb.jpg\n",
            "220301072950_4ab3ae8c45749d88563463258f69c138.jpg\n",
            "220301072951_71efe2bf411ee0f5f8ea4cd1c838070e.jpg\n",
            "220301073159_36707f826e6e9129baa9fa771d0e992d.jpg\n",
            "220301073337_335dc629b22aaa294d4ede116387ef76.jpg\n",
            "220301073425_c621e96b9a0b3833700ace37a1b028e1.jpg\n",
            "220301073533_32d408a290f0aa2c7e5254e0d8306604.jpg\n",
            "220301074117_460c89feca92e0a5610cb601291ac568.jpg\n",
            "220301074517_dcd126405ef8b1da57128e9a92f9f5f9.jpg\n",
            "220301074528_175afb5218916e2bd183c69f20051f16.jpg\n",
            "220301075200_2ec6ca6e0498e6f8a2aa391026ea5b43.jpg\n",
            "220301075407_88a459f37ff82b96325f9ebfaab8b786.jpg\n",
            "220301075635_dba59da9dedd7fd5b5ba1524b4a6645d.jpg\n",
            "220301075719_63c240617bdf418c1e216bec6e8d665e.jpg\n",
            "220301075728_3cf608c5ac39dad3934e16420fddf235.jpg\n",
            "220301080121_75c740f58a2c4895dc4f55467b30f89e.jpg\n",
            "220301080121_8518cf014a6b58187694bef49cf44db3.jpg\n",
            "220301080142_d20b957a2f1cce040587261ecbbecef6.jpg\n",
            "220301080157_7a4a31c7dd0c1deffcd1208313d70e2c.jpg\n",
            "220301080719_23da424105bd7cf90c2dd9ba414d3782.jpg\n",
            "220301080832_91e3df6bc15efc683101962cb8e78863.jpg\n",
            "220301083851_8102ae693c6cca1094e42502356326c3.jpg\n",
            "220301083949_a0ee093ec8a9888850bb50c4c0cb4070.jpg\n",
            "220301085028_5a2a5a296be2ec9b1dfc93845f9cb524.jpg\n",
            "220301085834_9a2e2e1d6cced4db645020f5623a8e96.jpg\n",
            "220301090918_7e51bc3af9c034f074df5f38261880cf.jpg\n",
            "220301091353_27cca737642bc683700aac1c0d1257fb.jpg\n",
            "220301091412_f9dca9463781dc71a2b22e113fdd5756.jpg\n",
            "220301091651_dbdbc38c5f73b885283bc847c01ccfb3.jpg\n",
            "220301091714_6a066f59c206a24a740589ab1dda00a9.jpg\n",
            "220301092426_78c2ecbb30fa2feb93362ac7f748597a.jpg\n",
            "220301092806_bd581c07279d41f092101ca789206a58.jpg\n",
            "220301093324_4c37813e84e36e20296cf3b2fc49943f.jpg\n",
            "220301095016_ce36ac6acadfdc5dc61a31edce417318.jpg\n",
            "220301095431_57a5dbcf19140c2a05540bd7d5441a5d.jpg\n",
            "220301100357_42f47987394f182d4f160758ce1bcdd6.jpg\n",
            "220301100443_2ea92ac127b0d336132662572e5d7b04.jpg\n",
            "220301100443_b88feb2e686fe305472077c5828eb2e9.jpg\n",
            "220301100621_9152be9eb025513d26716b8a5fea764d.jpg\n",
            "220301100741_7853fc5e57e364ecd855f8d2ab799d56.jpg\n",
            "220301100835_457c4380f35256fd8d2cb68bbf3b324f.jpg\n",
            "220301100836_55663109743a71f9864520496eeb7dfa.jpg\n",
            "220301100902_158cb93c23940f7f9c5a17fb3ac1cb7a.jpg\n",
            "220301100903_aada7d88d02a5c403d917273ec89beae.jpg\n",
            "220301101233_7a7795b15804a03250c05ea65579a9be.jpg\n",
            "220301101304_b6de13573c69c85eaef13c6b2046265d.jpg\n",
            "220301101304_c031ec7ca051323e8a954eae2c9215fd.jpg\n",
            "220301101827_3144d39da7229a784c210655b7bebc8a.jpg\n",
            "220301101827_c275281dda29e88685109177a7c0264b.jpg\n",
            "220301102007_fc56cd0869becdcf30b816266398c32a.jpg\n",
            "220301102232_7dc31ab9e4b2226d5204c54549b8fc23.jpg\n",
            "220301102352_bbf399377844fc009b5f92a145fbebc6.jpg\n",
            "220301102426_67516c86b2b1d9ef1b49ecda5eaf99b3.jpg\n",
            "220301102658_b19bb6925dedcc09b3579fa486d2f3b9.jpg\n",
            "220301102710_b81ab58af6f68c176afa567cc3cafea3.jpg\n",
            "220301102818_d9d7c18e716f1d311131944ce652d705.jpg\n",
            "220301103019_28aad0888b67a9e6c4ebb2e6bc99ce51.jpg\n",
            "220301103036_fd6b8a9c1fa143014477d0b89f7dc1fb.jpg\n",
            "220301103147_2ae9189e8c4ff4a73022476f9960033f.jpg\n",
            "220301103222_dcef063d114e2b610b669a4b2ed40964.jpg\n",
            "220301103238_1123ad7f7cb149c21cb0bd415bfab69a.jpg\n",
            "220301103313_a846a8aa06fa32262bd4b5960866099d.jpg\n",
            "220301103455_5c89248e8942c3666fcce4d4724abb12.jpg\n",
            "220301103603_bb1f00d676b36db22909f0234061497a.jpg\n",
            "220301111107_b9fe49b758de6c62149ddd6ffa3d47e5.jpg\n",
            "220301111545_6f8cc7f8230256006de954c8c8266328.jpg\n",
            "220301111925_c9deb5664dd793d45e24a32c2f9ed271.jpg\n",
            "220301112317_0904ea2261102892299ea6b8d7b6ed42.jpg\n",
            "220301112326_8c996183e0119e095b2b8e6a5ac1be5a.jpg\n",
            "220301113122_3139fdff9f20301b5892b19fdaa256e5.jpg\n",
            "220301113225_f17ee79e69f16fdecae6a56a11c5be43.jpg\n",
            "220301113341_5e0d4395c4ea0ca4f0f11b9408008fd9.jpg\n",
            "220301113827_b9b386d18f53c6efc51e22c8eb628da3.jpg\n",
            "220301113840_e142b547b3dfe73de06eb59c7ec1bfcd.jpg\n",
            "220301114011_5697a22088291d291818b25b52cae966.jpg\n",
            "220301114316_8b0381c1c537e9288243013b26a4b079.jpg\n",
            "220301114410_7cab4edf631d112b9ad82bb4f3f95557.jpg\n",
            "220301114829_3d2d8e7089a4b1024d2ee733dd5bc2c4.jpg\n",
            "220301115722_a242748f145e7c60c86e7626f5989315.jpg\n",
            "220301121206_cbcb3205709fc5c8ed7259d3b404ef61.jpg\n",
            "220301121419_342fbbe9912e6a34fdd614b056100a5f.jpg\n",
            "220301123646_56e2844ea32dc657c742a803a8b3035e.jpg\n",
            "220301123736_957368961b8d782e82953dcc901e5f74.jpg\n",
            "220301123737_990522befa79e9c7b3485a17ab4b36ba.jpg\n",
            "220301123743_a94b0d6cd79c2b743bb65a8a91b3bae1.jpg\n",
            "220301123744_60e1884bc58a9770d460104ae62222e8.jpg\n",
            "220301123745_17b5de65005346707144a5c30b84d8d9.jpg\n",
            "220301123745_8189d5d0bcb06fe5b2181570d4682280.jpg\n",
            "220301123746_b93268bbf2eb5b7b5957b2a9fb13bb74.jpg\n",
            "220301123748_f405486fadf54dad3b70b0deac2a21f6.jpg\n",
            "220301123756_1ec564a82d02b1c9b5bcb34bd8259a3f.jpg\n",
            "220301123804_c6419e64aef122c0dcb1a3b5a270e142.jpg\n",
            "220301123805_367e1cf0a14a04abd88b5d8218142d3a.jpg\n",
            "220301123805_7aa0f64238f298a248e37f7e9cf8418b.jpg\n",
            "220301123807_b46be9eb3fdaabc8148695e72db48cc8.jpg\n",
            "220301123810_fd6abddac4ab2558429bd89abae928fd.jpg\n",
            "220301123812_305621c26adbc65e1dd3ba0f9a694629.jpg\n",
            "220301123816_072fb16d26dab2ae7645a272a63190b5.jpg\n",
            "220301123822_7b038c7f6dbd6d19d5ef54c6ce42734c.jpg\n",
            "220301123824_4459188e10d2611427666644abebf8b9.jpg\n",
            "220301123850_dbc1de067c9a400a492ca1cf677f1692.jpg\n",
            "220301123912_e1c912660f0dc5ef905e56cea5fb6eee.jpg\n",
            "220301123921_45af644fb15bd4708050043ae8f3975b.jpg\n",
            "220301123926_8e5707ff5fed53658eb7a4d6952e2cc3.jpg\n",
            "220301123950_119b45568979211d3d7c0f4e3c2f3a06.jpg\n",
            "220301124013_f94f9a95b5221d8be498c1ed3e8fb949.jpg\n",
            "220301124014_b4e8a97b00babdb497a3edece8aa462d.jpg\n",
            "220301124015_b6158c61a8adc0666022adaf4fff3580.jpg\n",
            "220301124018_8a0a1b8a195feb8da8ed1a02324ea882.jpg\n",
            "220301124019_b6899a82ecd89292548cc11e712f255a.jpg\n",
            "220301124020_d3a2090732cf5eaecbfc255afc9bf54b.jpg\n",
            "220301124033_85b4b57230467054a8dff7e48cbe6ba6.jpg\n",
            "220301124039_5402d3a2062fda5482c94a35c140462c.jpg\n",
            "220301124041_a77af5bc2de7c694a256450cb01832de.jpg\n",
            "220301124047_771a9bc044f44e1ca74b6bc76c72ccd9.jpg\n",
            "220301124129_3edd50f9408395f8249c11426ce13f79.jpg\n",
            "220301124130_908368e2b0a4888e1b964aecd93c017e.jpg\n",
            "220301124139_132fa924b12f5ad90314d82b0c31cd9e.jpg\n",
            "220301124148_0094dca1aacd5d3e907781d360da090b.jpg\n",
            "220301124151_27b4035d8a7c5325cdf76152898d705c.jpg\n",
            "220301124152_f08dace3219715c4652d3ac8cf0fa659.jpg\n",
            "220301124154_01c9f6f67f4d3f6c15fcf7d8efeebd88.jpg\n",
            "220301124158_31fb80f01d4533c2202fd99ed7dab188.jpg\n",
            "220301124201_cc977ce8de2658f9eb978a135343b58d.jpg\n",
            "220301124526_ba6ffcfd54b8a2e2d7120082abf89be8.jpg\n",
            "220301130907_8f18c6d5426f9ac39496dd7830e3ad03.jpg\n",
            "220301131510_b2b71233750b482bbc65b4026808d4cf.jpg\n",
            "220301134754_106c9c12bdeb7b18d15e31c447df381e.jpg\n",
            "220301143325_f032041d5efbe5e23f4214abb9772bcb.jpg\n",
            "220301143940_60515228b38d951afefedc736d6e2529.jpg\n",
            "220301145055_441252698c9ec440a1cffb53653cd90c.jpg\n",
            "220301150603_c16cfd04d0e3eed75e084d3691baef6e.jpg\n",
            "220301150606_a360a2f28eacd5648732c9a28c1e4c0a.jpg\n",
            "220301152600_cf909029f294f8aa507c4c277bcbba48.jpg\n",
            "220301163723_7926bd07890869b716537a3ee3952a4e.jpg\n",
            "220301164729_5fb566b5b7054040248e9023973134bd.jpg\n",
            "220301165328_4774c4240701f75c2445f549f3b4977e.jpg\n",
            "220302010740_975777b3f6ad92a8b7636bb87a4eca46.jpg\n",
            "220302013218_0dc7f7864ff931e2f0e2673f89cfb47c.jpg\n",
            "220302013902_0834fd52f1836758f90d662007593daf.jpg\n",
            "220302020709_ef606fc40122782c608aa4b0dd0cb95b.jpg\n",
            "220302022806_4741846d3c2efc72f166a31c8987dfae.jpg\n",
            "220302022853_468a042dfa53afd5798097d87abcfa57.jpg\n",
            "220302023121_fac4a7e63862e9cfb396731574b839d3.jpg\n",
            "220302023404_9896e855e8ee99a7827275728b455683.jpg\n",
            "220302024156_b216f0ce4b500dae799b83f72a432877.jpg\n",
            "220302025151_b91bbb971a06495030a1de2af58304dc.jpg\n",
            "220302031448_5e415dbe5644f2661ee4106538efde1d.jpg\n",
            "220302031542_7fbb27f042ed64b27ea21fdce3b9aef8.jpg\n",
            "220302031627_7a9c195bb866d35d54894cf4f84dcb5d.jpg\n",
            "220302031830_dc99dabe088c8bf4df30ef0368df44ca.jpg\n",
            "220302031853_72ec17c7c830b8c3039fedebdf0808c4.jpg\n",
            "220302032455_228410aca35ecad46255800f58d82e6e.jpg\n",
            "220302034044_c43d5bfc7a891f7f57819b7093b967bb.jpg\n",
            "220302034204_141247f7173a1fe2c3bdba15f4f496fd.jpg\n",
            "220302040239_ea06c140c53e6f39b53b0a7eec3031d2.jpg\n",
            "220302041014_614e14402724af1a953df888cba05fa2.jpg\n",
            "220302041201_c866eb80b38cc2655f441c9d600a027c.jpg\n",
            "220302041445_722f0310df43a9c18ed0f6d66cd8640a.jpg\n",
            "220302042736_35fe2711a25bd08687bac429b5bd1b34.jpg\n",
            "220302042841_7e0dd6ce81eec516f259dc7cba34b3e7.jpg\n",
            "220302043016_621676675691158761d81003cd0b350a.jpg\n",
            "220302044658_3ed19388a564cc742a3a0c167a21ae74.jpg\n",
            "220302044930_ef97881d9885a79d4c3686d348858ba6.jpg\n",
            "220302045606_1c2a95bbb0c34b7579795dfc9998f8b6.jpg\n",
            "220302050921_0735b1f5712a1478e3e9f6b880ec188b.jpg\n",
            "220302054911_22534e29cb9b7807c7281e5eb92859ed.jpg\n",
            "220302063237_e0ad7dd1cab64079b9892000e1806a48.jpg\n",
            "220302071338_950c5fb8c8477fe6c04cebca82b8c736.jpg\n",
            "220302073821_46f6fc2c0218088bb9d156817f89a8de.jpg\n",
            "220302074347_77d3d68df8f5b1b0ec1d9e89901da0a2.jpg\n",
            "220302074548_49664270dc8688c80e587536339825d0.jpg\n",
            "220302082510_beb9ffbe4061c8e85994709ef32dec3d.jpg\n",
            "220302084112_c9c6ee6d5e18f2d566213d872cde45c5.jpg\n",
            "220302084755_995aca033842406bdbe269cb2412481e.jpg\n",
            "220302091211_8aa82d7333d3692474e39cbd656de179.jpg\n",
            "220302091248_efcf880667f0ee8df27af95806f4adf8.jpg\n",
            "220302094433_d017bd9c923c29affda6ed14e38abd25.jpg\n",
            "220302112313_89ebcb299a5a304b7b4a754eb39f2d79.jpg\n",
            "220302112529_6247d7023772bf4c359fe118da95189e.jpg\n",
            "220302163654_7912adc5d67ca8497685c3a6565d82ca.jpg\n",
            "220303025245_abc7f6dcb7225096e7ef89a16b7cb54a.jpg\n",
            "220303025439_1dccb531b593fd997e99503e8c85d1df.jpg\n",
            "220303030716_f9672cc6579535e6e8abf45838101168.jpg\n",
            "220303030945_9c87cea6d7fa3714ae76f0b9ae8db0cf.jpg\n",
            "220303032230_239bb091d1c62aea9e08005409e34f22.jpg\n",
            "220303032714_d7bf6997f2e4d316b0721819251a59ee.jpg\n",
            "220303033427_306910ecd4ef3089d3b453fee86dc7d3.jpg\n",
            "220303034109_ede52a200a1b68564a980b39a4e47d0b.jpg\n",
            "220303040236_ae55c3025f83abe4f97cc7b4f15b786f.jpg\n",
            "220303040640_592cfd70edfeea07543018c23db66e29.jpg\n",
            "220303041122_e5173702146679818a3e3b290d60b11c.jpg\n",
            "220303041736_72cce2094bdb7373ced90aa9c322a4cf.jpg\n",
            "220303045515_cf54784bd1e29b77085a4a53a1d476e1.jpg\n",
            "220303045713_76a3387f3f121d1162b97e1d187d6f07.jpg\n",
            "220303045851_6b1d383dbc6e35c96040a67c241316b2.jpg\n",
            "220303054740_9daab175576b21466a151bc4b9a0536f.jpg\n",
            "220303063027_7c5eed7e6b027beff7d4accc945f62b9.jpg\n",
            "220303064730_cdd62f64d600591a4dc055703a76c3f9.jpg\n",
            "220303083251_9d40ea68b764c82e62fedf62d0a24884.jpg\n",
            "220303090424_a1724eefa610eaeb3fbedd0a0d6c0ae0.jpg\n",
            "220303094255_e7b5e5e9800da89a9e1ae89f484960eb.jpg\n",
            "220303095852_78078197600f47959f18cd5251d8a644.jpg\n",
            "220303101936_18cc0bc06c179a107c8715675b4a052d.jpg\n",
            "220303113233_24ede0023ea90416178fa027a8c77edd.jpg\n",
            "220304031122_f4bc294df4f178c4e60b16b5f323c88c.jpg\n",
            "220304034602_98a7e8eb54aaf72bc1d10af8a1032697.jpg\n",
            "220304042345_768488e4c7bf1e5e8414fbe0c2831bc4.jpg\n",
            "220304052500_9a3022dfe6dfa74d4a6537792e436c53.jpg\n",
            "220304060156_51b2fe94598d626677f65085635568fa.jpg\n",
            "220304062434_2c32bbe2535c58a11d2d4c3b51742bda.jpg\n",
            "220304063326_d00d7a35c1490bf3ce4daeb58f8eaf7e.jpg\n",
            "220304063620_a31dd1065738d1ee920b3a4469035b25.jpg\n",
            "220304064115_47a59b7d255c7a37134e2c222d9aa1b7.jpg\n",
            "220305051809_33e65963c271cdbf941792f1bbd921e1.jpg\n",
            "220305051829_70bdbfc65ba99ca4c5a58975ae660ccb.jpg\n",
            "220305092719_e725fbdb911003165408e72f43a09ccd.jpg\n",
            "220305100150_8987ce79e4d82d61f341f9d0a5af4a47.jpg\n",
            "220305120503_dfc2fb19dfc09c4258da08637565da99.jpg\n",
            "220305121502_b1a51115762118b54a8d93db3adbfe73.jpg\n",
            "220305122229_30a905be3963f7aeeb1c3ee1a48229ee.jpg\n",
            "220306024734_5b17738dc9d89b6f58185bd4f9788b0f.jpg\n",
            "220306042951_0ce6a31a079438681bf05be84c7242cb.jpg\n",
            "220306050601_f7b639f11532d71e4aa83daa5338944f.jpg\n",
            "220306053547_f66355b21b2058f41f726f24b6072298.jpg\n",
            "220306060813_060c72d7ca75cc7c8e631f98c3ae6575.jpg\n",
            "220306064951_978c78867c48ef63f7166fcd248ef890.jpg\n",
            "220306070534_077e34245af0cca2f8697e1a53f72983.jpg\n",
            "220306073024_e19fd6a2c1dab88da7923a0a3689d38d.jpg\n",
            "220306073131_ebb7640ab5613b71910788b50166c5d3.jpg\n",
            "220306234148_9d849148b68792fe46a1e25e13ab2cb2.jpg\n",
            "220306234838_a0a7ef148e9ea3d65bea1581181b0101.jpg\n",
            "220307002624_54471f149017446c7580c40f9c4e4847.jpg\n",
            "220307004700_250ff3f9bf70f46bbb395353427a86e5.jpg\n",
            "220307005026_ec15101b848b9e8eb703e4e7cdad70c7.jpg\n",
            "220307005043_fc3c1da52c6771a5f85bcb0e3475fbf7.jpg\n",
            "220307011013_2cf5d2c7334a82feac79dd3560fee8d5.jpg\n",
            "220307011134_be281b9a80507db668d5a6a8f324cef0.jpg\n",
            "220307011818_78c0320679344c3e7c5a73a01ffdfd79.jpg\n",
            "220307012615_70742f9c5e2273849e42cc983fee8a5d.jpg\n",
            "220307013844_c7c525ac887a898f4aa7acd155a5e4d4.jpg\n",
            "220307014836_5ee7bb8efe07ed736bf4941165faeb9e.jpg\n",
            "220307015600_22767d926ef4b95ffe7e98924f83d10d.jpg\n",
            "220307015618_80925eb956960f70806fee6b2713f321.jpg\n",
            "220307015913_04c60813ee9e71544581a4f326444feb.jpg\n",
            "220307020927_bf39231de1485ab90c2c9fcb4fb065ec.jpg\n",
            "220307021242_af922f62222d51694d13ff60ab7b9f48.jpg\n",
            "220307021243_234d44fc9637965cb40a6f3b3950a8db.jpg\n",
            "220307021243_e42b1356ef7f42f204ec41e1b5a918d0.jpg\n",
            "220307021858_848dc5b03f2c807fd0c9662c79bee242.jpg\n",
            "220307022721_c67544b92d7d42e8b70b4bddf355416a.jpg\n",
            "220307022803_0394e4e418a2d3ec1c09ff7f622cd227.jpg\n",
            "220307023010_edc83e6803b5f97b78bb70a4ca3f00e7.jpg\n",
            "220307023333_174d9ee28f251f502bd745a3a2acaf06.jpg\n",
            "220307023446_a0f647ffee15d1cbeb68642cddc2963a.jpg\n",
            "220307024848_87eb6b56b8105de4f05ffb9138d24255.jpg\n",
            "220307025502_4320fefa21f20b515fe01cfcf7b221e2.jpg\n",
            "220307030919_f345deda73d6ccb2985b00ff538161df.jpg\n",
            "220307031136_0cab32b967c54b479cb4dde211c9df63.jpg\n",
            "220307031304_161c9931221e8830ba968fd82903d618.jpg\n",
            "220307032132_33ab24ee8449f97bf273c522ae66751b.jpg\n",
            "220307032410_93a2bca4d50e5500d9be0bf851fe0ae0.jpg\n",
            "220307032511_6a57838d2f6a4ca390d90950eaf34cd7.jpg\n",
            "220307032854_97f640cb7deec087ab044745922f25eb.jpg\n",
            "220307033326_3c8b9c5a7c4989f5a5c3d9e9f8e31225.jpg\n",
            "220307034123_c953d2c85d88d7b3386d750b8627d335.jpg\n",
            "220307034508_82abb6cc59a067abd165f1d9660631d6.jpg\n",
            "220307075948_fbef5097c47602ecf392be82e7a3729d.jpg\n",
            "220307080034_ab3bd577b42eb6362c351f7331a421db.jpg\n",
            "220307080853_db633c7e47674dd3b697915aaaca60b3.jpg\n",
            "220307081154_bd12999a0d91c2cac9b7f57056760a34.jpg\n",
            "220307083529_d55c35d022a65f151721d7fd008ed540.jpg\n",
            "220307085810_d1fadc9772ff8dbe3b1904f752ea17aa.jpg\n",
            "220307085905_484451476d4469abca1ae1b5c4cddffc.jpg\n",
            "220307131945_1d2defc24fe3920808beaa3aae29900c.jpg\n",
            "220307132224_52645281baa22ba7c267cccd4adc58e5.jpg\n",
            "220307144056_40e5f7e9e9bb7a01654c571366adb956.jpg\n"
          ]
        }
      ]
    },
    {
      "cell_type": "code",
      "execution_count": null,
      "metadata": {
        "colab": {
          "base_uri": "https://localhost:8080/",
          "height": 143
        },
        "id": "Ns9czMPFNxge",
        "outputId": "ac7ed452-e24f-4799-c538-26b137f97ab0"
      },
      "outputs": [
        {
          "output_type": "execute_result",
          "data": {
            "text/plain": [
              "                                              ID_img  class\n",
              "0  220301124100_d3815192b7a85e54f935936bbe09496f.jpg    0.0\n",
              "1  220301124101_c919e95934b3df93a6149764a498b11f.jpg    0.0\n",
              "2  220301124110_69dcd5eb441c4df666dfedde7ac47fc6.jpg    0.0"
            ],
            "text/html": [
              "\n",
              "  <div id=\"df-b8ff19b1-0f47-4877-b390-789910c66cd7\">\n",
              "    <div class=\"colab-df-container\">\n",
              "      <div>\n",
              "<style scoped>\n",
              "    .dataframe tbody tr th:only-of-type {\n",
              "        vertical-align: middle;\n",
              "    }\n",
              "\n",
              "    .dataframe tbody tr th {\n",
              "        vertical-align: top;\n",
              "    }\n",
              "\n",
              "    .dataframe thead th {\n",
              "        text-align: right;\n",
              "    }\n",
              "</style>\n",
              "<table border=\"1\" class=\"dataframe\">\n",
              "  <thead>\n",
              "    <tr style=\"text-align: right;\">\n",
              "      <th></th>\n",
              "      <th>ID_img</th>\n",
              "      <th>class</th>\n",
              "    </tr>\n",
              "  </thead>\n",
              "  <tbody>\n",
              "    <tr>\n",
              "      <th>0</th>\n",
              "      <td>220301124100_d3815192b7a85e54f935936bbe09496f.jpg</td>\n",
              "      <td>0.0</td>\n",
              "    </tr>\n",
              "    <tr>\n",
              "      <th>1</th>\n",
              "      <td>220301124101_c919e95934b3df93a6149764a498b11f.jpg</td>\n",
              "      <td>0.0</td>\n",
              "    </tr>\n",
              "    <tr>\n",
              "      <th>2</th>\n",
              "      <td>220301124110_69dcd5eb441c4df666dfedde7ac47fc6.jpg</td>\n",
              "      <td>0.0</td>\n",
              "    </tr>\n",
              "  </tbody>\n",
              "</table>\n",
              "</div>\n",
              "      <button class=\"colab-df-convert\" onclick=\"convertToInteractive('df-b8ff19b1-0f47-4877-b390-789910c66cd7')\"\n",
              "              title=\"Convert this dataframe to an interactive table.\"\n",
              "              style=\"display:none;\">\n",
              "        \n",
              "  <svg xmlns=\"http://www.w3.org/2000/svg\" height=\"24px\"viewBox=\"0 0 24 24\"\n",
              "       width=\"24px\">\n",
              "    <path d=\"M0 0h24v24H0V0z\" fill=\"none\"/>\n",
              "    <path d=\"M18.56 5.44l.94 2.06.94-2.06 2.06-.94-2.06-.94-.94-2.06-.94 2.06-2.06.94zm-11 1L8.5 8.5l.94-2.06 2.06-.94-2.06-.94L8.5 2.5l-.94 2.06-2.06.94zm10 10l.94 2.06.94-2.06 2.06-.94-2.06-.94-.94-2.06-.94 2.06-2.06.94z\"/><path d=\"M17.41 7.96l-1.37-1.37c-.4-.4-.92-.59-1.43-.59-.52 0-1.04.2-1.43.59L10.3 9.45l-7.72 7.72c-.78.78-.78 2.05 0 2.83L4 21.41c.39.39.9.59 1.41.59.51 0 1.02-.2 1.41-.59l7.78-7.78 2.81-2.81c.8-.78.8-2.07 0-2.86zM5.41 20L4 18.59l7.72-7.72 1.47 1.35L5.41 20z\"/>\n",
              "  </svg>\n",
              "      </button>\n",
              "      \n",
              "  <style>\n",
              "    .colab-df-container {\n",
              "      display:flex;\n",
              "      flex-wrap:wrap;\n",
              "      gap: 12px;\n",
              "    }\n",
              "\n",
              "    .colab-df-convert {\n",
              "      background-color: #E8F0FE;\n",
              "      border: none;\n",
              "      border-radius: 50%;\n",
              "      cursor: pointer;\n",
              "      display: none;\n",
              "      fill: #1967D2;\n",
              "      height: 32px;\n",
              "      padding: 0 0 0 0;\n",
              "      width: 32px;\n",
              "    }\n",
              "\n",
              "    .colab-df-convert:hover {\n",
              "      background-color: #E2EBFA;\n",
              "      box-shadow: 0px 1px 2px rgba(60, 64, 67, 0.3), 0px 1px 3px 1px rgba(60, 64, 67, 0.15);\n",
              "      fill: #174EA6;\n",
              "    }\n",
              "\n",
              "    [theme=dark] .colab-df-convert {\n",
              "      background-color: #3B4455;\n",
              "      fill: #D2E3FC;\n",
              "    }\n",
              "\n",
              "    [theme=dark] .colab-df-convert:hover {\n",
              "      background-color: #434B5C;\n",
              "      box-shadow: 0px 1px 3px 1px rgba(0, 0, 0, 0.15);\n",
              "      filter: drop-shadow(0px 1px 2px rgba(0, 0, 0, 0.3));\n",
              "      fill: #FFFFFF;\n",
              "    }\n",
              "  </style>\n",
              "\n",
              "      <script>\n",
              "        const buttonEl =\n",
              "          document.querySelector('#df-b8ff19b1-0f47-4877-b390-789910c66cd7 button.colab-df-convert');\n",
              "        buttonEl.style.display =\n",
              "          google.colab.kernel.accessAllowed ? 'block' : 'none';\n",
              "\n",
              "        async function convertToInteractive(key) {\n",
              "          const element = document.querySelector('#df-b8ff19b1-0f47-4877-b390-789910c66cd7');\n",
              "          const dataTable =\n",
              "            await google.colab.kernel.invokeFunction('convertToInteractive',\n",
              "                                                     [key], {});\n",
              "          if (!dataTable) return;\n",
              "\n",
              "          const docLinkHtml = 'Like what you see? Visit the ' +\n",
              "            '<a target=\"_blank\" href=https://colab.research.google.com/notebooks/data_table.ipynb>data table notebook</a>'\n",
              "            + ' to learn more about interactive tables.';\n",
              "          element.innerHTML = '';\n",
              "          dataTable['output_type'] = 'display_data';\n",
              "          await google.colab.output.renderOutput(dataTable, element);\n",
              "          const docLink = document.createElement('div');\n",
              "          docLink.innerHTML = docLinkHtml;\n",
              "          element.appendChild(docLink);\n",
              "        }\n",
              "      </script>\n",
              "    </div>\n",
              "  </div>\n",
              "  "
            ]
          },
          "metadata": {},
          "execution_count": 19
        }
      ],
      "source": [
        "data_df.head(3)"
      ]
    },
    {
      "cell_type": "code",
      "execution_count": null,
      "metadata": {
        "colab": {
          "base_uri": "https://localhost:8080/"
        },
        "id": "ILs-YFuYMyvW",
        "outputId": "07fa4c9f-273f-4859-dc51-6656acf6d3ca"
      },
      "outputs": [
        {
          "output_type": "stream",
          "name": "stdout",
          "text": [
            "Обучающей выборки  543\n",
            "Тестовой выборки  225\n"
          ]
        }
      ],
      "source": [
        "from os import listdir\n",
        "\n",
        "print(\"Обучающей выборки \" ,len(listdir(\"/content/ufa/train\")))\n",
        "print(\"Тестовой выборки \" ,len(listdir(\"/content/ufa/test\")))"
      ]
    },
    {
      "cell_type": "code",
      "execution_count": null,
      "metadata": {
        "colab": {
          "base_uri": "https://localhost:8080/",
          "height": 296
        },
        "id": "kuY8_IxzM7f9",
        "outputId": "db5d784f-9360-45be-c729-a1cd10d0aef2"
      },
      "outputs": [
        {
          "output_type": "execute_result",
          "data": {
            "text/plain": [
              "<matplotlib.axes._subplots.AxesSubplot at 0x7f520be425d0>"
            ]
          },
          "metadata": {},
          "execution_count": 42
        },
        {
          "output_type": "display_data",
          "data": {
            "text/plain": [
              "<Figure size 432x288 with 1 Axes>"
            ],
            "image/png": "[encoded data removed]"
          },
          "metadata": {
            "needs_background": "light"
          }
        }
      ],
      "source": [
        "import seaborn as sns\n",
        "import warnings\n",
        " \n",
        "warnings.simplefilter('ignore')\n",
        "sns.countplot(x = \"class\" , data  = data_df)"
      ]
    },
    {
      "cell_type": "code",
      "execution_count": null,
      "metadata": {
        "id": "vKrQJ-5zNrwQ"
      },
      "outputs": [],
      "source": [
        "## посмотрим на картинки. let's look at the images\n",
        "\n",
        "fig, axs = plt.subplots(4, 6, figsize=(16,8))\n",
        "fig.suptitle(f'Нет мусорок {\" \"*105} Есть мусорки', fontsize=14)\n",
        "\n",
        "rows = 4\n",
        "\n",
        "for i, name in zip(range(rows*2), data_df[ data_df['class'] == 0 ].sample(rows*2, random_state=42)['ID_img']):\n",
        "    axs[i // 2, (i % 2)].imshow(plt.imread(f\"/content/ufa/train/{name}\"))\n",
        "    axs[i // 2, (i % 2)].axis('off')\n",
        "\n",
        "for i, name in zip(range(rows*2), data_df[ data_df['class'] == 1 ].sample(rows*2, random_state=42)['ID_img']):\n",
        "    axs[i // 2, (i % 2)+2].imshow(plt.imread(f\"/content/ufa/train/{name}\"))\n",
        "    axs[i // 2, (i % 2)+2].axis('off')\n",
        "\n",
        "for i, name in zip(range(rows*2), data_df[ data_df['class'] == 2 ].sample(rows*2, random_state=42)['ID_img']):\n",
        "    print(i, i//rows, (i%2)+4)\n",
        "    axs[i // 2, (i % 2)+4].imshow(plt.imread(f\"/content/ufa/train/{name}\"))\n",
        "    axs[i // 2, (i % 2)+4].axis('off')\n",
        "\n",
        "fig.tight_layout()\n",
        "fig.subplots_adjust(top=0.88)"
      ]
    },
    {
      "cell_type": "code",
      "source": [
        "fig, axs = plt.subplots(4, 2, figsize=(16,8))\n",
        "for i, name in zip(range(8), c1_df.sample(8, random_state=42)['ID_img']):\n",
        "  axs[i//2, (i%2)].imshow(plt.imread(f\"/content/ufa/aug/{name}\"))\n",
        "  axs[i//2, (i%2)].axis('off')\n",
        "  axs[i//2, (i%2)].set_title(f\"{name}\") #title.set_text(f\"{name}\")"
      ],
      "metadata": {
        "colab": {
          "base_uri": "https://localhost:8080/",
          "height": 356
        },
        "id": "wAaFh8EyZ5EU",
        "outputId": "3c56bda6-ab73-4df8-ae5a-002553e2c0c4"
      },
      "execution_count": null,
      "outputs": [
        {
          "output_type": "display_data",
          "data": {
            "text/plain": [
              "<Figure size 1152x576 with 8 Axes>"
            ],
            "image/png": "[encoded data removed]"
          },
          "metadata": {
            "needs_background": "light"
          }
        }
      ]
    },
    {
      "cell_type": "code",
      "execution_count": 19,
      "metadata": {
        "id": "-glCq25BODdU"
      },
      "outputs": [],
      "source": [
        "# разделим датасет на трейн и валидацию, чтобы смотреть на качество\n",
        "train_df, valid_df = train_test_split(data_df, test_size=0.3, random_state=43)"
      ]
    },
    {
      "cell_type": "code",
      "execution_count": 20,
      "metadata": {
        "colab": {
          "base_uri": "https://localhost:8080/"
        },
        "id": "j4EHU18wPmqv",
        "outputId": "d02c5c9e-2311-4f47-8626-ec61838e34dc"
      },
      "outputs": [
        {
          "output_type": "execute_result",
          "data": {
            "text/plain": [
              "((380, 2), (163, 2))"
            ]
          },
          "metadata": {},
          "execution_count": 20
        }
      ],
      "source": [
        "train_df.shape, valid_df.shape"
      ]
    },
    {
      "cell_type": "code",
      "execution_count": 21,
      "metadata": {
        "id": "zcp0qk5oPode"
      },
      "outputs": [],
      "source": [
        "train_dataset = ImageDataset(train_df, train_transform)\n",
        "valid_dataset = ImageDataset(valid_df, valid_transform)"
      ]
    },
    {
      "cell_type": "code",
      "source": [
        "# Добавим два набора данных, соотвествующих размытым и затемненным изображениям\n",
        "aug_dataset = AugBlurImageDataset(c1_df, train_transform)\n",
        "dark_dataset = AugDarkImageDataset(dark_df, train_transform)"
      ],
      "metadata": {
        "id": "jkOEH5cT_bI8"
      },
      "execution_count": 22,
      "outputs": []
    },
    {
      "cell_type": "code",
      "execution_count": 23,
      "metadata": {
        "id": "ukJo2MSwPsWL"
      },
      "outputs": [],
      "source": [
        "train_loader = torch.utils.data.DataLoader(dataset=train_dataset,\n",
        "                                           batch_size=32,\n",
        "                                           shuffle=True,\n",
        "                                           pin_memory=True,\n",
        "                                           num_workers=2)\n",
        "\n",
        "valid_loader = torch.utils.data.DataLoader(dataset=valid_dataset,\n",
        "                                           batch_size=32,\n",
        "                                           # shuffle=True,\n",
        "                                           pin_memory=True,\n",
        "                                           num_workers=2)"
      ]
    },
    {
      "cell_type": "code",
      "source": [
        "# Соберем набор данных из train, размытых и затемненных наборов данных\n",
        "train_aug_sets = torch.utils.data.ConcatDataset([train_dataset, aug_dataset, dark_dataset])"
      ],
      "metadata": {
        "id": "30ze7tIA_tk5"
      },
      "execution_count": 24,
      "outputs": []
    },
    {
      "cell_type": "code",
      "source": [
        "# Обогащенный загрузчик данных из совокупного набора из предыдущего шага\n",
        "train_aug_loader = torch.utils.data.DataLoader(dataset = train_aug_sets,\n",
        "                                               batch_size=32,\n",
        "                                               shuffle=True,\n",
        "                                               pin_memory=True,\n",
        "                                               num_workers=2)"
      ],
      "metadata": {
        "id": "e9juckIo_2PB"
      },
      "execution_count": 25,
      "outputs": []
    },
    {
      "cell_type": "markdown",
      "metadata": {
        "id": "rlO_9AW_P0ad"
      },
      "source": [
        "## Вспомогательные функции"
      ]
    },
    {
      "cell_type": "code",
      "source": [
        "cuda = 0"
      ],
      "metadata": {
        "id": "9JRNSQ3p2EEE"
      },
      "execution_count": 34,
      "outputs": []
    },
    {
      "cell_type": "code",
      "execution_count": 26,
      "metadata": {
        "id": "bLArr_igPxCj"
      },
      "outputs": [],
      "source": [
        "def crossvalid(res_model=None,criterion=None,optimizer=None,dataset=None,k_fold=5):\n",
        "    \n",
        "    train_score = pd.Series()\n",
        "    val_score = pd.Series()\n",
        "    \n",
        "    total_size = len(dataset)\n",
        "    fraction = 1/k_fold\n",
        "    seg = int(total_size * fraction)\n",
        "    # tr:train,val:valid; r:right,l:left;  eg: trrr: right index of right side train subset \n",
        "    # index: [trll,trlr],[vall,valr],[trrl,trrr]\n",
        "    for i in range(k_fold):\n",
        "        trll = 0\n",
        "        trlr = i * seg\n",
        "        vall = trlr\n",
        "        valr = i * seg + seg\n",
        "        trrl = valr\n",
        "        trrr = total_size\n",
        "        \n",
        "        train_left_indices = list(range(trll,trlr))\n",
        "        train_right_indices = list(range(trrl,trrr))\n",
        "        \n",
        "        train_indices = train_left_indices + train_right_indices\n",
        "        val_indices = list(range(vall,valr))\n",
        "        \n",
        "        train_set = torch.utils.data.dataset.Subset(dataset,train_indices)\n",
        "        val_set = torch.utils.data.dataset.Subset(dataset,val_indices)\n",
        "        \n",
        "        train_loader = torch.utils.data.DataLoader(train_set, batch_size=50,\n",
        "                                          shuffle=True, num_workers=4)\n",
        "        val_loader = torch.utils.data.DataLoader(val_set, batch_size=50,\n",
        "                                          shuffle=True, num_workers=4)\n",
        "        train_acc = train(res_model,criterion,optimizer,train_loader,val_loader,1)\n",
        "        train_score.at[i] = train_acc\n",
        "        #val_acc = valid(res_model,criterion,optimizer,val_loader)\n",
        "        #val_score.at[i] = val_acc\n",
        "    \n",
        "    return train_score,val_score"
      ]
    },
    {
      "cell_type": "code",
      "execution_count": 27,
      "metadata": {
        "id": "qu_CF6TIP2ap"
      },
      "outputs": [],
      "source": [
        "def plot_history(train_history, val_history, title='loss'):\n",
        "    plt.figure()\n",
        "    plt.title('{}'.format(title))\n",
        "    plt.plot(train_history, label='train', zorder=1)\n",
        "    \n",
        "    points = np.array(val_history)\n",
        "    steps = list(range(0, len(train_history) + 1, int(len(train_history) / len(val_history))))[1:]\n",
        "    \n",
        "    plt.scatter(steps, val_history, marker='+', s=180, c='orange', label='val', zorder=2)\n",
        "    plt.xlabel('train steps')\n",
        "    \n",
        "    plt.legend(loc='best')\n",
        "    plt.grid()\n",
        "\n",
        "    plt.show()"
      ]
    },
    {
      "cell_type": "code",
      "execution_count": 35,
      "metadata": {
        "id": "Ac1V-EjHP8RT"
      },
      "outputs": [],
      "source": [
        "def train(res_model, criterion, optimizer, train_dataloader, test_dataloader, NUM_EPOCH=15):\n",
        "    train_loss_log = []\n",
        "    val_loss_log = []\n",
        "    \n",
        "    train_acc_log = []\n",
        "    val_acc_log = []\n",
        "    \n",
        "\n",
        "    \n",
        "    for epoch in tqdm(range(NUM_EPOCH)):\n",
        "        res_model.train()\n",
        "        train_loss = 0.\n",
        "        train_size = 0\n",
        "        \n",
        "        train_pred = 0.\n",
        "\n",
        "\n",
        "        for imgs, labels in train_dataloader:\n",
        "\n",
        "            optimizer.zero_grad()\n",
        "\n",
        "            if cuda == 1:\n",
        "              imgs = imgs.cuda()\n",
        "              labels = labels.cuda()\n",
        "\n",
        "            y_pred = res_model(imgs)\n",
        "\n",
        "            loss = criterion(y_pred, labels)\n",
        "            loss.backward()\n",
        "            \n",
        "            train_loss += loss.item()\n",
        "            train_size += y_pred.size(0)\n",
        "            train_loss_log.append(loss.data / y_pred.size(0))\n",
        "            \n",
        "            train_pred += (y_pred.argmax(1) == labels).sum()\n",
        "\n",
        "            optimizer.step()\n",
        "\n",
        "        train_acc_log.append(train_pred / train_size)\n",
        "\n",
        "        val_loss = 0.\n",
        "        val_size = 0\n",
        "        \n",
        "        val_pred = 0.\n",
        "        \n",
        "        res_model.eval()\n",
        "        \n",
        "        with torch.no_grad():\n",
        "            for imgs, labels in test_dataloader:\n",
        "                \n",
        "                if cuda == 1:\n",
        "                  imgs = imgs.cuda()\n",
        "                  labels = labels.cuda()\n",
        "                \n",
        "                pred = res_model(imgs)\n",
        "                loss = criterion(pred, labels)\n",
        "                \n",
        "                val_loss += loss.item()\n",
        "                val_size += pred.size(0)\n",
        "                \n",
        "                val_pred += (pred.argmax(1) == labels).sum()\n",
        "        \n",
        "\n",
        "        val_loss_log.append(val_loss / val_size)\n",
        "        val_acc_log.append(val_pred / val_size)\n",
        "\n",
        "        clear_output()\n",
        "        #plot_history(train_loss_log, val_loss_log, 'loss')\n",
        "        \n",
        "\n",
        "\n",
        "        print('Train loss:', (train_loss / train_size)*100)\n",
        "        print('Val loss:', (val_loss / val_size)*100)\n",
        "        print('Train acc:', (train_pred / train_size)*100)\n",
        "        print('Val acc:', (val_pred / val_size)*100)\n",
        "        \n",
        "    return train_loss_log, train_acc_log, val_loss_log, val_acc_log"
      ]
    },
    {
      "cell_type": "code",
      "source": [
        ""
      ],
      "metadata": {
        "id": "6AVk1VYfkDbM"
      },
      "execution_count": null,
      "outputs": []
    },
    {
      "cell_type": "markdown",
      "metadata": {
        "id": "RvIHwUhvkErH"
      },
      "source": [
        "## Модель 1 (baseline)"
      ]
    },
    {
      "cell_type": "code",
      "execution_count": null,
      "metadata": {
        "id": "Z4mllkuzkErK"
      },
      "outputs": [],
      "source": [
        "torch.cuda.empty_cache()"
      ]
    },
    {
      "cell_type": "code",
      "execution_count": 36,
      "metadata": {
        "id": "FKEzF9sNkErM"
      },
      "outputs": [],
      "source": [
        "# Подргружаем модель\n",
        "\n",
        "model = models.resnet50(pretrained=True)\n",
        "#model.fc = nn.Linear(2048, 3)\n",
        "n_inputs = model.fc.in_features\n",
        "model.fc = nn.Sequential(\n",
        "          nn.Linear(n_inputs, 256),\n",
        "          nn.ReLU(),\n",
        "          nn.Dropout(0.4),\n",
        "          nn.Linear(256, 3),                   \n",
        "          nn.LogSoftmax(dim=1))\n",
        "\n",
        "if cuda == 1:\n",
        "  model = model.cuda()\n",
        "criterion = torch.nn.NLLLoss() #CrossEntropyLoss()"
      ]
    },
    {
      "cell_type": "code",
      "execution_count": 30,
      "metadata": {
        "id": "A23M2B2GkErN"
      },
      "outputs": [],
      "source": [
        "optimizer = torch.optim.Adam(model.fc.parameters(), lr=0.001)"
      ]
    },
    {
      "cell_type": "code",
      "execution_count": null,
      "metadata": {
        "id": "tz2ANn44kErO"
      },
      "outputs": [],
      "source": [
        "#train_loss_log, train_acc_log, val_loss_log, val_acc_log = train(model, \n",
        "#                                                                 criterion, \n",
        "#                                                                optimizer, \n",
        "#                                                                 train_loader, \n",
        "#                                                                 valid_loader, \n",
        "#                                                                 15)"
      ]
    },
    {
      "cell_type": "code",
      "source": [
        "train_loss_log, train_acc_log, val_loss_log, val_acc_log = train(model, \n",
        "                                                                 criterion, \n",
        "                                                                optimizer, \n",
        "                                                                 train_aug_loader, \n",
        "                                                                 valid_loader, \n",
        "                                                                 15)"
      ],
      "metadata": {
        "colab": {
          "base_uri": "https://localhost:8080/",
          "height": 539
        },
        "outputId": "2b2dbc3a-e921-4178-e1c0-dd4c11fe1fa2",
        "id": "d5xn9ZxWkErP"
      },
      "execution_count": 37,
      "outputs": [
        {
          "output_type": "stream",
          "name": "stderr",
          "text": [
            "  0%|          | 0/15 [06:12<?, ?it/s]\n",
            "Traceback (most recent call last):\n",
            "  File \"/usr/lib/python3.7/multiprocessing/queues.py\", line 242, in _feed\n",
            "    send_bytes(obj)\n",
            "  File \"/usr/lib/python3.7/multiprocessing/connection.py\", line 200, in send_bytes\n",
            "    self._send_bytes(m[offset:offset + size])\n",
            "  File \"/usr/lib/python3.7/multiprocessing/connection.py\", line 404, in _send_bytes\n",
            "    self._send(header + buf)\n",
            "  File \"/usr/lib/python3.7/multiprocessing/connection.py\", line 368, in _send\n",
            "    n = write(self._handle, buf)\n",
            "BrokenPipeError: [Errno 32] Broken pipe\n"
          ]
        },
        {
          "output_type": "error",
          "ename": "KeyboardInterrupt",
          "evalue": "ignored",
          "traceback": [
            "\u001b[0;31m---------------------------------------------------------------------------\u001b[0m",
            "\u001b[0;31mKeyboardInterrupt\u001b[0m                         Traceback (most recent call last)",
            "\u001b[0;32m<ipython-input-37-10bd4697ba74>\u001b[0m in \u001b[0;36m<module>\u001b[0;34m()\u001b[0m\n\u001b[1;32m      4\u001b[0m                                                                  \u001b[0mtrain_aug_loader\u001b[0m\u001b[0;34m,\u001b[0m\u001b[0;34m\u001b[0m\u001b[0;34m\u001b[0m\u001b[0m\n\u001b[1;32m      5\u001b[0m                                                                  \u001b[0mvalid_loader\u001b[0m\u001b[0;34m,\u001b[0m\u001b[0;34m\u001b[0m\u001b[0;34m\u001b[0m\u001b[0m\n\u001b[0;32m----> 6\u001b[0;31m                                                                  15)\n\u001b[0m",
            "\u001b[0;32m<ipython-input-35-1cc96b308f9b>\u001b[0m in \u001b[0;36mtrain\u001b[0;34m(res_model, criterion, optimizer, train_dataloader, test_dataloader, NUM_EPOCH)\u001b[0m\n\u001b[1;32m     27\u001b[0m \u001b[0;34m\u001b[0m\u001b[0m\n\u001b[1;32m     28\u001b[0m             \u001b[0mloss\u001b[0m \u001b[0;34m=\u001b[0m \u001b[0mcriterion\u001b[0m\u001b[0;34m(\u001b[0m\u001b[0my_pred\u001b[0m\u001b[0;34m,\u001b[0m \u001b[0mlabels\u001b[0m\u001b[0;34m)\u001b[0m\u001b[0;34m\u001b[0m\u001b[0;34m\u001b[0m\u001b[0m\n\u001b[0;32m---> 29\u001b[0;31m             \u001b[0mloss\u001b[0m\u001b[0;34m.\u001b[0m\u001b[0mbackward\u001b[0m\u001b[0;34m(\u001b[0m\u001b[0;34m)\u001b[0m\u001b[0;34m\u001b[0m\u001b[0;34m\u001b[0m\u001b[0m\n\u001b[0m\u001b[1;32m     30\u001b[0m \u001b[0;34m\u001b[0m\u001b[0m\n\u001b[1;32m     31\u001b[0m             \u001b[0mtrain_loss\u001b[0m \u001b[0;34m+=\u001b[0m \u001b[0mloss\u001b[0m\u001b[0;34m.\u001b[0m\u001b[0mitem\u001b[0m\u001b[0;34m(\u001b[0m\u001b[0;34m)\u001b[0m\u001b[0;34m\u001b[0m\u001b[0;34m\u001b[0m\u001b[0m\n",
            "\u001b[0;32m/usr/local/lib/python3.7/dist-packages/torch/_tensor.py\u001b[0m in \u001b[0;36mbackward\u001b[0;34m(self, gradient, retain_graph, create_graph, inputs)\u001b[0m\n\u001b[1;32m    361\u001b[0m                 \u001b[0mcreate_graph\u001b[0m\u001b[0;34m=\u001b[0m\u001b[0mcreate_graph\u001b[0m\u001b[0;34m,\u001b[0m\u001b[0;34m\u001b[0m\u001b[0;34m\u001b[0m\u001b[0m\n\u001b[1;32m    362\u001b[0m                 inputs=inputs)\n\u001b[0;32m--> 363\u001b[0;31m         \u001b[0mtorch\u001b[0m\u001b[0;34m.\u001b[0m\u001b[0mautograd\u001b[0m\u001b[0;34m.\u001b[0m\u001b[0mbackward\u001b[0m\u001b[0;34m(\u001b[0m\u001b[0mself\u001b[0m\u001b[0;34m,\u001b[0m \u001b[0mgradient\u001b[0m\u001b[0;34m,\u001b[0m \u001b[0mretain_graph\u001b[0m\u001b[0;34m,\u001b[0m \u001b[0mcreate_graph\u001b[0m\u001b[0;34m,\u001b[0m \u001b[0minputs\u001b[0m\u001b[0;34m=\u001b[0m\u001b[0minputs\u001b[0m\u001b[0;34m)\u001b[0m\u001b[0;34m\u001b[0m\u001b[0;34m\u001b[0m\u001b[0m\n\u001b[0m\u001b[1;32m    364\u001b[0m \u001b[0;34m\u001b[0m\u001b[0m\n\u001b[1;32m    365\u001b[0m     \u001b[0;32mdef\u001b[0m \u001b[0mregister_hook\u001b[0m\u001b[0;34m(\u001b[0m\u001b[0mself\u001b[0m\u001b[0;34m,\u001b[0m \u001b[0mhook\u001b[0m\u001b[0;34m)\u001b[0m\u001b[0;34m:\u001b[0m\u001b[0;34m\u001b[0m\u001b[0;34m\u001b[0m\u001b[0m\n",
            "\u001b[0;32m/usr/local/lib/python3.7/dist-packages/torch/autograd/__init__.py\u001b[0m in \u001b[0;36mbackward\u001b[0;34m(tensors, grad_tensors, retain_graph, create_graph, grad_variables, inputs)\u001b[0m\n\u001b[1;32m    173\u001b[0m     Variable._execution_engine.run_backward(  # Calls into the C++ engine to run the backward pass\n\u001b[1;32m    174\u001b[0m         \u001b[0mtensors\u001b[0m\u001b[0;34m,\u001b[0m \u001b[0mgrad_tensors_\u001b[0m\u001b[0;34m,\u001b[0m \u001b[0mretain_graph\u001b[0m\u001b[0;34m,\u001b[0m \u001b[0mcreate_graph\u001b[0m\u001b[0;34m,\u001b[0m \u001b[0minputs\u001b[0m\u001b[0;34m,\u001b[0m\u001b[0;34m\u001b[0m\u001b[0;34m\u001b[0m\u001b[0m\n\u001b[0;32m--> 175\u001b[0;31m         allow_unreachable=True, accumulate_grad=True)  # Calls into the C++ engine to run the backward pass\n\u001b[0m\u001b[1;32m    176\u001b[0m \u001b[0;34m\u001b[0m\u001b[0m\n\u001b[1;32m    177\u001b[0m def grad(\n",
            "\u001b[0;31mKeyboardInterrupt\u001b[0m: "
          ]
        }
      ]
    },
    {
      "cell_type": "markdown",
      "metadata": {
        "id": "LHpBqm9ykErQ"
      },
      "source": [
        "## Посмотрим метрики нашей итоговой модели на валидации."
      ]
    },
    {
      "cell_type": "code",
      "execution_count": null,
      "metadata": {
        "colab": {
          "base_uri": "https://localhost:8080/"
        },
        "outputId": "1c4cdab4-2693-4f72-dd6d-73ad65621cf1",
        "id": "62uniNkAkErR"
      },
      "outputs": [
        {
          "output_type": "stream",
          "name": "stderr",
          "text": [
            "100%|██████████| 6/6 [00:02<00:00,  2.19it/s]\n"
          ]
        }
      ],
      "source": [
        "model.eval()\n",
        "valid_predicts = []\n",
        "\n",
        "for imgs, _ in tqdm(valid_loader):\n",
        "    \n",
        "    imgs = imgs.cuda()\n",
        "    pred = model(imgs)\n",
        "\n",
        "    pred_numpy = pred.cpu().detach().numpy()\n",
        "\n",
        "    for class_obj in pred_numpy:\n",
        "      index, max_value = max(enumerate(class_obj), key=lambda i_v: i_v[1])\n",
        "      valid_predicts.append(index)"
      ]
    },
    {
      "cell_type": "code",
      "execution_count": null,
      "metadata": {
        "id": "eoGXP15FkErS"
      },
      "outputs": [],
      "source": [
        "valid_df[\"pred\"] = valid_predicts"
      ]
    },
    {
      "cell_type": "markdown",
      "metadata": {
        "id": "96zSvj9HkErT"
      },
      "source": [
        "# Посчитаем accuracy"
      ]
    },
    {
      "cell_type": "code",
      "execution_count": null,
      "metadata": {
        "id": "UEJH5hJlkErU"
      },
      "outputs": [],
      "source": [
        "from sklearn.metrics import roc_auc_score, roc_curve, auc , accuracy_score"
      ]
    },
    {
      "cell_type": "code",
      "execution_count": null,
      "metadata": {
        "colab": {
          "base_uri": "https://localhost:8080/"
        },
        "outputId": "4f303740-a50e-4e0a-e3cb-7f34cccfd6b6",
        "id": "wvvlDEIrkErV"
      },
      "outputs": [
        {
          "output_type": "execute_result",
          "data": {
            "text/plain": [
              "array([1, 1, 0, 1, 1, 0, 1, 2, 1, 1, 2, 2, 2, 1, 1, 1, 0, 2, 2, 2, 1, 2,\n",
              "       2, 1, 2, 1, 2, 1, 2, 2, 0, 2, 2, 1, 2, 2, 1, 1, 2, 2, 1, 2, 1, 0,\n",
              "       2, 0, 1, 1, 2, 1, 1, 0, 2, 2, 0, 1, 2, 2, 1, 2, 1, 1, 1, 1, 2, 2,\n",
              "       1, 2, 1, 0, 0, 2, 2, 2, 0, 0, 1, 1, 2, 2, 2, 0, 2, 1, 2, 2, 2, 2,\n",
              "       2, 1, 1, 2, 2, 2, 2, 2, 1, 1, 1, 1, 0, 0, 0, 1, 2, 2, 2, 0, 0, 2,\n",
              "       2, 1, 0, 1, 2, 2, 0, 1, 1, 2, 2, 2, 1, 0, 1, 2, 2, 2, 2, 2, 1, 2,\n",
              "       1, 2, 1, 2, 2, 1, 2, 2, 2, 2, 2, 2, 1, 2, 1, 1, 2, 0, 2, 1, 0, 2,\n",
              "       2, 1, 2, 0, 1, 2, 1, 1, 1])"
            ]
          },
          "metadata": {},
          "execution_count": 179
        }
      ],
      "source": [
        "valid_df['pred'].values"
      ]
    },
    {
      "cell_type": "code",
      "execution_count": null,
      "metadata": {
        "colab": {
          "base_uri": "https://localhost:8080/"
        },
        "outputId": "71d8c1dc-c721-4be4-cc93-020f7f8fcdc7",
        "id": "-YsiE6u2kErW"
      },
      "outputs": [
        {
          "output_type": "stream",
          "name": "stdout",
          "text": [
            "Validation accuracy = 0.7730061349693251\n"
          ]
        }
      ],
      "source": [
        "val_accuracy = accuracy_score(valid_df['class'].values, valid_df['pred'].values)\n",
        "print(f\"Validation accuracy = {val_accuracy}\")"
      ]
    },
    {
      "cell_type": "code",
      "source": [
        "classes = [0,1,2]\n",
        "roc_auc_ovr = {}\n",
        "for i in range(len(classes)):\n",
        "    # Gets the class\n",
        "    c = classes[i]\n",
        "    \n",
        "    # Prepares an auxiliar dataframe to help with the plots\n",
        "    df_aux = valid_df.copy()\n",
        "    df_aux['class'] = [1 if y == c else 0 for y in valid_df['class']]\n",
        "    df_aux['prob'] = valid_df['pred']\n",
        "    df_aux = df_aux.reset_index(drop = True)\n",
        "    \n",
        "    # Calculates the ROC AUC OvR\n",
        "    roc_auc_ovr[c] = roc_auc_score(df_aux['class'], df_aux['prob'])"
      ],
      "metadata": {
        "id": "GVKnRp2kkErX"
      },
      "execution_count": null,
      "outputs": []
    },
    {
      "cell_type": "code",
      "source": [
        "print(roc_auc_ovr)"
      ],
      "metadata": {
        "colab": {
          "base_uri": "https://localhost:8080/"
        },
        "outputId": "27136292-84d5-4d11-ccc3-065c073e9de2",
        "id": "ORnBwIthkErX"
      },
      "execution_count": null,
      "outputs": [
        {
          "output_type": "stream",
          "name": "stdout",
          "text": [
            "{0: 0.21296296296296294, 1: 0.35424242424242425, 2: 0.8652173913043478}\n"
          ]
        }
      ]
    },
    {
      "cell_type": "code",
      "source": [
        "torch.save(model.state_dict(), \"resnet_model\")"
      ],
      "metadata": {
        "id": "_1pM1JrlhGIS"
      },
      "execution_count": null,
      "outputs": []
    },
    {
      "cell_type": "code",
      "source": [
        "valid_df.loc[(valid_df['class']!=valid_df['pred']) & (valid_df['class']==1)]"
      ],
      "metadata": {
        "colab": {
          "base_uri": "https://localhost:8080/",
          "height": 959
        },
        "outputId": "3a70a53c-f122-493b-b548-6ed9bce24c0c",
        "id": "ou0IHGHjkErY"
      },
      "execution_count": null,
      "outputs": [
        {
          "output_type": "execute_result",
          "data": {
            "text/plain": [
              "                                                ID_img  class  pred\n",
              "375  220301124019_b6899a82ecd89292548cc11e712f255a.jpg    1.0     2\n",
              "406  220302020709_ef606fc40122782c608aa4b0dd0cb95b.jpg    1.0     2\n",
              "291  220301090918_7e51bc3af9c034f074df5f38261880cf.jpg    1.0     2\n",
              "507  220307014836_5ee7bb8efe07ed736bf4941165faeb9e.jpg    1.0     2\n",
              "516  220307022721_c67544b92d7d42e8b70b4bddf355416a.jpg    1.0     2\n",
              "494  220306073024_e19fd6a2c1dab88da7923a0a3689d38d.jpg    1.0     2\n",
              "390  220301124526_ba6ffcfd54b8a2e2d7120082abf89be8.jpg    1.0     2\n",
              "471  220304031122_f4bc294df4f178c4e60b16b5f323c88c.jpg    1.0     2\n",
              "477  220304063326_d00d7a35c1490bf3ce4daeb58f8eaf7e.jpg    1.0     2\n",
              "296  220301092426_78c2ecbb30fa2feb93362ac7f748597a.jpg    1.0     0\n",
              "461  220303045851_6b1d383dbc6e35c96040a67c241316b2.jpg    1.0     2\n",
              "535  220307080853_db633c7e47674dd3b697915aaaca60b3.jpg    1.0     0\n",
              "398  220301150606_a360a2f28eacd5648732c9a28c1e4c0a.jpg    1.0     2\n",
              "462  220303054740_9daab175576b21466a151bc4b9a0536f.jpg    1.0     2\n",
              "397  220301150603_c16cfd04d0e3eed75e084d3691baef6e.jpg    1.0     0\n",
              "460  220303045713_76a3387f3f121d1162b97e1d187d6f07.jpg    1.0     2\n",
              "499  220307004700_250ff3f9bf70f46bbb395353427a86e5.jpg    1.0     2\n",
              "423  220302041201_c866eb80b38cc2655f441c9d600a027c.jpg    1.0     2\n",
              "502  220307011013_2cf5d2c7334a82feac79dd3560fee8d5.jpg    1.0     2\n",
              "511  220307020927_bf39231de1485ab90c2c9fcb4fb065ec.jpg    1.0     2\n",
              "465  220303083251_9d40ea68b764c82e62fedf62d0a24884.jpg    1.0     0\n",
              "315  220301102007_fc56cd0869becdcf30b816266398c32a.jpg    1.0     0\n",
              "517  220307022803_0394e4e418a2d3ec1c09ff7f622cd227.jpg    1.0     2\n",
              "404  220302013218_0dc7f7864ff931e2f0e2673f89cfb47c.jpg    1.0     2\n",
              "400  220301163723_7926bd07890869b716537a3ee3952a4e.jpg    1.0     2\n",
              "540  220307131945_1d2defc24fe3920808beaa3aae29900c.jpg    1.0     2\n",
              "446  220302163654_7912adc5d67ca8497685c3a6565d82ca.jpg    1.0     2\n",
              "469  220303101936_18cc0bc06c179a107c8715675b4a052d.jpg    1.0     2\n",
              "520  220307023446_a0f647ffee15d1cbeb68642cddc2963a.jpg    1.0     2"
            ],
            "text/html": [
              "\n",
              "  <div id=\"df-35efafc6-844f-4550-9c5f-87ddbc51d303\">\n",
              "    <div class=\"colab-df-container\">\n",
              "      <div>\n",
              "<style scoped>\n",
              "    .dataframe tbody tr th:only-of-type {\n",
              "        vertical-align: middle;\n",
              "    }\n",
              "\n",
              "    .dataframe tbody tr th {\n",
              "        vertical-align: top;\n",
              "    }\n",
              "\n",
              "    .dataframe thead th {\n",
              "        text-align: right;\n",
              "    }\n",
              "</style>\n",
              "<table border=\"1\" class=\"dataframe\">\n",
              "  <thead>\n",
              "    <tr style=\"text-align: right;\">\n",
              "      <th></th>\n",
              "      <th>ID_img</th>\n",
              "      <th>class</th>\n",
              "      <th>pred</th>\n",
              "    </tr>\n",
              "  </thead>\n",
              "  <tbody>\n",
              "    <tr>\n",
              "      <th>375</th>\n",
              "      <td>220301124019_b6899a82ecd89292548cc11e712f255a.jpg</td>\n",
              "      <td>1.0</td>\n",
              "      <td>2</td>\n",
              "    </tr>\n",
              "    <tr>\n",
              "      <th>406</th>\n",
              "      <td>220302020709_ef606fc40122782c608aa4b0dd0cb95b.jpg</td>\n",
              "      <td>1.0</td>\n",
              "      <td>2</td>\n",
              "    </tr>\n",
              "    <tr>\n",
              "      <th>291</th>\n",
              "      <td>220301090918_7e51bc3af9c034f074df5f38261880cf.jpg</td>\n",
              "      <td>1.0</td>\n",
              "      <td>2</td>\n",
              "    </tr>\n",
              "    <tr>\n",
              "      <th>507</th>\n",
              "      <td>220307014836_5ee7bb8efe07ed736bf4941165faeb9e.jpg</td>\n",
              "      <td>1.0</td>\n",
              "      <td>2</td>\n",
              "    </tr>\n",
              "    <tr>\n",
              "      <th>516</th>\n",
              "      <td>220307022721_c67544b92d7d42e8b70b4bddf355416a.jpg</td>\n",
              "      <td>1.0</td>\n",
              "      <td>2</td>\n",
              "    </tr>\n",
              "    <tr>\n",
              "      <th>494</th>\n",
              "      <td>220306073024_e19fd6a2c1dab88da7923a0a3689d38d.jpg</td>\n",
              "      <td>1.0</td>\n",
              "      <td>2</td>\n",
              "    </tr>\n",
              "    <tr>\n",
              "      <th>390</th>\n",
              "      <td>220301124526_ba6ffcfd54b8a2e2d7120082abf89be8.jpg</td>\n",
              "      <td>1.0</td>\n",
              "      <td>2</td>\n",
              "    </tr>\n",
              "    <tr>\n",
              "      <th>471</th>\n",
              "      <td>220304031122_f4bc294df4f178c4e60b16b5f323c88c.jpg</td>\n",
              "      <td>1.0</td>\n",
              "      <td>2</td>\n",
              "    </tr>\n",
              "    <tr>\n",
              "      <th>477</th>\n",
              "      <td>220304063326_d00d7a35c1490bf3ce4daeb58f8eaf7e.jpg</td>\n",
              "      <td>1.0</td>\n",
              "      <td>2</td>\n",
              "    </tr>\n",
              "    <tr>\n",
              "      <th>296</th>\n",
              "      <td>220301092426_78c2ecbb30fa2feb93362ac7f748597a.jpg</td>\n",
              "      <td>1.0</td>\n",
              "      <td>0</td>\n",
              "    </tr>\n",
              "    <tr>\n",
              "      <th>461</th>\n",
              "      <td>220303045851_6b1d383dbc6e35c96040a67c241316b2.jpg</td>\n",
              "      <td>1.0</td>\n",
              "      <td>2</td>\n",
              "    </tr>\n",
              "    <tr>\n",
              "      <th>535</th>\n",
              "      <td>220307080853_db633c7e47674dd3b697915aaaca60b3.jpg</td>\n",
              "      <td>1.0</td>\n",
              "      <td>0</td>\n",
              "    </tr>\n",
              "    <tr>\n",
              "      <th>398</th>\n",
              "      <td>220301150606_a360a2f28eacd5648732c9a28c1e4c0a.jpg</td>\n",
              "      <td>1.0</td>\n",
              "      <td>2</td>\n",
              "    </tr>\n",
              "    <tr>\n",
              "      <th>462</th>\n",
              "      <td>220303054740_9daab175576b21466a151bc4b9a0536f.jpg</td>\n",
              "      <td>1.0</td>\n",
              "      <td>2</td>\n",
              "    </tr>\n",
              "    <tr>\n",
              "      <th>397</th>\n",
              "      <td>220301150603_c16cfd04d0e3eed75e084d3691baef6e.jpg</td>\n",
              "      <td>1.0</td>\n",
              "      <td>0</td>\n",
              "    </tr>\n",
              "    <tr>\n",
              "      <th>460</th>\n",
              "      <td>220303045713_76a3387f3f121d1162b97e1d187d6f07.jpg</td>\n",
              "      <td>1.0</td>\n",
              "      <td>2</td>\n",
              "    </tr>\n",
              "    <tr>\n",
              "      <th>499</th>\n",
              "      <td>220307004700_250ff3f9bf70f46bbb395353427a86e5.jpg</td>\n",
              "      <td>1.0</td>\n",
              "      <td>2</td>\n",
              "    </tr>\n",
              "    <tr>\n",
              "      <th>423</th>\n",
              "      <td>220302041201_c866eb80b38cc2655f441c9d600a027c.jpg</td>\n",
              "      <td>1.0</td>\n",
              "      <td>2</td>\n",
              "    </tr>\n",
              "    <tr>\n",
              "      <th>502</th>\n",
              "      <td>220307011013_2cf5d2c7334a82feac79dd3560fee8d5.jpg</td>\n",
              "      <td>1.0</td>\n",
              "      <td>2</td>\n",
              "    </tr>\n",
              "    <tr>\n",
              "      <th>511</th>\n",
              "      <td>220307020927_bf39231de1485ab90c2c9fcb4fb065ec.jpg</td>\n",
              "      <td>1.0</td>\n",
              "      <td>2</td>\n",
              "    </tr>\n",
              "    <tr>\n",
              "      <th>465</th>\n",
              "      <td>220303083251_9d40ea68b764c82e62fedf62d0a24884.jpg</td>\n",
              "      <td>1.0</td>\n",
              "      <td>0</td>\n",
              "    </tr>\n",
              "    <tr>\n",
              "      <th>315</th>\n",
              "      <td>220301102007_fc56cd0869becdcf30b816266398c32a.jpg</td>\n",
              "      <td>1.0</td>\n",
              "      <td>0</td>\n",
              "    </tr>\n",
              "    <tr>\n",
              "      <th>517</th>\n",
              "      <td>220307022803_0394e4e418a2d3ec1c09ff7f622cd227.jpg</td>\n",
              "      <td>1.0</td>\n",
              "      <td>2</td>\n",
              "    </tr>\n",
              "    <tr>\n",
              "      <th>404</th>\n",
              "      <td>220302013218_0dc7f7864ff931e2f0e2673f89cfb47c.jpg</td>\n",
              "      <td>1.0</td>\n",
              "      <td>2</td>\n",
              "    </tr>\n",
              "    <tr>\n",
              "      <th>400</th>\n",
              "      <td>220301163723_7926bd07890869b716537a3ee3952a4e.jpg</td>\n",
              "      <td>1.0</td>\n",
              "      <td>2</td>\n",
              "    </tr>\n",
              "    <tr>\n",
              "      <th>540</th>\n",
              "      <td>220307131945_1d2defc24fe3920808beaa3aae29900c.jpg</td>\n",
              "      <td>1.0</td>\n",
              "      <td>2</td>\n",
              "    </tr>\n",
              "    <tr>\n",
              "      <th>446</th>\n",
              "      <td>220302163654_7912adc5d67ca8497685c3a6565d82ca.jpg</td>\n",
              "      <td>1.0</td>\n",
              "      <td>2</td>\n",
              "    </tr>\n",
              "    <tr>\n",
              "      <th>469</th>\n",
              "      <td>220303101936_18cc0bc06c179a107c8715675b4a052d.jpg</td>\n",
              "      <td>1.0</td>\n",
              "      <td>2</td>\n",
              "    </tr>\n",
              "    <tr>\n",
              "      <th>520</th>\n",
              "      <td>220307023446_a0f647ffee15d1cbeb68642cddc2963a.jpg</td>\n",
              "      <td>1.0</td>\n",
              "      <td>2</td>\n",
              "    </tr>\n",
              "  </tbody>\n",
              "</table>\n",
              "</div>\n",
              "      <button class=\"colab-df-convert\" onclick=\"convertToInteractive('df-35efafc6-844f-4550-9c5f-87ddbc51d303')\"\n",
              "              title=\"Convert this dataframe to an interactive table.\"\n",
              "              style=\"display:none;\">\n",
              "        \n",
              "  <svg xmlns=\"http://www.w3.org/2000/svg\" height=\"24px\"viewBox=\"0 0 24 24\"\n",
              "       width=\"24px\">\n",
              "    <path d=\"M0 0h24v24H0V0z\" fill=\"none\"/>\n",
              "    <path d=\"M18.56 5.44l.94 2.06.94-2.06 2.06-.94-2.06-.94-.94-2.06-.94 2.06-2.06.94zm-11 1L8.5 8.5l.94-2.06 2.06-.94-2.06-.94L8.5 2.5l-.94 2.06-2.06.94zm10 10l.94 2.06.94-2.06 2.06-.94-2.06-.94-.94-2.06-.94 2.06-2.06.94z\"/><path d=\"M17.41 7.96l-1.37-1.37c-.4-.4-.92-.59-1.43-.59-.52 0-1.04.2-1.43.59L10.3 9.45l-7.72 7.72c-.78.78-.78 2.05 0 2.83L4 21.41c.39.39.9.59 1.41.59.51 0 1.02-.2 1.41-.59l7.78-7.78 2.81-2.81c.8-.78.8-2.07 0-2.86zM5.41 20L4 18.59l7.72-7.72 1.47 1.35L5.41 20z\"/>\n",
              "  </svg>\n",
              "      </button>\n",
              "      \n",
              "  <style>\n",
              "    .colab-df-container {\n",
              "      display:flex;\n",
              "      flex-wrap:wrap;\n",
              "      gap: 12px;\n",
              "    }\n",
              "\n",
              "    .colab-df-convert {\n",
              "      background-color: #E8F0FE;\n",
              "      border: none;\n",
              "      border-radius: 50%;\n",
              "      cursor: pointer;\n",
              "      display: none;\n",
              "      fill: #1967D2;\n",
              "      height: 32px;\n",
              "      padding: 0 0 0 0;\n",
              "      width: 32px;\n",
              "    }\n",
              "\n",
              "    .colab-df-convert:hover {\n",
              "      background-color: #E2EBFA;\n",
              "      box-shadow: 0px 1px 2px rgba(60, 64, 67, 0.3), 0px 1px 3px 1px rgba(60, 64, 67, 0.15);\n",
              "      fill: #174EA6;\n",
              "    }\n",
              "\n",
              "    [theme=dark] .colab-df-convert {\n",
              "      background-color: #3B4455;\n",
              "      fill: #D2E3FC;\n",
              "    }\n",
              "\n",
              "    [theme=dark] .colab-df-convert:hover {\n",
              "      background-color: #434B5C;\n",
              "      box-shadow: 0px 1px 3px 1px rgba(0, 0, 0, 0.15);\n",
              "      filter: drop-shadow(0px 1px 2px rgba(0, 0, 0, 0.3));\n",
              "      fill: #FFFFFF;\n",
              "    }\n",
              "  </style>\n",
              "\n",
              "      <script>\n",
              "        const buttonEl =\n",
              "          document.querySelector('#df-35efafc6-844f-4550-9c5f-87ddbc51d303 button.colab-df-convert');\n",
              "        buttonEl.style.display =\n",
              "          google.colab.kernel.accessAllowed ? 'block' : 'none';\n",
              "\n",
              "        async function convertToInteractive(key) {\n",
              "          const element = document.querySelector('#df-35efafc6-844f-4550-9c5f-87ddbc51d303');\n",
              "          const dataTable =\n",
              "            await google.colab.kernel.invokeFunction('convertToInteractive',\n",
              "                                                     [key], {});\n",
              "          if (!dataTable) return;\n",
              "\n",
              "          const docLinkHtml = 'Like what you see? Visit the ' +\n",
              "            '<a target=\"_blank\" href=https://colab.research.google.com/notebooks/data_table.ipynb>data table notebook</a>'\n",
              "            + ' to learn more about interactive tables.';\n",
              "          element.innerHTML = '';\n",
              "          dataTable['output_type'] = 'display_data';\n",
              "          await google.colab.output.renderOutput(dataTable, element);\n",
              "          const docLink = document.createElement('div');\n",
              "          docLink.innerHTML = docLinkHtml;\n",
              "          element.appendChild(docLink);\n",
              "        }\n",
              "      </script>\n",
              "    </div>\n",
              "  </div>\n",
              "  "
            ]
          },
          "metadata": {},
          "execution_count": 185
        }
      ]
    },
    {
      "cell_type": "markdown",
      "metadata": {
        "id": "3g-ybm_WP_Pn"
      },
      "source": [
        "## Модель 2"
      ]
    },
    {
      "cell_type": "code",
      "source": [
        "torch.cuda.empty_cache()"
      ],
      "metadata": {
        "id": "i9ZMMV-kaIxb"
      },
      "execution_count": null,
      "outputs": []
    },
    {
      "cell_type": "code",
      "execution_count": null,
      "metadata": {
        "id": "ASE7TWDlQENp"
      },
      "outputs": [],
      "source": [
        "# Подргружаем модель\n",
        "\n",
        "model2 = models.densenet121(pretrained=True)\n",
        "#model.fc = nn.Linear(2048, 3)\n",
        "n_inputs = model2.classifier.in_features\n",
        "model2.classifier = nn.Sequential(\n",
        "          nn.Linear(n_inputs, 256),\n",
        "          nn.ReLU(),\n",
        "          nn.Dropout(0.4),\n",
        "          nn.Linear(256, 3),                   \n",
        "          nn.LogSoftmax(dim=1))\n",
        "\n",
        "model2 = model2.cuda()\n",
        "criterion2 = torch.nn.NLLLoss() #CrossEntropyLoss()"
      ]
    },
    {
      "cell_type": "code",
      "execution_count": null,
      "metadata": {
        "id": "GP66jae0QK0k"
      },
      "outputs": [],
      "source": [
        "optimizer2 = torch.optim.Adam(model2.classifier.parameters(), lr=0.001)"
      ]
    },
    {
      "cell_type": "code",
      "source": [
        "train_loss_log, train_acc_log, val_loss_log, val_acc_log = train(model2, \n",
        "                                                                 criterion2, \n",
        "                                                                optimizer2, \n",
        "                                                                 train_aug_loader, \n",
        "                                                                 valid_loader, \n",
        "                                                                 30)"
      ],
      "metadata": {
        "colab": {
          "base_uri": "https://localhost:8080/"
        },
        "id": "A0L-R0ttA6TF",
        "outputId": "afc18b8d-59d2-42e5-ccb1-e8e719e24f6f"
      },
      "execution_count": null,
      "outputs": [
        {
          "output_type": "stream",
          "name": "stderr",
          "text": [
            "100%|██████████| 30/30 [08:50<00:00, 17.69s/it]"
          ]
        },
        {
          "output_type": "stream",
          "name": "stdout",
          "text": [
            "Train loss: 0.23529530102889443\n",
            "Val loss: 1.197750647009516\n",
            "Train acc: tensor(97.7178, device='cuda:0')\n",
            "Val acc: tensor(82.2086, device='cuda:0')\n"
          ]
        },
        {
          "output_type": "stream",
          "name": "stderr",
          "text": [
            "\n"
          ]
        }
      ]
    },
    {
      "cell_type": "code",
      "source": [
        ""
      ],
      "metadata": {
        "id": "uUARhBTxhCfk"
      },
      "execution_count": null,
      "outputs": []
    },
    {
      "cell_type": "markdown",
      "metadata": {
        "id": "HaNlDfajYoeO"
      },
      "source": [
        "## Посмотрим метрики нашей итоговой модели на валидации."
      ]
    },
    {
      "cell_type": "code",
      "execution_count": null,
      "metadata": {
        "colab": {
          "base_uri": "https://localhost:8080/"
        },
        "id": "9PZw7XACUngH",
        "outputId": "327b5c0b-b999-456c-fe8e-f226c6480b52"
      },
      "outputs": [
        {
          "output_type": "stream",
          "name": "stderr",
          "text": [
            "100%|██████████| 6/6 [00:02<00:00,  2.15it/s]\n"
          ]
        }
      ],
      "source": [
        "model2.eval()\n",
        "valid_predicts = []\n",
        "\n",
        "for imgs, _ in tqdm(valid_loader):\n",
        "    \n",
        "    imgs = imgs.cuda()\n",
        "    pred = model2(imgs)\n",
        "\n",
        "    pred_numpy = pred.cpu().detach().numpy()\n",
        "\n",
        "    for class_obj in pred_numpy:\n",
        "      index, max_value = max(enumerate(class_obj), key=lambda i_v: i_v[1])\n",
        "      valid_predicts.append(index)"
      ]
    },
    {
      "cell_type": "code",
      "execution_count": null,
      "metadata": {
        "id": "w6VefaPsbz7C"
      },
      "outputs": [],
      "source": [
        "valid_df[\"pred\"] = valid_predicts"
      ]
    },
    {
      "cell_type": "markdown",
      "metadata": {
        "id": "otsM09c7YzXD"
      },
      "source": [
        "# Посчитаем accuracy"
      ]
    },
    {
      "cell_type": "code",
      "execution_count": null,
      "metadata": {
        "colab": {
          "base_uri": "https://localhost:8080/"
        },
        "id": "I15aOFkrcGtn",
        "outputId": "f9ce00d8-9acb-4b3a-991a-1641d5a1108e"
      },
      "outputs": [
        {
          "output_type": "stream",
          "name": "stdout",
          "text": [
            "Validation accuracy = 0.0\n"
          ]
        }
      ],
      "source": [
        "val_accuracy = accuracy_score(valid_df['class'].values, valid_df['pred'].values)\n",
        "print(f\"Validation accuracy = {val_accuracy}\")"
      ]
    },
    {
      "cell_type": "code",
      "source": [
        "classes = [0,1,2]\n",
        "roc_auc_ovr = {}\n",
        "for i in range(len(classes)):\n",
        "    # Gets the class\n",
        "    c = classes[i]\n",
        "    \n",
        "    # Prepares an auxiliar dataframe to help with the plots\n",
        "    df_aux = valid_df.copy()\n",
        "    df_aux['class'] = [1 if y == c else 0 for y in valid_df['class']]\n",
        "    df_aux['prob'] = valid_df['pred']\n",
        "    df_aux = df_aux.reset_index(drop = True)\n",
        "    \n",
        "    # Calculates the ROC AUC OvR\n",
        "    roc_auc_ovr[c] = roc_auc_score(df_aux['class'], df_aux['prob'])"
      ],
      "metadata": {
        "id": "3kkHo8RiqCX0"
      },
      "execution_count": null,
      "outputs": []
    },
    {
      "cell_type": "code",
      "source": [
        "print(roc_auc_ovr)"
      ],
      "metadata": {
        "colab": {
          "base_uri": "https://localhost:8080/"
        },
        "id": "NLmVvpOBru7p",
        "outputId": "c285e8b4-926a-4535-cf4c-898ea9ddc25e"
      },
      "execution_count": null,
      "outputs": [
        {
          "output_type": "stream",
          "name": "stdout",
          "text": [
            "{0: 0.16040305010893247, 1: 0.3384090909090909, 2: 0.9191123188405796}\n"
          ]
        }
      ]
    },
    {
      "cell_type": "code",
      "source": [
        "torch.save(model2.state_dict(), \"densenet_model\")"
      ],
      "metadata": {
        "id": "UW8LCc4PbTEO"
      },
      "execution_count": null,
      "outputs": []
    },
    {
      "cell_type": "code",
      "source": [
        "valid_df.loc[(valid_df['class']!=valid_df['pred']) & (valid_df['class']==1)]"
      ],
      "metadata": {
        "colab": {
          "base_uri": "https://localhost:8080/",
          "height": 614
        },
        "id": "3Hu-ctF_Dz9o",
        "outputId": "f1a750fe-9e40-4a8d-f183-a56af8a4971b"
      },
      "execution_count": null,
      "outputs": [
        {
          "output_type": "execute_result",
          "data": {
            "text/plain": [
              "                                                ID_img  class  pred\n",
              "375  220301124019_b6899a82ecd89292548cc11e712f255a.jpg    1.0     0\n",
              "406  220302020709_ef606fc40122782c608aa4b0dd0cb95b.jpg    1.0     2\n",
              "291  220301090918_7e51bc3af9c034f074df5f38261880cf.jpg    1.0     0\n",
              "494  220306073024_e19fd6a2c1dab88da7923a0a3689d38d.jpg    1.0     0\n",
              "390  220301124526_ba6ffcfd54b8a2e2d7120082abf89be8.jpg    1.0     2\n",
              "471  220304031122_f4bc294df4f178c4e60b16b5f323c88c.jpg    1.0     2\n",
              "477  220304063326_d00d7a35c1490bf3ce4daeb58f8eaf7e.jpg    1.0     2\n",
              "535  220307080853_db633c7e47674dd3b697915aaaca60b3.jpg    1.0     0\n",
              "398  220301150606_a360a2f28eacd5648732c9a28c1e4c0a.jpg    1.0     2\n",
              "462  220303054740_9daab175576b21466a151bc4b9a0536f.jpg    1.0     2\n",
              "502  220307011013_2cf5d2c7334a82feac79dd3560fee8d5.jpg    1.0     0\n",
              "465  220303083251_9d40ea68b764c82e62fedf62d0a24884.jpg    1.0     0\n",
              "315  220301102007_fc56cd0869becdcf30b816266398c32a.jpg    1.0     0\n",
              "394  220301143325_f032041d5efbe5e23f4214abb9772bcb.jpg    1.0     0\n",
              "404  220302013218_0dc7f7864ff931e2f0e2673f89cfb47c.jpg    1.0     2\n",
              "540  220307131945_1d2defc24fe3920808beaa3aae29900c.jpg    1.0     2\n",
              "446  220302163654_7912adc5d67ca8497685c3a6565d82ca.jpg    1.0     2\n",
              "520  220307023446_a0f647ffee15d1cbeb68642cddc2963a.jpg    1.0     0"
            ],
            "text/html": [
              "\n",
              "  <div id=\"df-61a75db6-c136-40e1-9ee8-50f7cb3dc22c\">\n",
              "    <div class=\"colab-df-container\">\n",
              "      <div>\n",
              "<style scoped>\n",
              "    .dataframe tbody tr th:only-of-type {\n",
              "        vertical-align: middle;\n",
              "    }\n",
              "\n",
              "    .dataframe tbody tr th {\n",
              "        vertical-align: top;\n",
              "    }\n",
              "\n",
              "    .dataframe thead th {\n",
              "        text-align: right;\n",
              "    }\n",
              "</style>\n",
              "<table border=\"1\" class=\"dataframe\">\n",
              "  <thead>\n",
              "    <tr style=\"text-align: right;\">\n",
              "      <th></th>\n",
              "      <th>ID_img</th>\n",
              "      <th>class</th>\n",
              "      <th>pred</th>\n",
              "    </tr>\n",
              "  </thead>\n",
              "  <tbody>\n",
              "    <tr>\n",
              "      <th>375</th>\n",
              "      <td>220301124019_b6899a82ecd89292548cc11e712f255a.jpg</td>\n",
              "      <td>1.0</td>\n",
              "      <td>0</td>\n",
              "    </tr>\n",
              "    <tr>\n",
              "      <th>406</th>\n",
              "      <td>220302020709_ef606fc40122782c608aa4b0dd0cb95b.jpg</td>\n",
              "      <td>1.0</td>\n",
              "      <td>2</td>\n",
              "    </tr>\n",
              "    <tr>\n",
              "      <th>291</th>\n",
              "      <td>220301090918_7e51bc3af9c034f074df5f38261880cf.jpg</td>\n",
              "      <td>1.0</td>\n",
              "      <td>0</td>\n",
              "    </tr>\n",
              "    <tr>\n",
              "      <th>494</th>\n",
              "      <td>220306073024_e19fd6a2c1dab88da7923a0a3689d38d.jpg</td>\n",
              "      <td>1.0</td>\n",
              "      <td>0</td>\n",
              "    </tr>\n",
              "    <tr>\n",
              "      <th>390</th>\n",
              "      <td>220301124526_ba6ffcfd54b8a2e2d7120082abf89be8.jpg</td>\n",
              "      <td>1.0</td>\n",
              "      <td>2</td>\n",
              "    </tr>\n",
              "    <tr>\n",
              "      <th>471</th>\n",
              "      <td>220304031122_f4bc294df4f178c4e60b16b5f323c88c.jpg</td>\n",
              "      <td>1.0</td>\n",
              "      <td>2</td>\n",
              "    </tr>\n",
              "    <tr>\n",
              "      <th>477</th>\n",
              "      <td>220304063326_d00d7a35c1490bf3ce4daeb58f8eaf7e.jpg</td>\n",
              "      <td>1.0</td>\n",
              "      <td>2</td>\n",
              "    </tr>\n",
              "    <tr>\n",
              "      <th>535</th>\n",
              "      <td>220307080853_db633c7e47674dd3b697915aaaca60b3.jpg</td>\n",
              "      <td>1.0</td>\n",
              "      <td>0</td>\n",
              "    </tr>\n",
              "    <tr>\n",
              "      <th>398</th>\n",
              "      <td>220301150606_a360a2f28eacd5648732c9a28c1e4c0a.jpg</td>\n",
              "      <td>1.0</td>\n",
              "      <td>2</td>\n",
              "    </tr>\n",
              "    <tr>\n",
              "      <th>462</th>\n",
              "      <td>220303054740_9daab175576b21466a151bc4b9a0536f.jpg</td>\n",
              "      <td>1.0</td>\n",
              "      <td>2</td>\n",
              "    </tr>\n",
              "    <tr>\n",
              "      <th>502</th>\n",
              "      <td>220307011013_2cf5d2c7334a82feac79dd3560fee8d5.jpg</td>\n",
              "      <td>1.0</td>\n",
              "      <td>0</td>\n",
              "    </tr>\n",
              "    <tr>\n",
              "      <th>465</th>\n",
              "      <td>220303083251_9d40ea68b764c82e62fedf62d0a24884.jpg</td>\n",
              "      <td>1.0</td>\n",
              "      <td>0</td>\n",
              "    </tr>\n",
              "    <tr>\n",
              "      <th>315</th>\n",
              "      <td>220301102007_fc56cd0869becdcf30b816266398c32a.jpg</td>\n",
              "      <td>1.0</td>\n",
              "      <td>0</td>\n",
              "    </tr>\n",
              "    <tr>\n",
              "      <th>394</th>\n",
              "      <td>220301143325_f032041d5efbe5e23f4214abb9772bcb.jpg</td>\n",
              "      <td>1.0</td>\n",
              "      <td>0</td>\n",
              "    </tr>\n",
              "    <tr>\n",
              "      <th>404</th>\n",
              "      <td>220302013218_0dc7f7864ff931e2f0e2673f89cfb47c.jpg</td>\n",
              "      <td>1.0</td>\n",
              "      <td>2</td>\n",
              "    </tr>\n",
              "    <tr>\n",
              "      <th>540</th>\n",
              "      <td>220307131945_1d2defc24fe3920808beaa3aae29900c.jpg</td>\n",
              "      <td>1.0</td>\n",
              "      <td>2</td>\n",
              "    </tr>\n",
              "    <tr>\n",
              "      <th>446</th>\n",
              "      <td>220302163654_7912adc5d67ca8497685c3a6565d82ca.jpg</td>\n",
              "      <td>1.0</td>\n",
              "      <td>2</td>\n",
              "    </tr>\n",
              "    <tr>\n",
              "      <th>520</th>\n",
              "      <td>220307023446_a0f647ffee15d1cbeb68642cddc2963a.jpg</td>\n",
              "      <td>1.0</td>\n",
              "      <td>0</td>\n",
              "    </tr>\n",
              "  </tbody>\n",
              "</table>\n",
              "</div>\n",
              "      <button class=\"colab-df-convert\" onclick=\"convertToInteractive('df-61a75db6-c136-40e1-9ee8-50f7cb3dc22c')\"\n",
              "              title=\"Convert this dataframe to an interactive table.\"\n",
              "              style=\"display:none;\">\n",
              "        \n",
              "  <svg xmlns=\"http://www.w3.org/2000/svg\" height=\"24px\"viewBox=\"0 0 24 24\"\n",
              "       width=\"24px\">\n",
              "    <path d=\"M0 0h24v24H0V0z\" fill=\"none\"/>\n",
              "    <path d=\"M18.56 5.44l.94 2.06.94-2.06 2.06-.94-2.06-.94-.94-2.06-.94 2.06-2.06.94zm-11 1L8.5 8.5l.94-2.06 2.06-.94-2.06-.94L8.5 2.5l-.94 2.06-2.06.94zm10 10l.94 2.06.94-2.06 2.06-.94-2.06-.94-.94-2.06-.94 2.06-2.06.94z\"/><path d=\"M17.41 7.96l-1.37-1.37c-.4-.4-.92-.59-1.43-.59-.52 0-1.04.2-1.43.59L10.3 9.45l-7.72 7.72c-.78.78-.78 2.05 0 2.83L4 21.41c.39.39.9.59 1.41.59.51 0 1.02-.2 1.41-.59l7.78-7.78 2.81-2.81c.8-.78.8-2.07 0-2.86zM5.41 20L4 18.59l7.72-7.72 1.47 1.35L5.41 20z\"/>\n",
              "  </svg>\n",
              "      </button>\n",
              "      \n",
              "  <style>\n",
              "    .colab-df-container {\n",
              "      display:flex;\n",
              "      flex-wrap:wrap;\n",
              "      gap: 12px;\n",
              "    }\n",
              "\n",
              "    .colab-df-convert {\n",
              "      background-color: #E8F0FE;\n",
              "      border: none;\n",
              "      border-radius: 50%;\n",
              "      cursor: pointer;\n",
              "      display: none;\n",
              "      fill: #1967D2;\n",
              "      height: 32px;\n",
              "      padding: 0 0 0 0;\n",
              "      width: 32px;\n",
              "    }\n",
              "\n",
              "    .colab-df-convert:hover {\n",
              "      background-color: #E2EBFA;\n",
              "      box-shadow: 0px 1px 2px rgba(60, 64, 67, 0.3), 0px 1px 3px 1px rgba(60, 64, 67, 0.15);\n",
              "      fill: #174EA6;\n",
              "    }\n",
              "\n",
              "    [theme=dark] .colab-df-convert {\n",
              "      background-color: #3B4455;\n",
              "      fill: #D2E3FC;\n",
              "    }\n",
              "\n",
              "    [theme=dark] .colab-df-convert:hover {\n",
              "      background-color: #434B5C;\n",
              "      box-shadow: 0px 1px 3px 1px rgba(0, 0, 0, 0.15);\n",
              "      filter: drop-shadow(0px 1px 2px rgba(0, 0, 0, 0.3));\n",
              "      fill: #FFFFFF;\n",
              "    }\n",
              "  </style>\n",
              "\n",
              "      <script>\n",
              "        const buttonEl =\n",
              "          document.querySelector('#df-61a75db6-c136-40e1-9ee8-50f7cb3dc22c button.colab-df-convert');\n",
              "        buttonEl.style.display =\n",
              "          google.colab.kernel.accessAllowed ? 'block' : 'none';\n",
              "\n",
              "        async function convertToInteractive(key) {\n",
              "          const element = document.querySelector('#df-61a75db6-c136-40e1-9ee8-50f7cb3dc22c');\n",
              "          const dataTable =\n",
              "            await google.colab.kernel.invokeFunction('convertToInteractive',\n",
              "                                                     [key], {});\n",
              "          if (!dataTable) return;\n",
              "\n",
              "          const docLinkHtml = 'Like what you see? Visit the ' +\n",
              "            '<a target=\"_blank\" href=https://colab.research.google.com/notebooks/data_table.ipynb>data table notebook</a>'\n",
              "            + ' to learn more about interactive tables.';\n",
              "          element.innerHTML = '';\n",
              "          dataTable['output_type'] = 'display_data';\n",
              "          await google.colab.output.renderOutput(dataTable, element);\n",
              "          const docLink = document.createElement('div');\n",
              "          docLink.innerHTML = docLinkHtml;\n",
              "          element.appendChild(docLink);\n",
              "        }\n",
              "      </script>\n",
              "    </div>\n",
              "  </div>\n",
              "  "
            ]
          },
          "metadata": {},
          "execution_count": 29
        }
      ]
    },
    {
      "cell_type": "markdown",
      "metadata": {
        "id": "ccxon5URsUbn"
      },
      "source": [
        "## Модель 3"
      ]
    },
    {
      "cell_type": "code",
      "source": [
        "torch.cuda.empty_cache()"
      ],
      "metadata": {
        "id": "u0SlN2mnaK2Y"
      },
      "execution_count": null,
      "outputs": []
    },
    {
      "cell_type": "code",
      "execution_count": null,
      "metadata": {
        "id": "MotKXNe-sUbq"
      },
      "outputs": [],
      "source": [
        "# Подргружаем модель\n",
        "\n",
        "model3 = models.vgg16_bn(pretrained=True)\n",
        "#model.fc = nn.Linear(2048, 3)\n",
        "n_inputs = model3.classifier[6].in_features\n",
        "model3.classifier[6] = nn.Sequential(\n",
        "          nn.Linear(n_inputs, 256),\n",
        "          nn.ReLU(),\n",
        "          nn.Dropout(0.4),\n",
        "          nn.Linear(256, 3),                   \n",
        "          nn.LogSoftmax(dim=1))\n",
        "\n",
        "model3 = model3.cuda()\n",
        "criterion3 = torch.nn.NLLLoss() #CrossEntropyLoss()"
      ]
    },
    {
      "cell_type": "code",
      "execution_count": null,
      "metadata": {
        "id": "VAonooMisUbs"
      },
      "outputs": [],
      "source": [
        "optimizer3 = torch.optim.Adam(model3.classifier[6].parameters(), lr=0.001)"
      ]
    },
    {
      "cell_type": "code",
      "source": [
        "train_loss_log, train_acc_log, val_loss_log, val_acc_log = train(model3, \n",
        "                                                                 criterion3, \n",
        "                                                                optimizer3, \n",
        "                                                                 train_aug_loader, \n",
        "                                                                 valid_loader, \n",
        "                                                                 30)"
      ],
      "metadata": {
        "colab": {
          "base_uri": "https://localhost:8080/"
        },
        "outputId": "52f2c37c-2379-4f69-c322-eaf5cac5de0a",
        "id": "0v3AQUYhsUbt"
      },
      "execution_count": null,
      "outputs": [
        {
          "output_type": "stream",
          "name": "stderr",
          "text": [
            "100%|██████████| 30/30 [10:05<00:00, 20.18s/it]"
          ]
        },
        {
          "output_type": "stream",
          "name": "stdout",
          "text": [
            "Train loss: 0.3361358173979887\n",
            "Val loss: 1.2893857674364664\n",
            "Train acc: tensor(96.3693, device='cuda:0')\n",
            "Val acc: tensor(84.0491, device='cuda:0')\n"
          ]
        },
        {
          "output_type": "stream",
          "name": "stderr",
          "text": [
            "\n"
          ]
        }
      ]
    },
    {
      "cell_type": "markdown",
      "metadata": {
        "id": "MZvyLCmYsUbu"
      },
      "source": [
        "## Посмотрим метрики нашей итоговой модели на валидации."
      ]
    },
    {
      "cell_type": "code",
      "execution_count": null,
      "metadata": {
        "colab": {
          "base_uri": "https://localhost:8080/"
        },
        "outputId": "0080357d-d7c3-41a3-c03c-e09ed57480d6",
        "id": "LT9sGg_GsUbu"
      },
      "outputs": [
        {
          "output_type": "stream",
          "name": "stderr",
          "text": [
            "100%|██████████| 6/6 [00:03<00:00,  1.99it/s]\n"
          ]
        }
      ],
      "source": [
        "model3.eval()\n",
        "valid_predicts = []\n",
        "\n",
        "for imgs, _ in tqdm(valid_loader):\n",
        "    \n",
        "    imgs = imgs.cuda()\n",
        "    pred = model3(imgs)\n",
        "\n",
        "    pred_numpy = pred.cpu().detach().numpy()\n",
        "\n",
        "    for class_obj in pred_numpy:\n",
        "      index, max_value = max(enumerate(class_obj), key=lambda i_v: i_v[1])\n",
        "      valid_predicts.append(index)"
      ]
    },
    {
      "cell_type": "code",
      "execution_count": null,
      "metadata": {
        "id": "LDz8mZhesUbw"
      },
      "outputs": [],
      "source": [
        "valid_df[\"pred\"] = valid_predicts"
      ]
    },
    {
      "cell_type": "markdown",
      "metadata": {
        "id": "JQA3jhYisUbw"
      },
      "source": [
        "# Посчитаем accuracy"
      ]
    },
    {
      "cell_type": "code",
      "execution_count": null,
      "metadata": {
        "id": "hPcG8jaGYvSL"
      },
      "outputs": [],
      "source": [
        "from sklearn.metrics import roc_auc_score, roc_curve, auc , accuracy_score"
      ]
    },
    {
      "cell_type": "code",
      "execution_count": null,
      "metadata": {
        "colab": {
          "base_uri": "https://localhost:8080/"
        },
        "id": "CREur-DyYvU3",
        "outputId": "c085424d-60e4-41b2-a80e-ab789d904bab"
      },
      "outputs": [
        {
          "output_type": "execute_result",
          "data": {
            "text/plain": [
              "array([1, 1, 0, 1, 1, 0, 1, 0, 1, 1, 2, 2, 1, 1, 0, 1, 0, 2, 2, 2, 1, 1,\n",
              "       1, 1, 2, 1, 0, 1, 2, 2, 0, 1, 2, 1, 1, 2, 1, 1, 2, 2, 1, 2, 1, 1,\n",
              "       1, 0, 1, 1, 2, 1, 1, 0, 2, 2, 0, 1, 2, 2, 1, 2, 1, 1, 1, 1, 2, 2,\n",
              "       1, 2, 1, 0, 0, 1, 2, 0, 0, 0, 1, 1, 2, 1, 2, 0, 1, 1, 2, 2, 2, 2,\n",
              "       2, 1, 0, 0, 2, 2, 2, 0, 1, 1, 1, 1, 0, 0, 0, 1, 2, 2, 2, 0, 0, 1,\n",
              "       2, 1, 0, 1, 2, 1, 0, 1, 1, 2, 0, 2, 1, 0, 1, 2, 2, 2, 2, 2, 1, 2,\n",
              "       1, 2, 1, 2, 1, 1, 2, 1, 2, 0, 2, 2, 1, 1, 1, 1, 2, 0, 0, 1, 0, 2,\n",
              "       2, 1, 2, 0, 1, 1, 1, 1, 1])"
            ]
          },
          "metadata": {},
          "execution_count": 195
        }
      ],
      "source": [
        "valid_df['pred'].values"
      ]
    },
    {
      "cell_type": "code",
      "execution_count": null,
      "metadata": {
        "colab": {
          "base_uri": "https://localhost:8080/"
        },
        "outputId": "1c4b418f-13e6-4c94-828b-6cca3b82c29e",
        "id": "G6Jp1HMIsUbz"
      },
      "outputs": [
        {
          "output_type": "stream",
          "name": "stdout",
          "text": [
            "Validation accuracy = 0.8404907975460123\n"
          ]
        }
      ],
      "source": [
        "val_accuracy = accuracy_score(valid_df['class'].values, valid_df['pred'].values)\n",
        "print(f\"Validation accuracy = {val_accuracy}\")"
      ]
    },
    {
      "cell_type": "code",
      "source": [
        "classes = [0,1,2]\n",
        "roc_auc_ovr = {}\n",
        "for i in range(len(classes)):\n",
        "    # Gets the class\n",
        "    c = classes[i]\n",
        "    \n",
        "    # Prepares an auxiliar dataframe to help with the plots\n",
        "    df_aux = valid_df.copy()\n",
        "    df_aux['class'] = [1 if y == c else 0 for y in valid_df['class']]\n",
        "    df_aux['prob'] = valid_df['pred']\n",
        "    df_aux = df_aux.reset_index(drop = True)\n",
        "    \n",
        "    # Calculates the ROC AUC OvR\n",
        "    roc_auc_ovr[c] = roc_auc_score(df_aux['class'], df_aux['prob'])"
      ],
      "metadata": {
        "id": "jqf0gVRvsUb0"
      },
      "execution_count": null,
      "outputs": []
    },
    {
      "cell_type": "code",
      "source": [
        "print(roc_auc_ovr)"
      ],
      "metadata": {
        "colab": {
          "base_uri": "https://localhost:8080/"
        },
        "outputId": "4dcac757-8892-42e3-a19a-b30d4e2214e6",
        "id": "jMIEaeWysUb0"
      },
      "execution_count": null,
      "outputs": [
        {
          "output_type": "stream",
          "name": "stdout",
          "text": [
            "{0: 0.0980392156862745, 1: 0.3721969696969697, 2: 0.9201992753623187}\n"
          ]
        }
      ]
    },
    {
      "cell_type": "code",
      "source": [
        "torch.save(model3.state_dict(), \"vgg_model\")"
      ],
      "metadata": {
        "id": "cIRkOSahfvNQ"
      },
      "execution_count": null,
      "outputs": []
    },
    {
      "cell_type": "code",
      "source": [
        "valid_df.loc[(valid_df['class']!=valid_df['pred']) & (valid_df['class']==1)]"
      ],
      "metadata": {
        "colab": {
          "base_uri": "https://localhost:8080/",
          "height": 488
        },
        "outputId": "0fdade7a-d9ae-4638-8aa0-0eafa18d3766",
        "id": "rbdxZugysUb1"
      },
      "execution_count": null,
      "outputs": [
        {
          "output_type": "execute_result",
          "data": {
            "text/plain": [
              "                                                ID_img  class  pred\n",
              "375  220301124019_b6899a82ecd89292548cc11e712f255a.jpg    1.0     0\n",
              "406  220302020709_ef606fc40122782c608aa4b0dd0cb95b.jpg    1.0     2\n",
              "390  220301124526_ba6ffcfd54b8a2e2d7120082abf89be8.jpg    1.0     2\n",
              "471  220304031122_f4bc294df4f178c4e60b16b5f323c88c.jpg    1.0     2\n",
              "477  220304063326_d00d7a35c1490bf3ce4daeb58f8eaf7e.jpg    1.0     2\n",
              "535  220307080853_db633c7e47674dd3b697915aaaca60b3.jpg    1.0     0\n",
              "462  220303054740_9daab175576b21466a151bc4b9a0536f.jpg    1.0     2\n",
              "397  220301150603_c16cfd04d0e3eed75e084d3691baef6e.jpg    1.0     0\n",
              "502  220307011013_2cf5d2c7334a82feac79dd3560fee8d5.jpg    1.0     2\n",
              "465  220303083251_9d40ea68b764c82e62fedf62d0a24884.jpg    1.0     0\n",
              "315  220301102007_fc56cd0869becdcf30b816266398c32a.jpg    1.0     0\n",
              "404  220302013218_0dc7f7864ff931e2f0e2673f89cfb47c.jpg    1.0     2\n",
              "540  220307131945_1d2defc24fe3920808beaa3aae29900c.jpg    1.0     2\n",
              "446  220302163654_7912adc5d67ca8497685c3a6565d82ca.jpg    1.0     0"
            ],
            "text/html": [
              "\n",
              "  <div id=\"df-2fef3fe0-4bd5-4a6a-b6cf-793a5620496f\">\n",
              "    <div class=\"colab-df-container\">\n",
              "      <div>\n",
              "<style scoped>\n",
              "    .dataframe tbody tr th:only-of-type {\n",
              "        vertical-align: middle;\n",
              "    }\n",
              "\n",
              "    .dataframe tbody tr th {\n",
              "        vertical-align: top;\n",
              "    }\n",
              "\n",
              "    .dataframe thead th {\n",
              "        text-align: right;\n",
              "    }\n",
              "</style>\n",
              "<table border=\"1\" class=\"dataframe\">\n",
              "  <thead>\n",
              "    <tr style=\"text-align: right;\">\n",
              "      <th></th>\n",
              "      <th>ID_img</th>\n",
              "      <th>class</th>\n",
              "      <th>pred</th>\n",
              "    </tr>\n",
              "  </thead>\n",
              "  <tbody>\n",
              "    <tr>\n",
              "      <th>375</th>\n",
              "      <td>220301124019_b6899a82ecd89292548cc11e712f255a.jpg</td>\n",
              "      <td>1.0</td>\n",
              "      <td>0</td>\n",
              "    </tr>\n",
              "    <tr>\n",
              "      <th>406</th>\n",
              "      <td>220302020709_ef606fc40122782c608aa4b0dd0cb95b.jpg</td>\n",
              "      <td>1.0</td>\n",
              "      <td>2</td>\n",
              "    </tr>\n",
              "    <tr>\n",
              "      <th>390</th>\n",
              "      <td>220301124526_ba6ffcfd54b8a2e2d7120082abf89be8.jpg</td>\n",
              "      <td>1.0</td>\n",
              "      <td>2</td>\n",
              "    </tr>\n",
              "    <tr>\n",
              "      <th>471</th>\n",
              "      <td>220304031122_f4bc294df4f178c4e60b16b5f323c88c.jpg</td>\n",
              "      <td>1.0</td>\n",
              "      <td>2</td>\n",
              "    </tr>\n",
              "    <tr>\n",
              "      <th>477</th>\n",
              "      <td>220304063326_d00d7a35c1490bf3ce4daeb58f8eaf7e.jpg</td>\n",
              "      <td>1.0</td>\n",
              "      <td>2</td>\n",
              "    </tr>\n",
              "    <tr>\n",
              "      <th>535</th>\n",
              "      <td>220307080853_db633c7e47674dd3b697915aaaca60b3.jpg</td>\n",
              "      <td>1.0</td>\n",
              "      <td>0</td>\n",
              "    </tr>\n",
              "    <tr>\n",
              "      <th>462</th>\n",
              "      <td>220303054740_9daab175576b21466a151bc4b9a0536f.jpg</td>\n",
              "      <td>1.0</td>\n",
              "      <td>2</td>\n",
              "    </tr>\n",
              "    <tr>\n",
              "      <th>397</th>\n",
              "      <td>220301150603_c16cfd04d0e3eed75e084d3691baef6e.jpg</td>\n",
              "      <td>1.0</td>\n",
              "      <td>0</td>\n",
              "    </tr>\n",
              "    <tr>\n",
              "      <th>502</th>\n",
              "      <td>220307011013_2cf5d2c7334a82feac79dd3560fee8d5.jpg</td>\n",
              "      <td>1.0</td>\n",
              "      <td>2</td>\n",
              "    </tr>\n",
              "    <tr>\n",
              "      <th>465</th>\n",
              "      <td>220303083251_9d40ea68b764c82e62fedf62d0a24884.jpg</td>\n",
              "      <td>1.0</td>\n",
              "      <td>0</td>\n",
              "    </tr>\n",
              "    <tr>\n",
              "      <th>315</th>\n",
              "      <td>220301102007_fc56cd0869becdcf30b816266398c32a.jpg</td>\n",
              "      <td>1.0</td>\n",
              "      <td>0</td>\n",
              "    </tr>\n",
              "    <tr>\n",
              "      <th>404</th>\n",
              "      <td>220302013218_0dc7f7864ff931e2f0e2673f89cfb47c.jpg</td>\n",
              "      <td>1.0</td>\n",
              "      <td>2</td>\n",
              "    </tr>\n",
              "    <tr>\n",
              "      <th>540</th>\n",
              "      <td>220307131945_1d2defc24fe3920808beaa3aae29900c.jpg</td>\n",
              "      <td>1.0</td>\n",
              "      <td>2</td>\n",
              "    </tr>\n",
              "    <tr>\n",
              "      <th>446</th>\n",
              "      <td>220302163654_7912adc5d67ca8497685c3a6565d82ca.jpg</td>\n",
              "      <td>1.0</td>\n",
              "      <td>0</td>\n",
              "    </tr>\n",
              "  </tbody>\n",
              "</table>\n",
              "</div>\n",
              "      <button class=\"colab-df-convert\" onclick=\"convertToInteractive('df-2fef3fe0-4bd5-4a6a-b6cf-793a5620496f')\"\n",
              "              title=\"Convert this dataframe to an interactive table.\"\n",
              "              style=\"display:none;\">\n",
              "        \n",
              "  <svg xmlns=\"http://www.w3.org/2000/svg\" height=\"24px\"viewBox=\"0 0 24 24\"\n",
              "       width=\"24px\">\n",
              "    <path d=\"M0 0h24v24H0V0z\" fill=\"none\"/>\n",
              "    <path d=\"M18.56 5.44l.94 2.06.94-2.06 2.06-.94-2.06-.94-.94-2.06-.94 2.06-2.06.94zm-11 1L8.5 8.5l.94-2.06 2.06-.94-2.06-.94L8.5 2.5l-.94 2.06-2.06.94zm10 10l.94 2.06.94-2.06 2.06-.94-2.06-.94-.94-2.06-.94 2.06-2.06.94z\"/><path d=\"M17.41 7.96l-1.37-1.37c-.4-.4-.92-.59-1.43-.59-.52 0-1.04.2-1.43.59L10.3 9.45l-7.72 7.72c-.78.78-.78 2.05 0 2.83L4 21.41c.39.39.9.59 1.41.59.51 0 1.02-.2 1.41-.59l7.78-7.78 2.81-2.81c.8-.78.8-2.07 0-2.86zM5.41 20L4 18.59l7.72-7.72 1.47 1.35L5.41 20z\"/>\n",
              "  </svg>\n",
              "      </button>\n",
              "      \n",
              "  <style>\n",
              "    .colab-df-container {\n",
              "      display:flex;\n",
              "      flex-wrap:wrap;\n",
              "      gap: 12px;\n",
              "    }\n",
              "\n",
              "    .colab-df-convert {\n",
              "      background-color: #E8F0FE;\n",
              "      border: none;\n",
              "      border-radius: 50%;\n",
              "      cursor: pointer;\n",
              "      display: none;\n",
              "      fill: #1967D2;\n",
              "      height: 32px;\n",
              "      padding: 0 0 0 0;\n",
              "      width: 32px;\n",
              "    }\n",
              "\n",
              "    .colab-df-convert:hover {\n",
              "      background-color: #E2EBFA;\n",
              "      box-shadow: 0px 1px 2px rgba(60, 64, 67, 0.3), 0px 1px 3px 1px rgba(60, 64, 67, 0.15);\n",
              "      fill: #174EA6;\n",
              "    }\n",
              "\n",
              "    [theme=dark] .colab-df-convert {\n",
              "      background-color: #3B4455;\n",
              "      fill: #D2E3FC;\n",
              "    }\n",
              "\n",
              "    [theme=dark] .colab-df-convert:hover {\n",
              "      background-color: #434B5C;\n",
              "      box-shadow: 0px 1px 3px 1px rgba(0, 0, 0, 0.15);\n",
              "      filter: drop-shadow(0px 1px 2px rgba(0, 0, 0, 0.3));\n",
              "      fill: #FFFFFF;\n",
              "    }\n",
              "  </style>\n",
              "\n",
              "      <script>\n",
              "        const buttonEl =\n",
              "          document.querySelector('#df-2fef3fe0-4bd5-4a6a-b6cf-793a5620496f button.colab-df-convert');\n",
              "        buttonEl.style.display =\n",
              "          google.colab.kernel.accessAllowed ? 'block' : 'none';\n",
              "\n",
              "        async function convertToInteractive(key) {\n",
              "          const element = document.querySelector('#df-2fef3fe0-4bd5-4a6a-b6cf-793a5620496f');\n",
              "          const dataTable =\n",
              "            await google.colab.kernel.invokeFunction('convertToInteractive',\n",
              "                                                     [key], {});\n",
              "          if (!dataTable) return;\n",
              "\n",
              "          const docLinkHtml = 'Like what you see? Visit the ' +\n",
              "            '<a target=\"_blank\" href=https://colab.research.google.com/notebooks/data_table.ipynb>data table notebook</a>'\n",
              "            + ' to learn more about interactive tables.';\n",
              "          element.innerHTML = '';\n",
              "          dataTable['output_type'] = 'display_data';\n",
              "          await google.colab.output.renderOutput(dataTable, element);\n",
              "          const docLink = document.createElement('div');\n",
              "          docLink.innerHTML = docLinkHtml;\n",
              "          element.appendChild(docLink);\n",
              "        }\n",
              "      </script>\n",
              "    </div>\n",
              "  </div>\n",
              "  "
            ]
          },
          "metadata": {},
          "execution_count": 54
        }
      ]
    },
    {
      "cell_type": "markdown",
      "source": [
        "## Ансамбль моделей"
      ],
      "metadata": {
        "id": "Xc5XaQ3OvWnu"
      }
    },
    {
      "cell_type": "code",
      "source": [
        "import torch.nn.functional as F"
      ],
      "metadata": {
        "id": "LAXBGw788N7E"
      },
      "execution_count": null,
      "outputs": []
    },
    {
      "cell_type": "code",
      "source": [
        "class Ensemble1(nn.Module):\n",
        "  def __init__(self, model1, model2, model3, n_classes=3):\n",
        "    super(Ensemble1, self).__init__()\n",
        "    self.model1 = model1\n",
        "    self.model2 = model2\n",
        "    self.model3 = model3\n",
        "    self.model1.fc = nn.Identity()\n",
        "    self.model2.classifier = nn.Identity()\n",
        "    self.model3.classifier[6] = nn.Identity()\n",
        "#    self.classifier = nn.Sequential(\n",
        "#          nn.Linear(2048+1024+4096, 256),\n",
        "#          nn.ReLU(),\n",
        "#          nn.Dropout(0.4),\n",
        "#          nn.Linear(256, 3),                   \n",
        "#          nn.LogSoftmax(dim=1))\n",
        "    self.classifier = nn.Linear(2048+1024+4096, n_classes)\n",
        "\n",
        "  def forward(self, x):\n",
        "    x1 = self.model1(x.clone())\n",
        "    x1 = x1.view(x1.size(0), -1)\n",
        "    x2 = self.model2(x.clone())\n",
        "    x2 = x2.view(x2.size(0), -1)\n",
        "    x3 = self.model3(x.clone())\n",
        "    x3 = x3.view(x3.size(0), -1)\n",
        "\n",
        "    x = torch.cat((x1, x2, x3), dim=1)\n",
        "    x = self.classifier(F.relu(x))\n",
        "\n",
        "    return x"
      ],
      "metadata": {
        "id": "_Z3TJ253iMBZ"
      },
      "execution_count": null,
      "outputs": []
    },
    {
      "cell_type": "code",
      "source": [
        "class Ensemble3(nn.Module):\n",
        "  def __init__(self, model1, model2, model3, n_classes=3):\n",
        "    super(Ensemble3, self).__init__()\n",
        "    self.model1 = model1\n",
        "    self.model2 = model2\n",
        "    self.model3 = model3\n",
        "\n",
        "    #self.model1.classifier = nn.Identity()\n",
        "    #self.model2.classifier = nn.Identity()\n",
        "    #self.model3.classifier = nn.Identity()\n",
        "    self.classifier = nn.Linear(9, n_classes)\n",
        "\n",
        "  def forward(self, x):\n",
        "    x1 = self.model1(x.clone())\n",
        "    x1 = x1.view(x1.size(0), -1)\n",
        "\n",
        "    x2 = self.model2(x.clone())\n",
        "    x2 = x2.view(x2.size(0), -1)\n",
        "\n",
        "    x3 = self.model3(x.clone())\n",
        "    x3 = x3.view(x3.size(0), -1)\n",
        "\n",
        "    x = torch.cat((x1, x2, x3), dim=1)\n",
        "    x = self.classifier(F.relu(x))\n",
        "\n",
        "    return x"
      ],
      "metadata": {
        "id": "o2v-tKcHvb23"
      },
      "execution_count": null,
      "outputs": []
    },
    {
      "cell_type": "code",
      "source": [
        "for param in model.parameters():\n",
        "  param.requires_grad_(False)\n",
        "\n",
        "for param in model2.parameters():\n",
        "  param.requires_grad_(False)\n",
        "\n",
        "for param in model3.parameters():\n",
        "  param.requires_grad_(False)\n"
      ],
      "metadata": {
        "id": "zn64cVcuyPzh"
      },
      "execution_count": null,
      "outputs": []
    },
    {
      "cell_type": "code",
      "source": [
        "model_e1 = Ensemble1(model, model2, model3,3)\n",
        "model_e1 = model_e1.cuda()"
      ],
      "metadata": {
        "id": "88Gz2fRSidNd"
      },
      "execution_count": null,
      "outputs": []
    },
    {
      "cell_type": "code",
      "source": [
        "model"
      ],
      "metadata": {
        "id": "k5g5oYfZm9-A"
      },
      "execution_count": null,
      "outputs": []
    },
    {
      "cell_type": "code",
      "source": [
        "model_e = Ensemble3(model, model2, model3, 3)\n",
        "model_e = model_e.cuda()\n"
      ],
      "metadata": {
        "id": "e91l36gO0TCH"
      },
      "execution_count": null,
      "outputs": []
    },
    {
      "cell_type": "code",
      "source": [
        "optimizer_e = torch.optim.Adam(model_e1.parameters(), lr=0.001)"
      ],
      "metadata": {
        "id": "BM4P5bvM2sVC"
      },
      "execution_count": null,
      "outputs": []
    },
    {
      "cell_type": "code",
      "source": [
        "#criterion_e = torch.nn.NLLLoss() #torch.nn.CrossEntropyLoss()\n",
        "criterion_e = torch.nn.CrossEntropyLoss()"
      ],
      "metadata": {
        "id": "ZPaezfNS2yVX"
      },
      "execution_count": null,
      "outputs": []
    },
    {
      "cell_type": "code",
      "source": [
        "train_loss_log, train_acc_log, val_loss_log, val_acc_log = train(model_e1, \n",
        "                                                                 criterion_e, \n",
        "                                                                optimizer_e, \n",
        "                                                                 train_aug_loader, \n",
        "                                                                 valid_loader, \n",
        "                                                                 15)"
      ],
      "metadata": {
        "colab": {
          "base_uri": "https://localhost:8080/"
        },
        "id": "5CF68Kwo01Oj",
        "outputId": "fdcf4e9c-3d30-447e-e1f9-cabb5c16e5e9"
      },
      "execution_count": null,
      "outputs": [
        {
          "output_type": "stream",
          "name": "stderr",
          "text": [
            "100%|██████████| 15/15 [04:51<00:00, 19.41s/it]"
          ]
        },
        {
          "output_type": "stream",
          "name": "stdout",
          "text": [
            "Train loss: 0.26287007608346613\n",
            "Val loss: 1.3497237276080196\n",
            "Train acc: tensor(97.0954, device='cuda:0')\n",
            "Val acc: tensor(84.6626, device='cuda:0')\n"
          ]
        },
        {
          "output_type": "stream",
          "name": "stderr",
          "text": [
            "\n"
          ]
        }
      ]
    },
    {
      "cell_type": "code",
      "source": [
        ""
      ],
      "metadata": {
        "id": "OUISw86OMB2y"
      },
      "execution_count": null,
      "outputs": []
    },
    {
      "cell_type": "markdown",
      "metadata": {
        "id": "6vIK2kmZMCiE"
      },
      "source": [
        "## Посмотрим метрики нашей итоговой модели на валидации."
      ]
    },
    {
      "cell_type": "code",
      "execution_count": null,
      "metadata": {
        "colab": {
          "base_uri": "https://localhost:8080/"
        },
        "outputId": "e2507861-4228-42ee-aba6-3e6cf1fa475e",
        "id": "kiVJxIFeMCiF"
      },
      "outputs": [
        {
          "output_type": "stream",
          "name": "stderr",
          "text": [
            "100%|██████████| 6/6 [00:03<00:00,  1.75it/s]\n"
          ]
        }
      ],
      "source": [
        "model_e1.eval()\n",
        "valid_predicts = []\n",
        "\n",
        "for imgs, _ in tqdm(valid_loader):\n",
        "    \n",
        "    imgs = imgs.cuda()\n",
        "    pred = model_e1(imgs)\n",
        "\n",
        "    pred_numpy = pred.cpu().detach().numpy()\n",
        "\n",
        "    for class_obj in pred_numpy:\n",
        "      index, max_value = max(enumerate(class_obj), key=lambda i_v: i_v[1])\n",
        "      valid_predicts.append(index)"
      ]
    },
    {
      "cell_type": "code",
      "execution_count": null,
      "metadata": {
        "id": "e3jtsSY2MCiG"
      },
      "outputs": [],
      "source": [
        "valid_df[\"pred\"] = valid_predicts"
      ]
    },
    {
      "cell_type": "markdown",
      "metadata": {
        "id": "CBfRsdz-MCiG"
      },
      "source": [
        "# Посчитаем accuracy"
      ]
    },
    {
      "cell_type": "code",
      "execution_count": null,
      "metadata": {
        "id": "3Yxq-BJOMCiG"
      },
      "outputs": [],
      "source": [
        "from sklearn.metrics import roc_auc_score, roc_curve, auc , accuracy_score"
      ]
    },
    {
      "cell_type": "code",
      "execution_count": null,
      "metadata": {
        "colab": {
          "base_uri": "https://localhost:8080/"
        },
        "outputId": "b4a4ef7d-6389-4c73-92b9-c2210253624a",
        "id": "DxKfVgyPMCiH"
      },
      "outputs": [
        {
          "output_type": "execute_result",
          "data": {
            "text/plain": [
              "array([1, 1, 0, 1, 1, 0, 1, 0, 1, 1, 2, 2, 1, 1, 0, 1, 0, 2, 2, 1, 1, 1,\n",
              "       1, 1, 2, 1, 1, 1, 2, 2, 0, 2, 2, 1, 1, 2, 1, 1, 2, 2, 1, 2, 1, 1,\n",
              "       1, 0, 1, 1, 2, 1, 1, 0, 2, 2, 0, 1, 1, 2, 1, 2, 1, 1, 1, 1, 2, 2,\n",
              "       1, 2, 1, 1, 0, 1, 2, 1, 0, 0, 1, 1, 1, 1, 2, 0, 1, 1, 2, 2, 2, 2,\n",
              "       2, 1, 1, 1, 2, 2, 2, 0, 1, 1, 1, 1, 0, 0, 0, 1, 2, 2, 2, 0, 0, 1,\n",
              "       2, 1, 0, 1, 2, 1, 0, 1, 1, 2, 2, 2, 1, 0, 1, 2, 0, 2, 2, 2, 1, 2,\n",
              "       1, 2, 1, 2, 1, 1, 2, 2, 2, 2, 2, 2, 1, 1, 1, 1, 2, 0, 0, 1, 0, 2,\n",
              "       2, 1, 2, 0, 1, 1, 1, 1, 1])"
            ]
          },
          "metadata": {},
          "execution_count": 255
        }
      ],
      "source": [
        "valid_df['pred'].values"
      ]
    },
    {
      "cell_type": "code",
      "execution_count": null,
      "metadata": {
        "colab": {
          "base_uri": "https://localhost:8080/"
        },
        "outputId": "a3c3a63c-d83e-49f0-8c3b-b0f5c7e27ead",
        "id": "iNedsjpXMCiH"
      },
      "outputs": [
        {
          "output_type": "stream",
          "name": "stdout",
          "text": [
            "Validation accuracy = 0.8466257668711656\n"
          ]
        }
      ],
      "source": [
        "val_accuracy = accuracy_score(valid_df['class'].values, valid_df['pred'].values)\n",
        "print(f\"Validation accuracy = {val_accuracy}\")"
      ]
    },
    {
      "cell_type": "code",
      "source": [
        "classes = [0,1,2]\n",
        "roc_auc_ovr = {}\n",
        "for i in range(len(classes)):\n",
        "    # Gets the class\n",
        "    c = classes[i]\n",
        "    \n",
        "    # Prepares an auxiliar dataframe to help with the plots\n",
        "    df_aux = valid_df.copy()\n",
        "    df_aux['class'] = [1 if y == c else 0 for y in valid_df['class']]\n",
        "    df_aux['prob'] = valid_df['pred']\n",
        "    df_aux = df_aux.reset_index(drop = True)\n",
        "    \n",
        "    # Calculates the ROC AUC OvR\n",
        "    roc_auc_ovr[c] = roc_auc_score(df_aux['class'], df_aux['prob'])"
      ],
      "metadata": {
        "id": "uUVxK_oLMCiH"
      },
      "execution_count": null,
      "outputs": []
    },
    {
      "cell_type": "code",
      "source": [
        "print(roc_auc_ovr)"
      ],
      "metadata": {
        "colab": {
          "base_uri": "https://localhost:8080/"
        },
        "outputId": "a3b54b48-a450-4807-f5d5-255ab5cb057c",
        "id": "tySYH3ByMCiI"
      },
      "execution_count": null,
      "outputs": [
        {
          "output_type": "stream",
          "name": "stdout",
          "text": [
            "{0: 0.13902505446623098, 1: 0.3507575757575757, 2: 0.9185688405797101}\n"
          ]
        }
      ]
    },
    {
      "cell_type": "markdown",
      "metadata": {
        "id": "iEQJntPhcSKR"
      },
      "source": [
        "## Предскажем для теста"
      ]
    },
    {
      "cell_type": "code",
      "source": [
        "from tqdm import tqdm\n",
        "import os\n",
        "import pathlib"
      ],
      "metadata": {
        "id": "DLC9xxAkiNNy"
      },
      "execution_count": null,
      "outputs": []
    },
    {
      "cell_type": "code",
      "execution_count": null,
      "metadata": {
        "id": "tDT0F0ihekiN"
      },
      "outputs": [],
      "source": [
        "test_df = pd.read_csv(\"/content/ufa/sample_solution.csv\")\n",
        "test_df = test_df.drop([\"class\"], axis = 1)"
      ]
    },
    {
      "cell_type": "code",
      "execution_count": null,
      "metadata": {
        "id": "q8ob_tWRcnwN"
      },
      "outputs": [],
      "source": [
        "class TestImageDataset(Dataset):\n",
        "    def __init__(self, data_df, transform=None):\n",
        "        self.data_df = data_df\n",
        "        self.transform = transform\n",
        "\n",
        "    def __getitem__(self, idx):\n",
        "        image_name = self.data_df.iloc[idx]['ID_img']\n",
        "        \n",
        "        # определяем полное имя\n",
        "        fname = glob.glob(os.path.join('/content/ufa/test/', f\"{image_name}.*\"))[0]\n",
        "        # читаем картинку\n",
        "        # image = cv2.imread(f\"/content/ufa/test/{image_name}.jpg\")\n",
        "        image = cv2.imread(fname)\n",
        "        image = cv2.cvtColor(image, cv2.COLOR_BGR2RGB)\n",
        "        image = Image.fromarray(image)\n",
        "        \n",
        "        # преобразуем, если нужно\n",
        "        if self.transform:\n",
        "            image = self.transform(image)\n",
        "        \n",
        "        return image\n",
        "    \n",
        "    def __len__(self):\n",
        "        return len(self.data_df)"
      ]
    },
    {
      "cell_type": "code",
      "execution_count": null,
      "metadata": {
        "id": "OJY-tOQPcpAW"
      },
      "outputs": [],
      "source": [
        "test_dataset = TestImageDataset(test_df, valid_transform)"
      ]
    },
    {
      "cell_type": "code",
      "execution_count": null,
      "metadata": {
        "id": "qFN5gVoHc4vp"
      },
      "outputs": [],
      "source": [
        "test_loader = torch.utils.data.DataLoader(dataset=test_dataset,\n",
        "                                           batch_size=64,\n",
        "                                           # shuffle=True,\n",
        "                                           pin_memory=True,\n",
        "                                           num_workers=2)"
      ]
    },
    {
      "cell_type": "markdown",
      "metadata": {
        "id": "JbcRcJLsc_Y4"
      },
      "source": [
        "#Предсказываем нашей моделью результат"
      ]
    },
    {
      "cell_type": "code",
      "source": [
        "model2 = models.densenet121(pretrained=True)\n",
        "#model.fc = nn.Linear(2048, 3)\n",
        "n_inputs = model2.classifier.in_features\n",
        "model2.classifier = nn.Sequential(\n",
        "          nn.Linear(n_inputs, 256),\n",
        "          nn.ReLU(),\n",
        "          nn.Dropout(0.4),\n",
        "          nn.Linear(256, 3),                   \n",
        "          nn.LogSoftmax(dim=1))\n",
        "\n",
        "model2 = model2.cuda()\n",
        "criterion2 = torch.nn.NLLLoss() #CrossEntropyLoss()\n",
        "model2.load_state_dict(torch.load(\"densenet_model\"))\n",
        "model2.eval()"
      ],
      "metadata": {
        "id": "nxBJxoyIbxr3"
      },
      "execution_count": null,
      "outputs": []
    },
    {
      "cell_type": "code",
      "execution_count": null,
      "metadata": {
        "id": "F7oWLj6Kc8R4",
        "colab": {
          "base_uri": "https://localhost:8080/"
        },
        "outputId": "37e735fc-1568-4b35-c894-52ad7ceec543"
      },
      "outputs": [
        {
          "output_type": "stream",
          "name": "stderr",
          "text": [
            "100%|██████████| 4/4 [00:04<00:00,  1.14s/it]\n"
          ]
        }
      ],
      "source": [
        "model_e1.eval()\n",
        "predicts = []\n",
        "test_names = []\n",
        "\n",
        "for imgs in tqdm(test_loader):\n",
        "\n",
        "    \n",
        "    imgs = imgs.cuda()\n",
        "    pred = model_e1(imgs)\n",
        "\n",
        "    pred_numpy = pred.cpu().detach().numpy()\n",
        "\n",
        "    for class_obj in pred_numpy:\n",
        "      index, max_value = max(enumerate(class_obj), key=lambda i_v: i_v[1])\n",
        "      predicts.append(index)\n",
        "    \n",
        "    #predicts.append(pred.softmax(dim=1)[:, 1].cpu().detach().numpy()) # argmax(dim=1)"
      ]
    },
    {
      "cell_type": "code",
      "source": [
        "test_df"
      ],
      "metadata": {
        "colab": {
          "base_uri": "https://localhost:8080/",
          "height": 424
        },
        "id": "Zdli2PmSokpZ",
        "outputId": "6515efd9-934a-41bd-eecc-25bf40405e9c"
      },
      "execution_count": null,
      "outputs": [
        {
          "output_type": "execute_result",
          "data": {
            "text/plain": [
              "                                    ID_img\n",
              "0    34020749806_42065966214_42113475048_2\n",
              "1    80128313599_98196458454_79029076007_8\n",
              "2    17820331238_48919943775_53688855463_7\n",
              "3    70492442702_21083599816_22777758696_0\n",
              "4    94790217016_17108156014_60668676818_2\n",
              "..                                     ...\n",
              "220  60879177998_15763718934_82574532042_2\n",
              "221  11758169966_65799840524_72283028069_1\n",
              "222    9259096884_2251720133_44072689872_8\n",
              "223   37732252922_9265441355_19052721018_3\n",
              "224   26230096975_1198032682_52245678077_3\n",
              "\n",
              "[225 rows x 1 columns]"
            ],
            "text/html": [
              "\n",
              "  <div id=\"df-d0ff3b11-fa1e-44fb-ac5c-f2398346804d\">\n",
              "    <div class=\"colab-df-container\">\n",
              "      <div>\n",
              "<style scoped>\n",
              "    .dataframe tbody tr th:only-of-type {\n",
              "        vertical-align: middle;\n",
              "    }\n",
              "\n",
              "    .dataframe tbody tr th {\n",
              "        vertical-align: top;\n",
              "    }\n",
              "\n",
              "    .dataframe thead th {\n",
              "        text-align: right;\n",
              "    }\n",
              "</style>\n",
              "<table border=\"1\" class=\"dataframe\">\n",
              "  <thead>\n",
              "    <tr style=\"text-align: right;\">\n",
              "      <th></th>\n",
              "      <th>ID_img</th>\n",
              "    </tr>\n",
              "  </thead>\n",
              "  <tbody>\n",
              "    <tr>\n",
              "      <th>0</th>\n",
              "      <td>34020749806_42065966214_42113475048_2</td>\n",
              "    </tr>\n",
              "    <tr>\n",
              "      <th>1</th>\n",
              "      <td>80128313599_98196458454_79029076007_8</td>\n",
              "    </tr>\n",
              "    <tr>\n",
              "      <th>2</th>\n",
              "      <td>17820331238_48919943775_53688855463_7</td>\n",
              "    </tr>\n",
              "    <tr>\n",
              "      <th>3</th>\n",
              "      <td>70492442702_21083599816_22777758696_0</td>\n",
              "    </tr>\n",
              "    <tr>\n",
              "      <th>4</th>\n",
              "      <td>94790217016_17108156014_60668676818_2</td>\n",
              "    </tr>\n",
              "    <tr>\n",
              "      <th>...</th>\n",
              "      <td>...</td>\n",
              "    </tr>\n",
              "    <tr>\n",
              "      <th>220</th>\n",
              "      <td>60879177998_15763718934_82574532042_2</td>\n",
              "    </tr>\n",
              "    <tr>\n",
              "      <th>221</th>\n",
              "      <td>11758169966_65799840524_72283028069_1</td>\n",
              "    </tr>\n",
              "    <tr>\n",
              "      <th>222</th>\n",
              "      <td>9259096884_2251720133_44072689872_8</td>\n",
              "    </tr>\n",
              "    <tr>\n",
              "      <th>223</th>\n",
              "      <td>37732252922_9265441355_19052721018_3</td>\n",
              "    </tr>\n",
              "    <tr>\n",
              "      <th>224</th>\n",
              "      <td>26230096975_1198032682_52245678077_3</td>\n",
              "    </tr>\n",
              "  </tbody>\n",
              "</table>\n",
              "<p>225 rows × 1 columns</p>\n",
              "</div>\n",
              "      <button class=\"colab-df-convert\" onclick=\"convertToInteractive('df-d0ff3b11-fa1e-44fb-ac5c-f2398346804d')\"\n",
              "              title=\"Convert this dataframe to an interactive table.\"\n",
              "              style=\"display:none;\">\n",
              "        \n",
              "  <svg xmlns=\"http://www.w3.org/2000/svg\" height=\"24px\"viewBox=\"0 0 24 24\"\n",
              "       width=\"24px\">\n",
              "    <path d=\"M0 0h24v24H0V0z\" fill=\"none\"/>\n",
              "    <path d=\"M18.56 5.44l.94 2.06.94-2.06 2.06-.94-2.06-.94-.94-2.06-.94 2.06-2.06.94zm-11 1L8.5 8.5l.94-2.06 2.06-.94-2.06-.94L8.5 2.5l-.94 2.06-2.06.94zm10 10l.94 2.06.94-2.06 2.06-.94-2.06-.94-.94-2.06-.94 2.06-2.06.94z\"/><path d=\"M17.41 7.96l-1.37-1.37c-.4-.4-.92-.59-1.43-.59-.52 0-1.04.2-1.43.59L10.3 9.45l-7.72 7.72c-.78.78-.78 2.05 0 2.83L4 21.41c.39.39.9.59 1.41.59.51 0 1.02-.2 1.41-.59l7.78-7.78 2.81-2.81c.8-.78.8-2.07 0-2.86zM5.41 20L4 18.59l7.72-7.72 1.47 1.35L5.41 20z\"/>\n",
              "  </svg>\n",
              "      </button>\n",
              "      \n",
              "  <style>\n",
              "    .colab-df-container {\n",
              "      display:flex;\n",
              "      flex-wrap:wrap;\n",
              "      gap: 12px;\n",
              "    }\n",
              "\n",
              "    .colab-df-convert {\n",
              "      background-color: #E8F0FE;\n",
              "      border: none;\n",
              "      border-radius: 50%;\n",
              "      cursor: pointer;\n",
              "      display: none;\n",
              "      fill: #1967D2;\n",
              "      height: 32px;\n",
              "      padding: 0 0 0 0;\n",
              "      width: 32px;\n",
              "    }\n",
              "\n",
              "    .colab-df-convert:hover {\n",
              "      background-color: #E2EBFA;\n",
              "      box-shadow: 0px 1px 2px rgba(60, 64, 67, 0.3), 0px 1px 3px 1px rgba(60, 64, 67, 0.15);\n",
              "      fill: #174EA6;\n",
              "    }\n",
              "\n",
              "    [theme=dark] .colab-df-convert {\n",
              "      background-color: #3B4455;\n",
              "      fill: #D2E3FC;\n",
              "    }\n",
              "\n",
              "    [theme=dark] .colab-df-convert:hover {\n",
              "      background-color: #434B5C;\n",
              "      box-shadow: 0px 1px 3px 1px rgba(0, 0, 0, 0.15);\n",
              "      filter: drop-shadow(0px 1px 2px rgba(0, 0, 0, 0.3));\n",
              "      fill: #FFFFFF;\n",
              "    }\n",
              "  </style>\n",
              "\n",
              "      <script>\n",
              "        const buttonEl =\n",
              "          document.querySelector('#df-d0ff3b11-fa1e-44fb-ac5c-f2398346804d button.colab-df-convert');\n",
              "        buttonEl.style.display =\n",
              "          google.colab.kernel.accessAllowed ? 'block' : 'none';\n",
              "\n",
              "        async function convertToInteractive(key) {\n",
              "          const element = document.querySelector('#df-d0ff3b11-fa1e-44fb-ac5c-f2398346804d');\n",
              "          const dataTable =\n",
              "            await google.colab.kernel.invokeFunction('convertToInteractive',\n",
              "                                                     [key], {});\n",
              "          if (!dataTable) return;\n",
              "\n",
              "          const docLinkHtml = 'Like what you see? Visit the ' +\n",
              "            '<a target=\"_blank\" href=https://colab.research.google.com/notebooks/data_table.ipynb>data table notebook</a>'\n",
              "            + ' to learn more about interactive tables.';\n",
              "          element.innerHTML = '';\n",
              "          dataTable['output_type'] = 'display_data';\n",
              "          await google.colab.output.renderOutput(dataTable, element);\n",
              "          const docLink = document.createElement('div');\n",
              "          docLink.innerHTML = docLinkHtml;\n",
              "          element.appendChild(docLink);\n",
              "        }\n",
              "      </script>\n",
              "    </div>\n",
              "  </div>\n",
              "  "
            ]
          },
          "metadata": {},
          "execution_count": 218
        }
      ]
    },
    {
      "cell_type": "code",
      "source": [
        "test_names = test_df[\"ID_img\"]"
      ],
      "metadata": {
        "id": "Qxgp--cxHENQ"
      },
      "execution_count": null,
      "outputs": []
    },
    {
      "cell_type": "code",
      "execution_count": null,
      "metadata": {
        "id": "jyM1EPopdhW4"
      },
      "outputs": [],
      "source": [
        "submit_df = pd.DataFrame([[name, pred] for name, pred in zip(test_names, predicts)], columns=['ID_img', 'class'])"
      ]
    },
    {
      "cell_type": "code",
      "source": [
        "submit_df"
      ],
      "metadata": {
        "colab": {
          "base_uri": "https://localhost:8080/",
          "height": 424
        },
        "id": "hCsdqVgYH3VW",
        "outputId": "d33cd5a8-7be3-42ec-a4f3-36965a0c32de"
      },
      "execution_count": null,
      "outputs": [
        {
          "output_type": "execute_result",
          "data": {
            "text/plain": [
              "                                    ID_img  class\n",
              "0    34020749806_42065966214_42113475048_2      2\n",
              "1    80128313599_98196458454_79029076007_8      1\n",
              "2    17820331238_48919943775_53688855463_7      2\n",
              "3    70492442702_21083599816_22777758696_0      2\n",
              "4    94790217016_17108156014_60668676818_2      1\n",
              "..                                     ...    ...\n",
              "220  60879177998_15763718934_82574532042_2      2\n",
              "221  11758169966_65799840524_72283028069_1      1\n",
              "222    9259096884_2251720133_44072689872_8      0\n",
              "223   37732252922_9265441355_19052721018_3      1\n",
              "224   26230096975_1198032682_52245678077_3      1\n",
              "\n",
              "[225 rows x 2 columns]"
            ],
            "text/html": [
              "\n",
              "  <div id=\"df-8085c714-a6f9-47a9-9121-f2fc01ec7ba0\">\n",
              "    <div class=\"colab-df-container\">\n",
              "      <div>\n",
              "<style scoped>\n",
              "    .dataframe tbody tr th:only-of-type {\n",
              "        vertical-align: middle;\n",
              "    }\n",
              "\n",
              "    .dataframe tbody tr th {\n",
              "        vertical-align: top;\n",
              "    }\n",
              "\n",
              "    .dataframe thead th {\n",
              "        text-align: right;\n",
              "    }\n",
              "</style>\n",
              "<table border=\"1\" class=\"dataframe\">\n",
              "  <thead>\n",
              "    <tr style=\"text-align: right;\">\n",
              "      <th></th>\n",
              "      <th>ID_img</th>\n",
              "      <th>class</th>\n",
              "    </tr>\n",
              "  </thead>\n",
              "  <tbody>\n",
              "    <tr>\n",
              "      <th>0</th>\n",
              "      <td>34020749806_42065966214_42113475048_2</td>\n",
              "      <td>2</td>\n",
              "    </tr>\n",
              "    <tr>\n",
              "      <th>1</th>\n",
              "      <td>80128313599_98196458454_79029076007_8</td>\n",
              "      <td>1</td>\n",
              "    </tr>\n",
              "    <tr>\n",
              "      <th>2</th>\n",
              "      <td>17820331238_48919943775_53688855463_7</td>\n",
              "      <td>2</td>\n",
              "    </tr>\n",
              "    <tr>\n",
              "      <th>3</th>\n",
              "      <td>70492442702_21083599816_22777758696_0</td>\n",
              "      <td>2</td>\n",
              "    </tr>\n",
              "    <tr>\n",
              "      <th>4</th>\n",
              "      <td>94790217016_17108156014_60668676818_2</td>\n",
              "      <td>1</td>\n",
              "    </tr>\n",
              "    <tr>\n",
              "      <th>...</th>\n",
              "      <td>...</td>\n",
              "      <td>...</td>\n",
              "    </tr>\n",
              "    <tr>\n",
              "      <th>220</th>\n",
              "      <td>60879177998_15763718934_82574532042_2</td>\n",
              "      <td>2</td>\n",
              "    </tr>\n",
              "    <tr>\n",
              "      <th>221</th>\n",
              "      <td>11758169966_65799840524_72283028069_1</td>\n",
              "      <td>1</td>\n",
              "    </tr>\n",
              "    <tr>\n",
              "      <th>222</th>\n",
              "      <td>9259096884_2251720133_44072689872_8</td>\n",
              "      <td>0</td>\n",
              "    </tr>\n",
              "    <tr>\n",
              "      <th>223</th>\n",
              "      <td>37732252922_9265441355_19052721018_3</td>\n",
              "      <td>1</td>\n",
              "    </tr>\n",
              "    <tr>\n",
              "      <th>224</th>\n",
              "      <td>26230096975_1198032682_52245678077_3</td>\n",
              "      <td>1</td>\n",
              "    </tr>\n",
              "  </tbody>\n",
              "</table>\n",
              "<p>225 rows × 2 columns</p>\n",
              "</div>\n",
              "      <button class=\"colab-df-convert\" onclick=\"convertToInteractive('df-8085c714-a6f9-47a9-9121-f2fc01ec7ba0')\"\n",
              "              title=\"Convert this dataframe to an interactive table.\"\n",
              "              style=\"display:none;\">\n",
              "        \n",
              "  <svg xmlns=\"http://www.w3.org/2000/svg\" height=\"24px\"viewBox=\"0 0 24 24\"\n",
              "       width=\"24px\">\n",
              "    <path d=\"M0 0h24v24H0V0z\" fill=\"none\"/>\n",
              "    <path d=\"M18.56 5.44l.94 2.06.94-2.06 2.06-.94-2.06-.94-.94-2.06-.94 2.06-2.06.94zm-11 1L8.5 8.5l.94-2.06 2.06-.94-2.06-.94L8.5 2.5l-.94 2.06-2.06.94zm10 10l.94 2.06.94-2.06 2.06-.94-2.06-.94-.94-2.06-.94 2.06-2.06.94z\"/><path d=\"M17.41 7.96l-1.37-1.37c-.4-.4-.92-.59-1.43-.59-.52 0-1.04.2-1.43.59L10.3 9.45l-7.72 7.72c-.78.78-.78 2.05 0 2.83L4 21.41c.39.39.9.59 1.41.59.51 0 1.02-.2 1.41-.59l7.78-7.78 2.81-2.81c.8-.78.8-2.07 0-2.86zM5.41 20L4 18.59l7.72-7.72 1.47 1.35L5.41 20z\"/>\n",
              "  </svg>\n",
              "      </button>\n",
              "      \n",
              "  <style>\n",
              "    .colab-df-container {\n",
              "      display:flex;\n",
              "      flex-wrap:wrap;\n",
              "      gap: 12px;\n",
              "    }\n",
              "\n",
              "    .colab-df-convert {\n",
              "      background-color: #E8F0FE;\n",
              "      border: none;\n",
              "      border-radius: 50%;\n",
              "      cursor: pointer;\n",
              "      display: none;\n",
              "      fill: #1967D2;\n",
              "      height: 32px;\n",
              "      padding: 0 0 0 0;\n",
              "      width: 32px;\n",
              "    }\n",
              "\n",
              "    .colab-df-convert:hover {\n",
              "      background-color: #E2EBFA;\n",
              "      box-shadow: 0px 1px 2px rgba(60, 64, 67, 0.3), 0px 1px 3px 1px rgba(60, 64, 67, 0.15);\n",
              "      fill: #174EA6;\n",
              "    }\n",
              "\n",
              "    [theme=dark] .colab-df-convert {\n",
              "      background-color: #3B4455;\n",
              "      fill: #D2E3FC;\n",
              "    }\n",
              "\n",
              "    [theme=dark] .colab-df-convert:hover {\n",
              "      background-color: #434B5C;\n",
              "      box-shadow: 0px 1px 3px 1px rgba(0, 0, 0, 0.15);\n",
              "      filter: drop-shadow(0px 1px 2px rgba(0, 0, 0, 0.3));\n",
              "      fill: #FFFFFF;\n",
              "    }\n",
              "  </style>\n",
              "\n",
              "      <script>\n",
              "        const buttonEl =\n",
              "          document.querySelector('#df-8085c714-a6f9-47a9-9121-f2fc01ec7ba0 button.colab-df-convert');\n",
              "        buttonEl.style.display =\n",
              "          google.colab.kernel.accessAllowed ? 'block' : 'none';\n",
              "\n",
              "        async function convertToInteractive(key) {\n",
              "          const element = document.querySelector('#df-8085c714-a6f9-47a9-9121-f2fc01ec7ba0');\n",
              "          const dataTable =\n",
              "            await google.colab.kernel.invokeFunction('convertToInteractive',\n",
              "                                                     [key], {});\n",
              "          if (!dataTable) return;\n",
              "\n",
              "          const docLinkHtml = 'Like what you see? Visit the ' +\n",
              "            '<a target=\"_blank\" href=https://colab.research.google.com/notebooks/data_table.ipynb>data table notebook</a>'\n",
              "            + ' to learn more about interactive tables.';\n",
              "          element.innerHTML = '';\n",
              "          dataTable['output_type'] = 'display_data';\n",
              "          await google.colab.output.renderOutput(dataTable, element);\n",
              "          const docLink = document.createElement('div');\n",
              "          docLink.innerHTML = docLinkHtml;\n",
              "          element.appendChild(docLink);\n",
              "        }\n",
              "      </script>\n",
              "    </div>\n",
              "  </div>\n",
              "  "
            ]
          },
          "metadata": {},
          "execution_count": 221
        }
      ]
    },
    {
      "cell_type": "code",
      "execution_count": null,
      "metadata": {
        "id": "8t3HskQKdjnD"
      },
      "outputs": [],
      "source": [
        "submit_df.to_csv(\"submit1.csv\", index=False)"
      ]
    },
    {
      "cell_type": "code",
      "source": [
        ""
      ],
      "metadata": {
        "id": "vhPiIf-TFkyy"
      },
      "execution_count": null,
      "outputs": []
    }
  ],
  "metadata": {
    "accelerator": "GPU",
    "colab": {
      "name": "Уфа_baseline.ipynb",
      "provenance": [],
      "collapsed_sections": [],
      "include_colab_link": true
    },
    "kernelspec": {
      "display_name": "Python 3 (ipykernel)",
      "language": "python",
      "name": "python3"
    },
    "language_info": {
      "codemirror_mode": {
        "name": "ipython",
        "version": 3
      },
      "file_extension": ".py",
      "mimetype": "text/x-python",
      "name": "python",
      "nbconvert_exporter": "python",
      "pygments_lexer": "ipython3",
      "version": "3.9.7"
    },
    "gpuClass": "standard"
  },
  "nbformat": 4,
  "nbformat_minor": 0
}